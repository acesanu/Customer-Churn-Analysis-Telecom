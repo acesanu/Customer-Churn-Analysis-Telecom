{
 "cells": [
  {
   "cell_type": "markdown",
   "metadata": {
    "id": "BuoAHB4MwKEn"
   },
   "source": [
    "\n",
    "# Prediction of Customer Churn Analysis\n"
   ]
  },
  {
   "cell_type": "markdown",
   "metadata": {
    "id": "Gpr65WorldNd"
   },
   "source": [
    "<a name = Section1></a>\n",
    "\n",
    "\n",
    "---\n",
    "# **1. Introduction**\n",
    "---\n",
    "\n",
    "- **Customer churn** (also known as **customer attrition**) refers to when a customer **ceases his or her relationship with a company**.\n",
    "\n",
    "- It is an **important key business metric** because the **cost** of **retaining** an **existing customer** is far **less expensive than acquiring a new one.**\n",
    "\n",
    "- <a href = \"http://oursocialtimes.com/70-of-companies-say-its-cheaper-to-retain-a-customer-than-acquire-one/\">**70%**</a> of **companies** **say** it’s **cheaper** to **retain** a **customer** **than acquire one** while the **cost** of **acquiring** a **new customer** can be as much as **seven times more expensive**.\n",
    "\n",
    "- **Example:** If you start your quarter with 400 customers and end with 380, your churn rate is 5% because you lost 5% of your customers.\n",
    "\n",
    "- **Businesses** typically **treat** a **customer** as **churned** **once** a **particular amoun**t of **time** has **elapsed** since the customer’s last interaction.\n",
    "\n",
    "- **Companies** usually **make** a **distinction** between **voluntary churn** and **involuntary churn**. \n",
    "\n",
    "  - **Voluntary Churn (Controllable):** It **occurs** due to a **decision** by the **customer** to switch to another company or service provider.\n",
    "\n",
    "  - **Involuntary Churn (Uncontrollable):** It **occurs** due to **circumstances** such as a **customer's relocation** to a long-term care facility, **death**, or the relocation to a distant location.\n",
    "\n",
    "<center><img src=\"https://raw.githubusercontent.com/insaid2018/Domain_Case_Studies/master/Telecom/Customer-Churn.jpg\" /></center>\n",
    "\n",
    "\n",
    "**<center><h3>Prevention of Customer Churn</h3></center>**\n",
    "\n",
    "- **Lean into your best customers:** Identify pool of customers that are most likely to cancel, and refocus your efforts to keep them on board.\n",
    "\n",
    "- **Be proactive with communication:** Reach out to your customers before they need you and get the most out of your product or service.\n",
    "\n",
    "- **Define a roadmap for your new customers:** A new product or service can be overwhelming for a customer. To ease the transition, it's helpful to set up a new customer onboarding process or roadmap to guide new customers through your product or service's features, functionality, and process.\n",
    "\n",
    "- **Offer incentives:** Give customers a reason to stick around by offering them something special -- a promo, discount, loyalty program, etc.\n",
    "\n",
    "- **Ask for feedback often:** Getting to the root of the specific issues plaguing your business requires you to take the time to collect feedback early and often.\n",
    "\n",
    "- **Analyze churn when it happens:** You should be using data before customers churn in order to build strategies to proactively prevent it.First, start with analysis. \n",
    "  - When are customers most frequently churning? \n",
    "  - Is it 30, 60, or 90 days after they first start using your product or service? \n",
    "  - Does churn happen if customers go a specific number of days without using the product or service?\n",
    "\n",
    "- **Stay competitive:** Market conditions are constantly changing. Businesses focused on what's next -- trends, technology, and product advancements -- position themselves in a good spot in terms of avoiding disruption or \"the next big thing.\"\n",
    "\n",
    "\n"
   ]
  },
  {
   "cell_type": "markdown",
   "metadata": {
    "id": "1mTUFT4jN8-z"
   },
   "source": [
    "<a name = Section2></a>\n",
    "\n",
    "---\n",
    "# **2. Problem Statement**\n",
    "---\n",
    "\n",
    "- **Companies** have been **experiencing** a **high churn rate** more than ever **due to** the **rapid change** in the **development** of the **technology**.\n",
    "\n",
    "- **Companies** are **under more pressure** to **generate revenue** from other **areas** or **gain new clients**.\n",
    "\n",
    "- **For example,** **4G technology** has made **great impact** on the **digital life**.\n",
    "\n",
    "- **Companies** have **either drowned or shaken hands** to survive in such tough competition.\n",
    "\n",
    "- **For example: Vodafone and IDEA** have **made a pact** with each other **to provide 4G services**.\n",
    "\n",
    "\n",
    "<center><img src=\"https://raw.githubusercontent.com/insaid2018/Domain_Case_Studies/master/Telecom/churn2.png\"/></center>\n",
    "\n",
    "\n",
    "**<h4>Scenario:</h4>** \n",
    "\n",
    "- **Aster Rhino**, a **USA** based company that **provides** **telecommunication** **services** to the **customers**.\n",
    "\n",
    "- They have been **providing 3G services since 2008** and **started providing 4G services after its launch**.\n",
    "\n",
    "- Due to **boom in telecomm industry** with **4G technology**, it has **become pain in the neck** for the **company** to **retain** their **customers**.\n",
    "\n",
    "- They are **in the middle** to **set more cell sites of 4G network** to **improve** their **4G services**.\n",
    "\n",
    "- It is **plausible** for **customer** to **choose** **4G services over 3G services** due to **benifits of cost, speed, latency etc.**\n",
    "\n",
    "- Till now they have been **using manual traditional ways** which **now** has **become** a **problem** to **handle** due to **work complication**.\n",
    "\n",
    "- They have **detailed history** of their **customers** and are **looking** for an **automated solution** to **identify** the **likeliness** of **customer churning** from **using** their **services**.\n",
    "\n",
    "- In turn, **they decided** to **find** more **optimistic way** and **hired a team of data scientists** to **solve this problem.** **Consider you are one of them...**\n",
    "\n",
    "|Target Feature|Potential Values|\n",
    "| :-- | :-- |\n",
    "|churn|False: Did not churn|\n",
    "||True: Churned|"
   ]
  },
  {
   "cell_type": "markdown",
   "metadata": {
    "id": "ICMXYO7gOXfG"
   },
   "source": [
    "---\n",
    "<a name = Section3></a>\n",
    "# **3. Installing and importing libraries**\n",
    "---"
   ]
  },
  {
   "cell_type": "markdown",
   "metadata": {
    "id": "Mke3MoLnOceA"
   },
   "source": [
    "<a name = Section31></a>\n",
    "### **3.1 Installing Libraries**"
   ]
  },
  {
   "cell_type": "code",
   "execution_count": null,
   "metadata": {
    "colab": {
     "base_uri": "https://localhost:8080/"
    },
    "executionInfo": {
     "elapsed": 19409,
     "status": "ok",
     "timestamp": 1675681659371,
     "user": {
      "displayName": "Yash Chauhan",
      "userId": "03194567605433747724"
     },
     "user_tz": -330
    },
    "id": "9wO-DKhDghsn",
    "outputId": "dced09a7-870a-458e-d858-4ad0f50bb870"
   },
   "outputs": [
    {
     "name": "stdout",
     "output_type": "stream",
     "text": [
      "\u001b[?25l     \u001b[90m━━━━━━━━━━━━━━━━━━━━━━━━━━━━━━━━━━━━━━━━\u001b[0m \u001b[32m0.0/1.6 MB\u001b[0m \u001b[31m?\u001b[0m eta \u001b[36m-:--:--\u001b[0m\r",
      "\u001b[2K     \u001b[91m━━━━━━━━━━━━━━━━━━━━━━━━━━━━━━━━\u001b[0m\u001b[91m╸\u001b[0m\u001b[90m━━━━━━━\u001b[0m \u001b[32m1.3/1.6 MB\u001b[0m \u001b[31m46.6 MB/s\u001b[0m eta \u001b[36m0:00:01\u001b[0m\r",
      "\u001b[2K     \u001b[91m━━━━━━━━━━━━━━━━━━━━━━━━━━━━━━━━━━━━━━━\u001b[0m\u001b[91m╸\u001b[0m \u001b[32m1.6/1.6 MB\u001b[0m \u001b[31m37.6 MB/s\u001b[0m eta \u001b[36m0:00:01\u001b[0m\r",
      "\u001b[2K     \u001b[90m━━━━━━━━━━━━━━━━━━━━━━━━━━━━━━━━━━━━━━━━\u001b[0m \u001b[32m1.6/1.6 MB\u001b[0m \u001b[31m20.4 MB/s\u001b[0m eta \u001b[36m0:00:00\u001b[0m\n",
      "\u001b[?25h"
     ]
    }
   ],
   "source": [
    "!pip install -q datascience                   # Package that is required by pandas profiling\n",
    "!pip install -q pandas-profiling              # Toolbox for Generating Statistics Report\n",
    "!pip install -q yellowbrick                   # Toolbox for Measuring Machine Performance"
   ]
  },
  {
   "cell_type": "markdown",
   "metadata": {
    "id": "ZNPRhM3aOnfN"
   },
   "source": [
    "<a name = Section32></a>\n",
    "### **3.2 Upgrading Libraries**\n",
    "\n",
    "**Note:** \n",
    "\n",
    "- After upgrading, you need to restart the runtime. \n",
    "\n",
    "- Make sure not to execute the cell above (3.1) and below (3.2) again after restarting the runtime."
   ]
  },
  {
   "cell_type": "code",
   "execution_count": null,
   "metadata": {
    "colab": {
     "base_uri": "https://localhost:8080/"
    },
    "executionInfo": {
     "elapsed": 40679,
     "status": "ok",
     "timestamp": 1675681700040,
     "user": {
      "displayName": "Yash Chauhan",
      "userId": "03194567605433747724"
     },
     "user_tz": -330
    },
    "id": "3Kj6kHj2OmRK",
    "outputId": "a39ec394-e7ef-445c-c6d6-14e292aa9ed3"
   },
   "outputs": [
    {
     "name": "stdout",
     "output_type": "stream",
     "text": [
      "\u001b[2K     \u001b[90m━━━━━━━━━━━━━━━━━━━━━━━━━━━━━━━━━━━━━━\u001b[0m \u001b[32m324.4/324.4 KB\u001b[0m \u001b[31m13.2 MB/s\u001b[0m eta \u001b[36m0:00:00\u001b[0m\n",
      "\u001b[2K     \u001b[90m━━━━━━━━━━━━━━━━━━━━━━━━━━━━━━━━━━━━━━\u001b[0m \u001b[32m344.5/344.5 KB\u001b[0m \u001b[31m25.9 MB/s\u001b[0m eta \u001b[36m0:00:00\u001b[0m\n",
      "\u001b[2K     \u001b[90m━━━━━━━━━━━━━━━━━━━━━━━━━━━━━━━━━━━━━━━━\u001b[0m \u001b[32m9.9/9.9 MB\u001b[0m \u001b[31m90.5 MB/s\u001b[0m eta \u001b[36m0:00:00\u001b[0m\n",
      "\u001b[2K     \u001b[90m━━━━━━━━━━━━━━━━━━━━━━━━━━━━━━━━━━━━━━\u001b[0m \u001b[32m102.7/102.7 KB\u001b[0m \u001b[31m11.3 MB/s\u001b[0m eta \u001b[36m0:00:00\u001b[0m\n",
      "\u001b[2K     \u001b[90m━━━━━━━━━━━━━━━━━━━━━━━━━━━━━━━━━━━━━━\u001b[0m \u001b[32m679.5/679.5 KB\u001b[0m \u001b[31m37.6 MB/s\u001b[0m eta \u001b[36m0:00:00\u001b[0m\n",
      "\u001b[?25h  Preparing metadata (setup.py) ... \u001b[?25l\u001b[?25hdone\n",
      "\u001b[2K     \u001b[90m━━━━━━━━━━━━━━━━━━━━━━━━━━━━━━━━━━━━━━━━\u001b[0m \u001b[32m4.7/4.7 MB\u001b[0m \u001b[31m92.3 MB/s\u001b[0m eta \u001b[36m0:00:00\u001b[0m\n",
      "\u001b[2K     \u001b[90m━━━━━━━━━━━━━━━━━━━━━━━━━━━━━━━━━━━━━━\u001b[0m \u001b[32m296.5/296.5 KB\u001b[0m \u001b[31m29.2 MB/s\u001b[0m eta \u001b[36m0:00:00\u001b[0m\n",
      "\u001b[?25h  Building wheel for htmlmin (setup.py) ... \u001b[?25l\u001b[?25hdone\n"
     ]
    }
   ],
   "source": [
    "!pip install -q --upgrade pandas-profiling\n",
    "!pip install -q --upgrade yellowbrick"
   ]
  },
  {
   "cell_type": "markdown",
   "metadata": {
    "id": "SfvuaIyeOe90"
   },
   "source": [
    "<a name = Section33></a>\n",
    "### **3.3 Importing Libraries**"
   ]
  },
  {
   "cell_type": "code",
   "execution_count": null,
   "metadata": {
    "colab": {
     "base_uri": "https://localhost:8080/"
    },
    "executionInfo": {
     "elapsed": 4365,
     "status": "ok",
     "timestamp": 1675681704396,
     "user": {
      "displayName": "Yash Chauhan",
      "userId": "03194567605433747724"
     },
     "user_tz": -330
    },
    "id": "2p9dZ98JvRZj",
    "outputId": "a1f9f9a8-98c0-4820-9dd1-f280c3c4f4b1"
   },
   "outputs": [
    {
     "name": "stderr",
     "output_type": "stream",
     "text": [
      "<ipython-input-4-81ec32564e14>:3: DeprecationWarning: `import pandas_profiling` is going to be deprecated by April 1st. Please use `import ydata_profiling` instead.\n",
      "  from pandas_profiling import ProfileReport\n",
      "<ipython-input-4-81ec32564e14>:4: FutureWarning: pandas.util.testing is deprecated. Use the functions in the public API at pandas.testing instead.\n",
      "  import pandas.util.testing as tm\n"
     ]
    }
   ],
   "source": [
    "# For Panel Data Analysis\n",
    "import pandas as pd\n",
    "from pandas_profiling import ProfileReport\n",
    "import pandas.util.testing as tm\n",
    "pd.set_option('display.max_columns', None)\n",
    "pd.set_option('display.max_colwidth', None)\n",
    "pd.set_option('display.max_rows', None)\n",
    "pd.set_option('mode.chained_assignment', None)\n",
    "\n",
    "# For Numerical Python\n",
    "import numpy as np\n",
    "\n",
    "# For Data Visualization\n",
    "import matplotlib.pyplot as plt\n",
    "%matplotlib inline\n",
    "import seaborn as sns\n",
    "\n",
    "from random import randint\n",
    "\n",
    "# For Feature Selection\n",
    "import seaborn as sns\n",
    "from sklearn.feature_selection import SelectFromModel\n",
    "\n",
    "# For Custom Transformers\n",
    "from sklearn.base import BaseEstimator, TransformerMixin\n",
    "\n",
    "# For Imputation\n",
    "from sklearn.impute import KNNImputer\n",
    "\n",
    "# For Feature Importances\n",
    "from yellowbrick.model_selection import FeatureImportances\n",
    "\n",
    "# For metrics evaluation\n",
    "from sklearn.metrics import classification_report, plot_confusion_matrix, precision_recall_curve\n",
    "\n",
    "# For Data Modeling\n",
    "from sklearn.model_selection import train_test_split, GridSearchCV\n",
    "from sklearn.linear_model import LogisticRegression\n",
    "from sklearn.ensemble import RandomForestClassifier\n",
    "from xgboost import XGBClassifier\n",
    "\n",
    "# To handle class imbalance problem\n",
    "from imblearn.over_sampling import SMOTE\n",
    "\n",
    "# To Disable Warnings\n",
    "import warnings\n",
    "warnings.filterwarnings(action = 'ignore')"
   ]
  },
  {
   "cell_type": "markdown",
   "metadata": {
    "id": "IyAPi7ArOy_t"
   },
   "source": [
    "<a name = Section4></a>\n",
    "\n",
    "---\n",
    "# **4. Data Acquisition and Description**\n",
    "---\n",
    "\n",
    "- This dataset is based on the details of customers' account accumulated by Aster Rhino and is accessible <a href = \"https://storage.googleapis.com/telecom-analytics/TeleChurnData.csv\">**here**</a>.\n",
    "\n",
    "\n",
    "| Records | Features | Dataset Size |\n",
    "| :-- | :-- | :-- |\n",
    "| 3333 | 21 | 303 KB |\n",
    " \n",
    "\n",
    "| Id | Features | Description |\n",
    "| :-- | :--| :--| \n",
    "|01| **State** |The state of the customer. Contains: [KS, OH, NJ, OK, AL, MA, MO, LA, WV, IN, RI, IA, MT, NY, ID, VT, VA, TX, FL, CO,|\n",
    "|||AZ, SC, NE, WY, HI, IL, NH, GA, AK, MD, AR, WI, OR, MI, DE, UT, CA, MN, SD, NC, WA, NM, NV, DC, KY, ME, MS, TN, PA, CT, ND]|\n",
    "|02| **AccountLength** |Number of days since the customer started using services. Range: [1, 243]|\n",
    "|03| **AreaCode** |The area code of the customer. Contains: [415, 408, 510]|\n",
    "|04| **PhoneNumber** |A unique phone number of the customer. Range: [3271058, 4229964]|\n",
    "|05| **InternationalPlan?** |Whether the account has an active international plan or not. Contains: [No, Yes]|\n",
    "|06| **VoiceMailPlan?** |Whether the account has an active voice mail plan or not. Contains: [No, Yes]|\n",
    "|07| **NumEmailMessages** |Total number of voice mail messages consumed. Range: [0, 51]|\n",
    "|08| **TotalMorMin** |Total minutes consumed in the morning. Range: [0.0, 350.8]|\n",
    "|09| **TotalMorCalls** |Total number of calls consumed in the morning. Range: [0, 165]|\n",
    "|10| **TotalMorCharge** |Total charges during morning (in cent). Range: [0.0, 59.64]|\n",
    "|11| **TotalEveMin** |Total minutes consumed in the evening. Range: [0.0, 363.7]|\n",
    "|12| **TotalEveCalls** |Total number of calls consumed in the evening. Range: [0, 170]|\n",
    "|13| **TotalEveCharge** |Total charges during evening (in cent). Range: [0.0, 30.91]|\n",
    "|14| **TotalNightMin** |Total number of minutes consumed in the night. Range: [23.2, 395.0]|\n",
    "|15| **TotalNightCalls** |Total number of calls consumed in the night. Range: [33, 175]|\n",
    "|16| **TotalNightCharge** |Total charges during night (in cent). Range: [1.04, 17.77]|\n",
    "|17| **TotalIntMinutes** |Total international minutes consumed if subscribed services. Range: [0.0, 20.0]|\n",
    "|18| **TotalIntCalls** |Total international calls consumed. Range: [0, 20]|\n",
    "|19| **TotalIntCharge** |Total international charges (in cent). Range: [0.0, 5.4]|\n",
    "|20| **CustomerServiceCalls** |Total number of customer service calls consumed by customer. Range: [0, 9]|\n",
    "|21| **Churn?** |Whether the customer has churned or not. Contains: [False, True]|"
   ]
  },
  {
   "cell_type": "code",
   "execution_count": null,
   "metadata": {
    "colab": {
     "base_uri": "https://localhost:8080/",
     "height": 287
    },
    "executionInfo": {
     "elapsed": 3578,
     "status": "ok",
     "timestamp": 1675681707969,
     "user": {
      "displayName": "Yash Chauhan",
      "userId": "03194567605433747724"
     },
     "user_tz": -330
    },
    "id": "_CK3pCSavRYA",
    "outputId": "3d8240c0-6ff9-494a-fadc-f3f6960f5d94"
   },
   "outputs": [
    {
     "name": "stdout",
     "output_type": "stream",
     "text": [
      "Data Shape: (3833, 21)\n"
     ]
    },
    {
     "data": {
      "text/html": [
       "\n",
       "  <div id=\"df-5138543b-b219-4451-a22a-b15c279d3e31\">\n",
       "    <div class=\"colab-df-container\">\n",
       "      <div>\n",
       "<style scoped>\n",
       "    .dataframe tbody tr th:only-of-type {\n",
       "        vertical-align: middle;\n",
       "    }\n",
       "\n",
       "    .dataframe tbody tr th {\n",
       "        vertical-align: top;\n",
       "    }\n",
       "\n",
       "    .dataframe thead th {\n",
       "        text-align: right;\n",
       "    }\n",
       "</style>\n",
       "<table border=\"1\" class=\"dataframe\">\n",
       "  <thead>\n",
       "    <tr style=\"text-align: right;\">\n",
       "      <th></th>\n",
       "      <th>State</th>\n",
       "      <th>AccountLength</th>\n",
       "      <th>AreaCode</th>\n",
       "      <th>PhoneNumber</th>\n",
       "      <th>InternationalPlan?</th>\n",
       "      <th>VoiceMailPlan?</th>\n",
       "      <th>NumEmailMessages</th>\n",
       "      <th>TotalMorMin</th>\n",
       "      <th>TotalMorCalls</th>\n",
       "      <th>TotalMorCharge</th>\n",
       "      <th>TotalEveMin</th>\n",
       "      <th>TotalEveCalls</th>\n",
       "      <th>TotalEveCharge</th>\n",
       "      <th>TotalNightMin</th>\n",
       "      <th>TotalNightCalls</th>\n",
       "      <th>TotalNightCharge</th>\n",
       "      <th>TotalIntMinutes</th>\n",
       "      <th>TotalIntCalls</th>\n",
       "      <th>TotalIntCharge</th>\n",
       "      <th>CustomerServiceCalls</th>\n",
       "      <th>Churn?</th>\n",
       "    </tr>\n",
       "  </thead>\n",
       "  <tbody>\n",
       "    <tr>\n",
       "      <th>0</th>\n",
       "      <td>KS</td>\n",
       "      <td>128</td>\n",
       "      <td>415</td>\n",
       "      <td>3824657</td>\n",
       "      <td>No</td>\n",
       "      <td>Yes</td>\n",
       "      <td>25</td>\n",
       "      <td>265.1</td>\n",
       "      <td>110</td>\n",
       "      <td>45.07</td>\n",
       "      <td>197.4</td>\n",
       "      <td>99</td>\n",
       "      <td>16.78</td>\n",
       "      <td>244.7</td>\n",
       "      <td>91</td>\n",
       "      <td>11.01</td>\n",
       "      <td>10.0</td>\n",
       "      <td>3</td>\n",
       "      <td>2.70</td>\n",
       "      <td>1</td>\n",
       "      <td>False</td>\n",
       "    </tr>\n",
       "    <tr>\n",
       "      <th>1</th>\n",
       "      <td>OH</td>\n",
       "      <td>107</td>\n",
       "      <td>415</td>\n",
       "      <td>3717191</td>\n",
       "      <td>No</td>\n",
       "      <td>Yes</td>\n",
       "      <td>26</td>\n",
       "      <td>161.6</td>\n",
       "      <td>123</td>\n",
       "      <td>27.47</td>\n",
       "      <td>195.5</td>\n",
       "      <td>103</td>\n",
       "      <td>16.62</td>\n",
       "      <td>254.4</td>\n",
       "      <td>103</td>\n",
       "      <td>11.45</td>\n",
       "      <td>13.7</td>\n",
       "      <td>3</td>\n",
       "      <td>3.70</td>\n",
       "      <td>1</td>\n",
       "      <td>False</td>\n",
       "    </tr>\n",
       "    <tr>\n",
       "      <th>2</th>\n",
       "      <td>NJ</td>\n",
       "      <td>137</td>\n",
       "      <td>415</td>\n",
       "      <td>3581921</td>\n",
       "      <td>No</td>\n",
       "      <td>No</td>\n",
       "      <td>0</td>\n",
       "      <td>243.4</td>\n",
       "      <td>114</td>\n",
       "      <td>41.38</td>\n",
       "      <td>121.2</td>\n",
       "      <td>110</td>\n",
       "      <td>10.30</td>\n",
       "      <td>162.6</td>\n",
       "      <td>104</td>\n",
       "      <td>7.32</td>\n",
       "      <td>12.2</td>\n",
       "      <td>5</td>\n",
       "      <td>3.29</td>\n",
       "      <td>0</td>\n",
       "      <td>False</td>\n",
       "    </tr>\n",
       "    <tr>\n",
       "      <th>3</th>\n",
       "      <td>OH</td>\n",
       "      <td>84</td>\n",
       "      <td>408</td>\n",
       "      <td>3759999</td>\n",
       "      <td>Yes</td>\n",
       "      <td>No</td>\n",
       "      <td>0</td>\n",
       "      <td>299.4</td>\n",
       "      <td>71</td>\n",
       "      <td>50.90</td>\n",
       "      <td>61.9</td>\n",
       "      <td>88</td>\n",
       "      <td>5.26</td>\n",
       "      <td>196.9</td>\n",
       "      <td>89</td>\n",
       "      <td>8.86</td>\n",
       "      <td>6.6</td>\n",
       "      <td>7</td>\n",
       "      <td>1.78</td>\n",
       "      <td>2</td>\n",
       "      <td>False</td>\n",
       "    </tr>\n",
       "    <tr>\n",
       "      <th>4</th>\n",
       "      <td>OK</td>\n",
       "      <td>75</td>\n",
       "      <td>415</td>\n",
       "      <td>3306626</td>\n",
       "      <td>Yes</td>\n",
       "      <td>No</td>\n",
       "      <td>0</td>\n",
       "      <td>166.7</td>\n",
       "      <td>113</td>\n",
       "      <td>28.34</td>\n",
       "      <td>148.3</td>\n",
       "      <td>122</td>\n",
       "      <td>12.61</td>\n",
       "      <td>186.9</td>\n",
       "      <td>121</td>\n",
       "      <td>8.41</td>\n",
       "      <td>10.1</td>\n",
       "      <td>3</td>\n",
       "      <td>2.73</td>\n",
       "      <td>3</td>\n",
       "      <td>False</td>\n",
       "    </tr>\n",
       "  </tbody>\n",
       "</table>\n",
       "</div>\n",
       "      <button class=\"colab-df-convert\" onclick=\"convertToInteractive('df-5138543b-b219-4451-a22a-b15c279d3e31')\"\n",
       "              title=\"Convert this dataframe to an interactive table.\"\n",
       "              style=\"display:none;\">\n",
       "        \n",
       "  <svg xmlns=\"http://www.w3.org/2000/svg\" height=\"24px\"viewBox=\"0 0 24 24\"\n",
       "       width=\"24px\">\n",
       "    <path d=\"M0 0h24v24H0V0z\" fill=\"none\"/>\n",
       "    <path d=\"M18.56 5.44l.94 2.06.94-2.06 2.06-.94-2.06-.94-.94-2.06-.94 2.06-2.06.94zm-11 1L8.5 8.5l.94-2.06 2.06-.94-2.06-.94L8.5 2.5l-.94 2.06-2.06.94zm10 10l.94 2.06.94-2.06 2.06-.94-2.06-.94-.94-2.06-.94 2.06-2.06.94z\"/><path d=\"M17.41 7.96l-1.37-1.37c-.4-.4-.92-.59-1.43-.59-.52 0-1.04.2-1.43.59L10.3 9.45l-7.72 7.72c-.78.78-.78 2.05 0 2.83L4 21.41c.39.39.9.59 1.41.59.51 0 1.02-.2 1.41-.59l7.78-7.78 2.81-2.81c.8-.78.8-2.07 0-2.86zM5.41 20L4 18.59l7.72-7.72 1.47 1.35L5.41 20z\"/>\n",
       "  </svg>\n",
       "      </button>\n",
       "      \n",
       "  <style>\n",
       "    .colab-df-container {\n",
       "      display:flex;\n",
       "      flex-wrap:wrap;\n",
       "      gap: 12px;\n",
       "    }\n",
       "\n",
       "    .colab-df-convert {\n",
       "      background-color: #E8F0FE;\n",
       "      border: none;\n",
       "      border-radius: 50%;\n",
       "      cursor: pointer;\n",
       "      display: none;\n",
       "      fill: #1967D2;\n",
       "      height: 32px;\n",
       "      padding: 0 0 0 0;\n",
       "      width: 32px;\n",
       "    }\n",
       "\n",
       "    .colab-df-convert:hover {\n",
       "      background-color: #E2EBFA;\n",
       "      box-shadow: 0px 1px 2px rgba(60, 64, 67, 0.3), 0px 1px 3px 1px rgba(60, 64, 67, 0.15);\n",
       "      fill: #174EA6;\n",
       "    }\n",
       "\n",
       "    [theme=dark] .colab-df-convert {\n",
       "      background-color: #3B4455;\n",
       "      fill: #D2E3FC;\n",
       "    }\n",
       "\n",
       "    [theme=dark] .colab-df-convert:hover {\n",
       "      background-color: #434B5C;\n",
       "      box-shadow: 0px 1px 3px 1px rgba(0, 0, 0, 0.15);\n",
       "      filter: drop-shadow(0px 1px 2px rgba(0, 0, 0, 0.3));\n",
       "      fill: #FFFFFF;\n",
       "    }\n",
       "  </style>\n",
       "\n",
       "      <script>\n",
       "        const buttonEl =\n",
       "          document.querySelector('#df-5138543b-b219-4451-a22a-b15c279d3e31 button.colab-df-convert');\n",
       "        buttonEl.style.display =\n",
       "          google.colab.kernel.accessAllowed ? 'block' : 'none';\n",
       "\n",
       "        async function convertToInteractive(key) {\n",
       "          const element = document.querySelector('#df-5138543b-b219-4451-a22a-b15c279d3e31');\n",
       "          const dataTable =\n",
       "            await google.colab.kernel.invokeFunction('convertToInteractive',\n",
       "                                                     [key], {});\n",
       "          if (!dataTable) return;\n",
       "\n",
       "          const docLinkHtml = 'Like what you see? Visit the ' +\n",
       "            '<a target=\"_blank\" href=https://colab.research.google.com/notebooks/data_table.ipynb>data table notebook</a>'\n",
       "            + ' to learn more about interactive tables.';\n",
       "          element.innerHTML = '';\n",
       "          dataTable['output_type'] = 'display_data';\n",
       "          await google.colab.output.renderOutput(dataTable, element);\n",
       "          const docLink = document.createElement('div');\n",
       "          docLink.innerHTML = docLinkHtml;\n",
       "          element.appendChild(docLink);\n",
       "        }\n",
       "      </script>\n",
       "    </div>\n",
       "  </div>\n",
       "  "
      ],
      "text/plain": [
       "  State  AccountLength  AreaCode  PhoneNumber InternationalPlan?  \\\n",
       "0    KS            128       415      3824657                 No   \n",
       "1    OH            107       415      3717191                 No   \n",
       "2    NJ            137       415      3581921                 No   \n",
       "3    OH             84       408      3759999                Yes   \n",
       "4    OK             75       415      3306626                Yes   \n",
       "\n",
       "  VoiceMailPlan?  NumEmailMessages  TotalMorMin  TotalMorCalls  \\\n",
       "0            Yes                25        265.1            110   \n",
       "1            Yes                26        161.6            123   \n",
       "2             No                 0        243.4            114   \n",
       "3             No                 0        299.4             71   \n",
       "4             No                 0        166.7            113   \n",
       "\n",
       "   TotalMorCharge  TotalEveMin  TotalEveCalls  TotalEveCharge  TotalNightMin  \\\n",
       "0           45.07        197.4             99           16.78          244.7   \n",
       "1           27.47        195.5            103           16.62          254.4   \n",
       "2           41.38        121.2            110           10.30          162.6   \n",
       "3           50.90         61.9             88            5.26          196.9   \n",
       "4           28.34        148.3            122           12.61          186.9   \n",
       "\n",
       "   TotalNightCalls  TotalNightCharge  TotalIntMinutes  TotalIntCalls  \\\n",
       "0               91             11.01             10.0              3   \n",
       "1              103             11.45             13.7              3   \n",
       "2              104              7.32             12.2              5   \n",
       "3               89              8.86              6.6              7   \n",
       "4              121              8.41             10.1              3   \n",
       "\n",
       "   TotalIntCharge  CustomerServiceCalls  Churn?  \n",
       "0            2.70                     1   False  \n",
       "1            3.70                     1   False  \n",
       "2            3.29                     0   False  \n",
       "3            1.78                     2   False  \n",
       "4            2.73                     3   False  "
      ]
     },
     "execution_count": 5,
     "metadata": {},
     "output_type": "execute_result"
    }
   ],
   "source": [
    "data = pd.read_csv('https://storage.googleapis.com/telecom-analytics/TeleChurnData.csv')\n",
    "print('Data Shape:', data.shape)\n",
    "data.head()"
   ]
  },
  {
   "cell_type": "markdown",
   "metadata": {
    "id": "69VZRpdm24Df"
   },
   "source": [
    "<a name = Section41></a>\n",
    "### **4.1 Data Description**\n",
    "\n",
    "- In this section we will get **information about the data** and see some observations."
   ]
  },
  {
   "cell_type": "code",
   "execution_count": null,
   "metadata": {
    "colab": {
     "base_uri": "https://localhost:8080/",
     "height": 382
    },
    "executionInfo": {
     "elapsed": 29,
     "status": "ok",
     "timestamp": 1675681707970,
     "user": {
      "displayName": "Yash Chauhan",
      "userId": "03194567605433747724"
     },
     "user_tz": -330
    },
    "id": "c8D-lTHm27XT",
    "outputId": "d48eb26e-0d08-4d20-fdd7-b09360caffdc"
   },
   "outputs": [
    {
     "name": "stdout",
     "output_type": "stream",
     "text": [
      "Described Column Length: 17\n"
     ]
    },
    {
     "data": {
      "text/html": [
       "\n",
       "  <div id=\"df-4bc9116c-7712-41f1-8f87-bea9666b05f7\">\n",
       "    <div class=\"colab-df-container\">\n",
       "      <div>\n",
       "<style scoped>\n",
       "    .dataframe tbody tr th:only-of-type {\n",
       "        vertical-align: middle;\n",
       "    }\n",
       "\n",
       "    .dataframe tbody tr th {\n",
       "        vertical-align: top;\n",
       "    }\n",
       "\n",
       "    .dataframe thead th {\n",
       "        text-align: right;\n",
       "    }\n",
       "</style>\n",
       "<table border=\"1\" class=\"dataframe\">\n",
       "  <thead>\n",
       "    <tr style=\"text-align: right;\">\n",
       "      <th></th>\n",
       "      <th>AccountLength</th>\n",
       "      <th>AreaCode</th>\n",
       "      <th>PhoneNumber</th>\n",
       "      <th>NumEmailMessages</th>\n",
       "      <th>TotalMorMin</th>\n",
       "      <th>TotalMorCalls</th>\n",
       "      <th>TotalMorCharge</th>\n",
       "      <th>TotalEveMin</th>\n",
       "      <th>TotalEveCalls</th>\n",
       "      <th>TotalEveCharge</th>\n",
       "      <th>TotalNightMin</th>\n",
       "      <th>TotalNightCalls</th>\n",
       "      <th>TotalNightCharge</th>\n",
       "      <th>TotalIntMinutes</th>\n",
       "      <th>TotalIntCalls</th>\n",
       "      <th>TotalIntCharge</th>\n",
       "      <th>CustomerServiceCalls</th>\n",
       "    </tr>\n",
       "  </thead>\n",
       "  <tbody>\n",
       "    <tr>\n",
       "      <th>count</th>\n",
       "      <td>3833.000000</td>\n",
       "      <td>3833.000000</td>\n",
       "      <td>3.833000e+03</td>\n",
       "      <td>3833.000000</td>\n",
       "      <td>3803.000000</td>\n",
       "      <td>3833.000000</td>\n",
       "      <td>3833.000000</td>\n",
       "      <td>3822.000000</td>\n",
       "      <td>3833.000000</td>\n",
       "      <td>3833.000000</td>\n",
       "      <td>3815.000000</td>\n",
       "      <td>3833.000000</td>\n",
       "      <td>3833.000000</td>\n",
       "      <td>3833.000000</td>\n",
       "      <td>3833.000000</td>\n",
       "      <td>3833.000000</td>\n",
       "      <td>3833.000000</td>\n",
       "    </tr>\n",
       "    <tr>\n",
       "      <th>mean</th>\n",
       "      <td>100.697626</td>\n",
       "      <td>437.447691</td>\n",
       "      <td>3.746407e+06</td>\n",
       "      <td>8.227759</td>\n",
       "      <td>180.078517</td>\n",
       "      <td>100.360292</td>\n",
       "      <td>30.614456</td>\n",
       "      <td>200.685924</td>\n",
       "      <td>100.124446</td>\n",
       "      <td>17.057782</td>\n",
       "      <td>200.644325</td>\n",
       "      <td>100.216280</td>\n",
       "      <td>9.029924</td>\n",
       "      <td>10.241247</td>\n",
       "      <td>4.495173</td>\n",
       "      <td>2.765656</td>\n",
       "      <td>1.559875</td>\n",
       "    </tr>\n",
       "    <tr>\n",
       "      <th>std</th>\n",
       "      <td>39.872358</td>\n",
       "      <td>42.506606</td>\n",
       "      <td>2.758814e+05</td>\n",
       "      <td>13.724437</td>\n",
       "      <td>54.664611</td>\n",
       "      <td>20.055868</td>\n",
       "      <td>9.292341</td>\n",
       "      <td>51.180629</td>\n",
       "      <td>19.930592</td>\n",
       "      <td>4.346913</td>\n",
       "      <td>50.792405</td>\n",
       "      <td>19.542829</td>\n",
       "      <td>2.282705</td>\n",
       "      <td>2.800544</td>\n",
       "      <td>2.476095</td>\n",
       "      <td>0.756138</td>\n",
       "      <td>1.319766</td>\n",
       "    </tr>\n",
       "    <tr>\n",
       "      <th>min</th>\n",
       "      <td>1.000000</td>\n",
       "      <td>408.000000</td>\n",
       "      <td>3.271058e+06</td>\n",
       "      <td>0.000000</td>\n",
       "      <td>0.000000</td>\n",
       "      <td>0.000000</td>\n",
       "      <td>0.000000</td>\n",
       "      <td>0.000000</td>\n",
       "      <td>0.000000</td>\n",
       "      <td>0.000000</td>\n",
       "      <td>23.200000</td>\n",
       "      <td>33.000000</td>\n",
       "      <td>1.040000</td>\n",
       "      <td>0.000000</td>\n",
       "      <td>0.000000</td>\n",
       "      <td>0.000000</td>\n",
       "      <td>0.000000</td>\n",
       "    </tr>\n",
       "    <tr>\n",
       "      <th>25%</th>\n",
       "      <td>73.000000</td>\n",
       "      <td>415.000000</td>\n",
       "      <td>3.506473e+06</td>\n",
       "      <td>0.000000</td>\n",
       "      <td>144.000000</td>\n",
       "      <td>87.000000</td>\n",
       "      <td>24.480000</td>\n",
       "      <td>165.800000</td>\n",
       "      <td>87.000000</td>\n",
       "      <td>14.090000</td>\n",
       "      <td>166.900000</td>\n",
       "      <td>87.000000</td>\n",
       "      <td>7.520000</td>\n",
       "      <td>8.500000</td>\n",
       "      <td>3.000000</td>\n",
       "      <td>2.300000</td>\n",
       "      <td>1.000000</td>\n",
       "    </tr>\n",
       "    <tr>\n",
       "      <th>50%</th>\n",
       "      <td>100.000000</td>\n",
       "      <td>415.000000</td>\n",
       "      <td>3.749107e+06</td>\n",
       "      <td>0.000000</td>\n",
       "      <td>179.900000</td>\n",
       "      <td>101.000000</td>\n",
       "      <td>30.600000</td>\n",
       "      <td>201.000000</td>\n",
       "      <td>101.000000</td>\n",
       "      <td>17.090000</td>\n",
       "      <td>200.900000</td>\n",
       "      <td>100.000000</td>\n",
       "      <td>9.050000</td>\n",
       "      <td>10.300000</td>\n",
       "      <td>4.000000</td>\n",
       "      <td>2.780000</td>\n",
       "      <td>1.000000</td>\n",
       "    </tr>\n",
       "    <tr>\n",
       "      <th>75%</th>\n",
       "      <td>127.000000</td>\n",
       "      <td>510.000000</td>\n",
       "      <td>3.988385e+06</td>\n",
       "      <td>20.000000</td>\n",
       "      <td>216.650000</td>\n",
       "      <td>114.000000</td>\n",
       "      <td>36.820000</td>\n",
       "      <td>235.300000</td>\n",
       "      <td>114.000000</td>\n",
       "      <td>20.000000</td>\n",
       "      <td>235.250000</td>\n",
       "      <td>114.000000</td>\n",
       "      <td>10.580000</td>\n",
       "      <td>12.100000</td>\n",
       "      <td>6.000000</td>\n",
       "      <td>3.270000</td>\n",
       "      <td>2.000000</td>\n",
       "    </tr>\n",
       "    <tr>\n",
       "      <th>max</th>\n",
       "      <td>243.000000</td>\n",
       "      <td>510.000000</td>\n",
       "      <td>4.229964e+06</td>\n",
       "      <td>51.000000</td>\n",
       "      <td>350.800000</td>\n",
       "      <td>165.000000</td>\n",
       "      <td>59.640000</td>\n",
       "      <td>363.700000</td>\n",
       "      <td>170.000000</td>\n",
       "      <td>30.910000</td>\n",
       "      <td>395.000000</td>\n",
       "      <td>175.000000</td>\n",
       "      <td>17.770000</td>\n",
       "      <td>20.000000</td>\n",
       "      <td>20.000000</td>\n",
       "      <td>5.400000</td>\n",
       "      <td>9.000000</td>\n",
       "    </tr>\n",
       "  </tbody>\n",
       "</table>\n",
       "</div>\n",
       "      <button class=\"colab-df-convert\" onclick=\"convertToInteractive('df-4bc9116c-7712-41f1-8f87-bea9666b05f7')\"\n",
       "              title=\"Convert this dataframe to an interactive table.\"\n",
       "              style=\"display:none;\">\n",
       "        \n",
       "  <svg xmlns=\"http://www.w3.org/2000/svg\" height=\"24px\"viewBox=\"0 0 24 24\"\n",
       "       width=\"24px\">\n",
       "    <path d=\"M0 0h24v24H0V0z\" fill=\"none\"/>\n",
       "    <path d=\"M18.56 5.44l.94 2.06.94-2.06 2.06-.94-2.06-.94-.94-2.06-.94 2.06-2.06.94zm-11 1L8.5 8.5l.94-2.06 2.06-.94-2.06-.94L8.5 2.5l-.94 2.06-2.06.94zm10 10l.94 2.06.94-2.06 2.06-.94-2.06-.94-.94-2.06-.94 2.06-2.06.94z\"/><path d=\"M17.41 7.96l-1.37-1.37c-.4-.4-.92-.59-1.43-.59-.52 0-1.04.2-1.43.59L10.3 9.45l-7.72 7.72c-.78.78-.78 2.05 0 2.83L4 21.41c.39.39.9.59 1.41.59.51 0 1.02-.2 1.41-.59l7.78-7.78 2.81-2.81c.8-.78.8-2.07 0-2.86zM5.41 20L4 18.59l7.72-7.72 1.47 1.35L5.41 20z\"/>\n",
       "  </svg>\n",
       "      </button>\n",
       "      \n",
       "  <style>\n",
       "    .colab-df-container {\n",
       "      display:flex;\n",
       "      flex-wrap:wrap;\n",
       "      gap: 12px;\n",
       "    }\n",
       "\n",
       "    .colab-df-convert {\n",
       "      background-color: #E8F0FE;\n",
       "      border: none;\n",
       "      border-radius: 50%;\n",
       "      cursor: pointer;\n",
       "      display: none;\n",
       "      fill: #1967D2;\n",
       "      height: 32px;\n",
       "      padding: 0 0 0 0;\n",
       "      width: 32px;\n",
       "    }\n",
       "\n",
       "    .colab-df-convert:hover {\n",
       "      background-color: #E2EBFA;\n",
       "      box-shadow: 0px 1px 2px rgba(60, 64, 67, 0.3), 0px 1px 3px 1px rgba(60, 64, 67, 0.15);\n",
       "      fill: #174EA6;\n",
       "    }\n",
       "\n",
       "    [theme=dark] .colab-df-convert {\n",
       "      background-color: #3B4455;\n",
       "      fill: #D2E3FC;\n",
       "    }\n",
       "\n",
       "    [theme=dark] .colab-df-convert:hover {\n",
       "      background-color: #434B5C;\n",
       "      box-shadow: 0px 1px 3px 1px rgba(0, 0, 0, 0.15);\n",
       "      filter: drop-shadow(0px 1px 2px rgba(0, 0, 0, 0.3));\n",
       "      fill: #FFFFFF;\n",
       "    }\n",
       "  </style>\n",
       "\n",
       "      <script>\n",
       "        const buttonEl =\n",
       "          document.querySelector('#df-4bc9116c-7712-41f1-8f87-bea9666b05f7 button.colab-df-convert');\n",
       "        buttonEl.style.display =\n",
       "          google.colab.kernel.accessAllowed ? 'block' : 'none';\n",
       "\n",
       "        async function convertToInteractive(key) {\n",
       "          const element = document.querySelector('#df-4bc9116c-7712-41f1-8f87-bea9666b05f7');\n",
       "          const dataTable =\n",
       "            await google.colab.kernel.invokeFunction('convertToInteractive',\n",
       "                                                     [key], {});\n",
       "          if (!dataTable) return;\n",
       "\n",
       "          const docLinkHtml = 'Like what you see? Visit the ' +\n",
       "            '<a target=\"_blank\" href=https://colab.research.google.com/notebooks/data_table.ipynb>data table notebook</a>'\n",
       "            + ' to learn more about interactive tables.';\n",
       "          element.innerHTML = '';\n",
       "          dataTable['output_type'] = 'display_data';\n",
       "          await google.colab.output.renderOutput(dataTable, element);\n",
       "          const docLink = document.createElement('div');\n",
       "          docLink.innerHTML = docLinkHtml;\n",
       "          element.appendChild(docLink);\n",
       "        }\n",
       "      </script>\n",
       "    </div>\n",
       "  </div>\n",
       "  "
      ],
      "text/plain": [
       "       AccountLength     AreaCode   PhoneNumber  NumEmailMessages  \\\n",
       "count    3833.000000  3833.000000  3.833000e+03       3833.000000   \n",
       "mean      100.697626   437.447691  3.746407e+06          8.227759   \n",
       "std        39.872358    42.506606  2.758814e+05         13.724437   \n",
       "min         1.000000   408.000000  3.271058e+06          0.000000   \n",
       "25%        73.000000   415.000000  3.506473e+06          0.000000   \n",
       "50%       100.000000   415.000000  3.749107e+06          0.000000   \n",
       "75%       127.000000   510.000000  3.988385e+06         20.000000   \n",
       "max       243.000000   510.000000  4.229964e+06         51.000000   \n",
       "\n",
       "       TotalMorMin  TotalMorCalls  TotalMorCharge  TotalEveMin  TotalEveCalls  \\\n",
       "count  3803.000000    3833.000000     3833.000000  3822.000000    3833.000000   \n",
       "mean    180.078517     100.360292       30.614456   200.685924     100.124446   \n",
       "std      54.664611      20.055868        9.292341    51.180629      19.930592   \n",
       "min       0.000000       0.000000        0.000000     0.000000       0.000000   \n",
       "25%     144.000000      87.000000       24.480000   165.800000      87.000000   \n",
       "50%     179.900000     101.000000       30.600000   201.000000     101.000000   \n",
       "75%     216.650000     114.000000       36.820000   235.300000     114.000000   \n",
       "max     350.800000     165.000000       59.640000   363.700000     170.000000   \n",
       "\n",
       "       TotalEveCharge  TotalNightMin  TotalNightCalls  TotalNightCharge  \\\n",
       "count     3833.000000    3815.000000      3833.000000       3833.000000   \n",
       "mean        17.057782     200.644325       100.216280          9.029924   \n",
       "std          4.346913      50.792405        19.542829          2.282705   \n",
       "min          0.000000      23.200000        33.000000          1.040000   \n",
       "25%         14.090000     166.900000        87.000000          7.520000   \n",
       "50%         17.090000     200.900000       100.000000          9.050000   \n",
       "75%         20.000000     235.250000       114.000000         10.580000   \n",
       "max         30.910000     395.000000       175.000000         17.770000   \n",
       "\n",
       "       TotalIntMinutes  TotalIntCalls  TotalIntCharge  CustomerServiceCalls  \n",
       "count      3833.000000    3833.000000     3833.000000           3833.000000  \n",
       "mean         10.241247       4.495173        2.765656              1.559875  \n",
       "std           2.800544       2.476095        0.756138              1.319766  \n",
       "min           0.000000       0.000000        0.000000              0.000000  \n",
       "25%           8.500000       3.000000        2.300000              1.000000  \n",
       "50%          10.300000       4.000000        2.780000              1.000000  \n",
       "75%          12.100000       6.000000        3.270000              2.000000  \n",
       "max          20.000000      20.000000        5.400000              9.000000  "
      ]
     },
     "execution_count": 6,
     "metadata": {},
     "output_type": "execute_result"
    }
   ],
   "source": [
    "print('Described Column Length:', len(data.describe().columns))\n",
    "data.describe()"
   ]
  },
  {
   "cell_type": "markdown",
   "metadata": {
    "id": "m0JV_HfR3Ru1"
   },
   "source": [
    "**Observations:**\n",
    "\n",
    "- On **average** **customers** **perform** **8** number of **email messages**.\n",
    "\n",
    "- **50%** of **customers** **don't do any email messages** while **75%** of **customers** do **20 number of messages**.\n",
    "\n",
    "- On **average** **customers talk 180 minutes** of duration in the **morning**.\n",
    "\n",
    "- **25%** of **customers** **talk 144 minutes** of duration in the **morning** while **50% and 75%** of **customers** **talk 179 minutes and 216 minutes** in the **morning**.\n",
    "\n",
    "- On **average** **customers** like to **perform 100 calls**.\n",
    "\n",
    "- **25%** of **customers** like to **perform 87 number of calls** while **50% and 75%** of **customers** like to **perform 101 and 114 number of calls**.\n",
    "\n",
    "- On **average** it take **30 cents** for **morning services**.\n",
    "\n",
    "- **25%** of **customers** have been **charged** with **24 cents** while **50% and 75%** of **customers** have been **charged** with **30 cents and 36 cents** in the **morning**.\n",
    "\n",
    "- **Similarly users can understand the information for rest of the features.**"
   ]
  },
  {
   "cell_type": "markdown",
   "metadata": {
    "id": "CriUrQkw6TMq"
   },
   "source": [
    "<a name = Section42></a>\n",
    "### **4.2 Data Information**\n",
    "\n",
    "- In this section we will see the **information about the types of features**."
   ]
  },
  {
   "cell_type": "code",
   "execution_count": null,
   "metadata": {
    "colab": {
     "base_uri": "https://localhost:8080/"
    },
    "executionInfo": {
     "elapsed": 22,
     "status": "ok",
     "timestamp": 1675681707971,
     "user": {
      "displayName": "Yash Chauhan",
      "userId": "03194567605433747724"
     },
     "user_tz": -330
    },
    "id": "irhSfZlOvRVX",
    "outputId": "ee0b4d28-84c3-49e4-f41a-a139179eec6f"
   },
   "outputs": [
    {
     "name": "stdout",
     "output_type": "stream",
     "text": [
      "<class 'pandas.core.frame.DataFrame'>\n",
      "RangeIndex: 3833 entries, 0 to 3832\n",
      "Data columns (total 21 columns):\n",
      " #   Column                Non-Null Count  Dtype  \n",
      "---  ------                --------------  -----  \n",
      " 0   State                 3833 non-null   object \n",
      " 1   AccountLength         3833 non-null   int64  \n",
      " 2   AreaCode              3833 non-null   int64  \n",
      " 3   PhoneNumber           3833 non-null   int64  \n",
      " 4   InternationalPlan?    3833 non-null   object \n",
      " 5   VoiceMailPlan?        3833 non-null   object \n",
      " 6   NumEmailMessages      3833 non-null   int64  \n",
      " 7   TotalMorMin           3803 non-null   float64\n",
      " 8   TotalMorCalls         3833 non-null   int64  \n",
      " 9   TotalMorCharge        3833 non-null   float64\n",
      " 10  TotalEveMin           3822 non-null   float64\n",
      " 11  TotalEveCalls         3833 non-null   int64  \n",
      " 12  TotalEveCharge        3833 non-null   float64\n",
      " 13  TotalNightMin         3815 non-null   float64\n",
      " 14  TotalNightCalls       3833 non-null   int64  \n",
      " 15  TotalNightCharge      3833 non-null   float64\n",
      " 16  TotalIntMinutes       3833 non-null   float64\n",
      " 17  TotalIntCalls         3833 non-null   int64  \n",
      " 18  TotalIntCharge        3833 non-null   float64\n",
      " 19  CustomerServiceCalls  3833 non-null   int64  \n",
      " 20  Churn?                3833 non-null   bool   \n",
      "dtypes: bool(1), float64(8), int64(9), object(3)\n",
      "memory usage: 1.1 MB\n"
     ]
    }
   ],
   "source": [
    "data.info(verbose = True, memory_usage = 'deep')"
   ]
  },
  {
   "cell_type": "markdown",
   "metadata": {
    "id": "jfJhSg4Y6ZQc"
   },
   "source": [
    "**Observations:**\n",
    "\n",
    "- We can **observe** **missing** **values** in the data.\n",
    "\n",
    "- **Apart** from **missing** **information** all the **features** have **correct** type.\n",
    "\n",
    "- Let's **explore** **further**.\n"
   ]
  },
  {
   "cell_type": "markdown",
   "metadata": {
    "id": "xWHja31V8_I9"
   },
   "source": [
    "<a name = Section43></a>\n",
    "### **4.3 Pre Profiling Report**\n",
    "\n",
    "- For quick analysis pandas profiling is very handy.\n",
    "\n",
    "- Generates profile reports from a pandas DataFrame.\n",
    "\n",
    "- For each column statistics are presented in an interactive HTML report."
   ]
  },
  {
   "cell_type": "code",
   "execution_count": null,
   "metadata": {
    "colab": {
     "base_uri": "https://localhost:8080/",
     "height": 162,
     "referenced_widgets": [
      "6158b4d4d2824d2a96d79519f8ecddc5",
      "dfe415ebb788407ebdc618d833daa704",
      "f506b9be3ffa4b449f0b998fff18ed2c",
      "3725910752ca460ebaa6a50990b7ceef",
      "330ddbe49c1d4b57960cbf6f1b799243",
      "21b50295cb8540bc96c5d2893a98b9c9",
      "c535f916a7234e22b0d9a718b5585e26",
      "ccc8457123c14c549dcdd82ad68d8b2e",
      "bc63790b49b048649dbfa5a335d3ef45",
      "eb9ab2d1d06b4e07bdf41d4e90dad553",
      "273e7bd851dc40ba92fb35cee6a57bd5",
      "d2985ee5d0f8420eaa87866af2023094",
      "a4c0e9ead08546f0838799ced45a577e",
      "5f82c6ade5fb460c8f81d54ae220350d",
      "2a106ced99204b5d99d1a2c9e1e60abe",
      "446aa1bedad64579b494d10911df5338",
      "39c678ee7dfa4103888300ae9de0050e",
      "50946a5fb65f4a87948037bf1383f707",
      "6ba34240d21b4abe9a1196f222246d62",
      "d1807998acfc4d62aeb112dbd362e42e",
      "6a78e1d3806242b8a0530eff212a4147",
      "27b196cb68cb402fafbb00be09f2efaa",
      "53d00e16158242098be3d88245e7428e",
      "14885a0718b946fa88a1238ee3eeba63",
      "3446072a12774e7ca35f96b371cacf3b",
      "3f23856ef4034be5a8fb0012b755b639",
      "2171c567e6d24ddb94155bbb96c6ac4f",
      "75b627b302e14fa8bd7a8d2ee5439ce5",
      "4c2a72f232dc4c0880275fb8782036f0",
      "8ffcb80152864bd9b11c581385e6e5be",
      "4fbd9cabfd77437388dc0356b090ac04",
      "5c708fa9b8464fffaa59c58439c1809f",
      "4d6f1b222d4543c89292f3888c7e610c",
      "09cf8bd78d714d8b84ba1e1c1b2abfa1",
      "675f51a2fea647be8da8ba32473bbd27",
      "cc601ff7516d4429a7b47df045d4dc0b",
      "94e44a2236354239b53f253cf716c619",
      "0f656dc5ef8541a78e5c0cd139e8d630",
      "594172996eba4c6284347aeb9cf59a36",
      "9ca125a451524f8aa4f41daf37595a48",
      "7c5718c0490c49639691192bce2c5e08",
      "d8bd7bd387a545dda10e5ae4667a78aa",
      "760845445c334511b9f78ee2cbaed818",
      "34f4c813544249dd9bbe63af3bca4a68"
     ]
    },
    "executionInfo": {
     "elapsed": 88768,
     "status": "ok",
     "timestamp": 1675681796721,
     "user": {
      "displayName": "Yash Chauhan",
      "userId": "03194567605433747724"
     },
     "user_tz": -330
    },
    "id": "KogglICS1uau",
    "outputId": "076291f0-7433-427c-b5fc-e8550f4be578"
   },
   "outputs": [
    {
     "data": {
      "application/vnd.jupyter.widget-view+json": {
       "model_id": "6158b4d4d2824d2a96d79519f8ecddc5",
       "version_major": 2,
       "version_minor": 0
      },
      "text/plain": [
       "Summarize dataset:   0%|          | 0/5 [00:00<?, ?it/s]"
      ]
     },
     "metadata": {},
     "output_type": "display_data"
    },
    {
     "data": {
      "application/vnd.jupyter.widget-view+json": {
       "model_id": "d2985ee5d0f8420eaa87866af2023094",
       "version_major": 2,
       "version_minor": 0
      },
      "text/plain": [
       "Generate report structure:   0%|          | 0/1 [00:00<?, ?it/s]"
      ]
     },
     "metadata": {},
     "output_type": "display_data"
    },
    {
     "data": {
      "application/vnd.jupyter.widget-view+json": {
       "model_id": "53d00e16158242098be3d88245e7428e",
       "version_major": 2,
       "version_minor": 0
      },
      "text/plain": [
       "Render HTML:   0%|          | 0/1 [00:00<?, ?it/s]"
      ]
     },
     "metadata": {},
     "output_type": "display_data"
    },
    {
     "data": {
      "application/vnd.jupyter.widget-view+json": {
       "model_id": "09cf8bd78d714d8b84ba1e1c1b2abfa1",
       "version_major": 2,
       "version_minor": 0
      },
      "text/plain": [
       "Export report to file:   0%|          | 0/1 [00:00<?, ?it/s]"
      ]
     },
     "metadata": {},
     "output_type": "display_data"
    },
    {
     "name": "stdout",
     "output_type": "stream",
     "text": [
      "Accomplished!\n"
     ]
    }
   ],
   "source": [
    "`#profile = ProfileReport(df = data)\n",
    "#profile.to_file(output_file = 'Pre Profiling Report.html')\n",
    "#print('Accomplished!')"
   ]
  },
  {
   "cell_type": "code",
   "execution_count": null,
   "metadata": {
    "colab": {
     "base_uri": "https://localhost:8080/",
     "height": 17
    },
    "executionInfo": {
     "elapsed": 19,
     "status": "ok",
     "timestamp": 1675681796722,
     "user": {
      "displayName": "Yash Chauhan",
      "userId": "03194567605433747724"
     },
     "user_tz": -330
    },
    "id": "ZDWtHAx6zbTH",
    "outputId": "2937dc53-6238-4981-b2fa-77254af0665e"
   },
   "outputs": [
    {
     "data": {
      "application/javascript": [
       "\n",
       "    async function download(id, filename, size) {\n",
       "      if (!google.colab.kernel.accessAllowed) {\n",
       "        return;\n",
       "      }\n",
       "      const div = document.createElement('div');\n",
       "      const label = document.createElement('label');\n",
       "      label.textContent = `Downloading \"${filename}\": `;\n",
       "      div.appendChild(label);\n",
       "      const progress = document.createElement('progress');\n",
       "      progress.max = size;\n",
       "      div.appendChild(progress);\n",
       "      document.body.appendChild(div);\n",
       "\n",
       "      const buffers = [];\n",
       "      let downloaded = 0;\n",
       "\n",
       "      const channel = await google.colab.kernel.comms.open(id);\n",
       "      // Send a message to notify the kernel that we're ready.\n",
       "      channel.send({})\n",
       "\n",
       "      for await (const message of channel.messages) {\n",
       "        // Send a message to notify the kernel that we're ready.\n",
       "        channel.send({})\n",
       "        if (message.buffers) {\n",
       "          for (const buffer of message.buffers) {\n",
       "            buffers.push(buffer);\n",
       "            downloaded += buffer.byteLength;\n",
       "            progress.value = downloaded;\n",
       "          }\n",
       "        }\n",
       "      }\n",
       "      const blob = new Blob(buffers, {type: 'application/binary'});\n",
       "      const a = document.createElement('a');\n",
       "      a.href = window.URL.createObjectURL(blob);\n",
       "      a.download = filename;\n",
       "      div.appendChild(a);\n",
       "      a.click();\n",
       "      div.remove();\n",
       "    }\n",
       "  "
      ],
      "text/plain": [
       "<IPython.core.display.Javascript object>"
      ]
     },
     "metadata": {},
     "output_type": "display_data"
    },
    {
     "data": {
      "application/javascript": [
       "download(\"download_1aef7203-5257-49a7-843f-9c73ae785ee6\", \"Pre Profiling Report.html\", 14884421)"
      ],
      "text/plain": [
       "<IPython.core.display.Javascript object>"
      ]
     },
     "metadata": {},
     "output_type": "display_data"
    }
   ],
   "source": [
    "#from google.colab import files                   # Use only if you are using Google Colab, otherwise remove it\n",
    "#files.download('Pre Profiling Report.html')      # Use only if you are using Google Colab, otherwise remove it"
   ]
  },
  {
   "cell_type": "markdown",
   "metadata": {
    "id": "p7YkvPIE9DL9"
   },
   "source": [
    "**Observations:**\n",
    "\n",
    "- **Report show** that there are **total 21 features** out of which **16 are numerical, 3 are boolean and 2 are categorical.**\n",
    "\n",
    "- Around **59 (0.1%) cells** contains **missing information**.\n",
    "\n",
    "- Data contains **500 (13%) duplicate rows**.\n",
    "\n",
    "- **TotalMorCharge** is **highly correlated** to **TotalMorMin**.\n",
    "\n",
    "- **TotalEveCharge** is **highly correlated** to **TotalEveMin**.\n",
    "\n",
    "- **TotalNightCharge** is **highly correlated** to **TotalNightMin**.\n",
    "\n",
    "- **TotalIntCharge** is **highly correlated** to **TotalIntMin**.\n"
   ]
  },
  {
   "cell_type": "markdown",
   "metadata": {
    "id": "9ITT5F0CdCsX"
   },
   "source": [
    "<a name = Section5></a>\n",
    "\n",
    "---\n",
    "# **5. Data Pre-Processing**\n",
    "---"
   ]
  },
  {
   "cell_type": "markdown",
   "metadata": {
    "id": "TExxaAqadEfr"
   },
   "source": [
    "<a name = Section51></a>\n",
    "### **5.1 Identification & Handling of Missing Data**\n",
    "\n",
    "- In this section we will **analyze** and **identify** **missing information** such as **null data** and **zero data**."
   ]
  },
  {
   "cell_type": "markdown",
   "metadata": {
    "id": "cNWkJTJdz9vp"
   },
   "source": [
    "**Before Handling Missing Information**"
   ]
  },
  {
   "cell_type": "code",
   "execution_count": null,
   "metadata": {
    "colab": {
     "base_uri": "https://localhost:8080/",
     "height": 211
    },
    "executionInfo": {
     "elapsed": 570,
     "status": "ok",
     "timestamp": 1675682127297,
     "user": {
      "displayName": "Yash Chauhan",
      "userId": "03194567605433747724"
     },
     "user_tz": -330
    },
    "id": "qAjk5P-1z70-",
    "outputId": "f7301f7e-01ca-4d76-ebf3-b1f87fa025ac"
   },
   "outputs": [
    {
     "data": {
      "text/html": [
       "\n",
       "  <div id=\"df-0363fdf3-c6bd-4eac-97c1-7371f6cf754a\">\n",
       "    <div class=\"colab-df-container\">\n",
       "      <div>\n",
       "<style scoped>\n",
       "    .dataframe tbody tr th:only-of-type {\n",
       "        vertical-align: middle;\n",
       "    }\n",
       "\n",
       "    .dataframe tbody tr th {\n",
       "        vertical-align: top;\n",
       "    }\n",
       "\n",
       "    .dataframe thead th {\n",
       "        text-align: right;\n",
       "    }\n",
       "</style>\n",
       "<table border=\"1\" class=\"dataframe\">\n",
       "  <thead>\n",
       "    <tr style=\"text-align: right;\">\n",
       "      <th></th>\n",
       "      <th>State</th>\n",
       "      <th>AccountLength</th>\n",
       "      <th>AreaCode</th>\n",
       "      <th>PhoneNumber</th>\n",
       "      <th>InternationalPlan?</th>\n",
       "      <th>VoiceMailPlan?</th>\n",
       "      <th>NumEmailMessages</th>\n",
       "      <th>TotalMorMin</th>\n",
       "      <th>TotalMorCalls</th>\n",
       "      <th>TotalMorCharge</th>\n",
       "      <th>TotalEveMin</th>\n",
       "      <th>TotalEveCalls</th>\n",
       "      <th>TotalEveCharge</th>\n",
       "      <th>TotalNightMin</th>\n",
       "      <th>TotalNightCalls</th>\n",
       "      <th>TotalNightCharge</th>\n",
       "      <th>TotalIntMinutes</th>\n",
       "      <th>TotalIntCalls</th>\n",
       "      <th>TotalIntCharge</th>\n",
       "      <th>CustomerServiceCalls</th>\n",
       "      <th>Churn?</th>\n",
       "    </tr>\n",
       "  </thead>\n",
       "  <tbody>\n",
       "    <tr>\n",
       "      <th>Null Frequency</th>\n",
       "      <td>0.0</td>\n",
       "      <td>0.0</td>\n",
       "      <td>0.0</td>\n",
       "      <td>0.0</td>\n",
       "      <td>0.0</td>\n",
       "      <td>0.0</td>\n",
       "      <td>0.0</td>\n",
       "      <td>30.00</td>\n",
       "      <td>0.0</td>\n",
       "      <td>0.0</td>\n",
       "      <td>11.00</td>\n",
       "      <td>0.0</td>\n",
       "      <td>0.0</td>\n",
       "      <td>18.00</td>\n",
       "      <td>0.0</td>\n",
       "      <td>0.0</td>\n",
       "      <td>0.0</td>\n",
       "      <td>0.0</td>\n",
       "      <td>0.0</td>\n",
       "      <td>0.0</td>\n",
       "      <td>0.0</td>\n",
       "    </tr>\n",
       "    <tr>\n",
       "      <th>Missing Null %age</th>\n",
       "      <td>0.0</td>\n",
       "      <td>0.0</td>\n",
       "      <td>0.0</td>\n",
       "      <td>0.0</td>\n",
       "      <td>0.0</td>\n",
       "      <td>0.0</td>\n",
       "      <td>0.0</td>\n",
       "      <td>0.78</td>\n",
       "      <td>0.0</td>\n",
       "      <td>0.0</td>\n",
       "      <td>0.29</td>\n",
       "      <td>0.0</td>\n",
       "      <td>0.0</td>\n",
       "      <td>0.47</td>\n",
       "      <td>0.0</td>\n",
       "      <td>0.0</td>\n",
       "      <td>0.0</td>\n",
       "      <td>0.0</td>\n",
       "      <td>0.0</td>\n",
       "      <td>0.0</td>\n",
       "      <td>0.0</td>\n",
       "    </tr>\n",
       "  </tbody>\n",
       "</table>\n",
       "</div>\n",
       "      <button class=\"colab-df-convert\" onclick=\"convertToInteractive('df-0363fdf3-c6bd-4eac-97c1-7371f6cf754a')\"\n",
       "              title=\"Convert this dataframe to an interactive table.\"\n",
       "              style=\"display:none;\">\n",
       "        \n",
       "  <svg xmlns=\"http://www.w3.org/2000/svg\" height=\"24px\"viewBox=\"0 0 24 24\"\n",
       "       width=\"24px\">\n",
       "    <path d=\"M0 0h24v24H0V0z\" fill=\"none\"/>\n",
       "    <path d=\"M18.56 5.44l.94 2.06.94-2.06 2.06-.94-2.06-.94-.94-2.06-.94 2.06-2.06.94zm-11 1L8.5 8.5l.94-2.06 2.06-.94-2.06-.94L8.5 2.5l-.94 2.06-2.06.94zm10 10l.94 2.06.94-2.06 2.06-.94-2.06-.94-.94-2.06-.94 2.06-2.06.94z\"/><path d=\"M17.41 7.96l-1.37-1.37c-.4-.4-.92-.59-1.43-.59-.52 0-1.04.2-1.43.59L10.3 9.45l-7.72 7.72c-.78.78-.78 2.05 0 2.83L4 21.41c.39.39.9.59 1.41.59.51 0 1.02-.2 1.41-.59l7.78-7.78 2.81-2.81c.8-.78.8-2.07 0-2.86zM5.41 20L4 18.59l7.72-7.72 1.47 1.35L5.41 20z\"/>\n",
       "  </svg>\n",
       "      </button>\n",
       "      \n",
       "  <style>\n",
       "    .colab-df-container {\n",
       "      display:flex;\n",
       "      flex-wrap:wrap;\n",
       "      gap: 12px;\n",
       "    }\n",
       "\n",
       "    .colab-df-convert {\n",
       "      background-color: #E8F0FE;\n",
       "      border: none;\n",
       "      border-radius: 50%;\n",
       "      cursor: pointer;\n",
       "      display: none;\n",
       "      fill: #1967D2;\n",
       "      height: 32px;\n",
       "      padding: 0 0 0 0;\n",
       "      width: 32px;\n",
       "    }\n",
       "\n",
       "    .colab-df-convert:hover {\n",
       "      background-color: #E2EBFA;\n",
       "      box-shadow: 0px 1px 2px rgba(60, 64, 67, 0.3), 0px 1px 3px 1px rgba(60, 64, 67, 0.15);\n",
       "      fill: #174EA6;\n",
       "    }\n",
       "\n",
       "    [theme=dark] .colab-df-convert {\n",
       "      background-color: #3B4455;\n",
       "      fill: #D2E3FC;\n",
       "    }\n",
       "\n",
       "    [theme=dark] .colab-df-convert:hover {\n",
       "      background-color: #434B5C;\n",
       "      box-shadow: 0px 1px 3px 1px rgba(0, 0, 0, 0.15);\n",
       "      filter: drop-shadow(0px 1px 2px rgba(0, 0, 0, 0.3));\n",
       "      fill: #FFFFFF;\n",
       "    }\n",
       "  </style>\n",
       "\n",
       "      <script>\n",
       "        const buttonEl =\n",
       "          document.querySelector('#df-0363fdf3-c6bd-4eac-97c1-7371f6cf754a button.colab-df-convert');\n",
       "        buttonEl.style.display =\n",
       "          google.colab.kernel.accessAllowed ? 'block' : 'none';\n",
       "\n",
       "        async function convertToInteractive(key) {\n",
       "          const element = document.querySelector('#df-0363fdf3-c6bd-4eac-97c1-7371f6cf754a');\n",
       "          const dataTable =\n",
       "            await google.colab.kernel.invokeFunction('convertToInteractive',\n",
       "                                                     [key], {});\n",
       "          if (!dataTable) return;\n",
       "\n",
       "          const docLinkHtml = 'Like what you see? Visit the ' +\n",
       "            '<a target=\"_blank\" href=https://colab.research.google.com/notebooks/data_table.ipynb>data table notebook</a>'\n",
       "            + ' to learn more about interactive tables.';\n",
       "          element.innerHTML = '';\n",
       "          dataTable['output_type'] = 'display_data';\n",
       "          await google.colab.output.renderOutput(dataTable, element);\n",
       "          const docLink = document.createElement('div');\n",
       "          docLink.innerHTML = docLinkHtml;\n",
       "          element.appendChild(docLink);\n",
       "        }\n",
       "      </script>\n",
       "    </div>\n",
       "  </div>\n",
       "  "
      ],
      "text/plain": [
       "                   State  AccountLength  AreaCode  PhoneNumber  \\\n",
       "Null Frequency       0.0            0.0       0.0          0.0   \n",
       "Missing Null %age    0.0            0.0       0.0          0.0   \n",
       "\n",
       "                   InternationalPlan?  VoiceMailPlan?  NumEmailMessages  \\\n",
       "Null Frequency                    0.0             0.0               0.0   \n",
       "Missing Null %age                 0.0             0.0               0.0   \n",
       "\n",
       "                   TotalMorMin  TotalMorCalls  TotalMorCharge  TotalEveMin  \\\n",
       "Null Frequency           30.00            0.0             0.0        11.00   \n",
       "Missing Null %age         0.78            0.0             0.0         0.29   \n",
       "\n",
       "                   TotalEveCalls  TotalEveCharge  TotalNightMin  \\\n",
       "Null Frequency               0.0             0.0          18.00   \n",
       "Missing Null %age            0.0             0.0           0.47   \n",
       "\n",
       "                   TotalNightCalls  TotalNightCharge  TotalIntMinutes  \\\n",
       "Null Frequency                 0.0               0.0              0.0   \n",
       "Missing Null %age              0.0               0.0              0.0   \n",
       "\n",
       "                   TotalIntCalls  TotalIntCharge  CustomerServiceCalls  Churn?  \n",
       "Null Frequency               0.0             0.0                   0.0     0.0  \n",
       "Missing Null %age            0.0             0.0                   0.0     0.0  "
      ]
     },
     "execution_count": 11,
     "metadata": {},
     "output_type": "execute_result"
    }
   ],
   "source": [
    "missing_frame = pd.DataFrame(index = data.columns.values)\n",
    "missing_frame['Null Frequency'] = data.isnull().sum().values\n",
    "nullpercent = data.isnull().sum().values/data.shape[0]\n",
    "missing_frame['Missing Null %age'] = np.round(nullpercent, decimals = 4) * 100\n",
    "missing_frame.transpose()"
   ]
  },
  {
   "cell_type": "markdown",
   "metadata": {
    "id": "dDoM56k1Ww9L"
   },
   "source": [
    "**Observation:**\n",
    "\n",
    "- Feature:\n",
    "  - Problem &rarr; Solution {Reason}\n",
    "\n",
    "- **TotalMorMin:**\n",
    "  - Null Data &rarr; KNN Imputation {Null proportion is small.}\n",
    "\n",
    "- **TotalEveMin:**\n",
    "  - Null Data &rarr; KNN Imputation {Null proportion is small.}\n",
    "\n",
    "- **TotalNightMin:**\n",
    "  - Null Data &rarr; KNN Imputation {Null proportion is small.}"
   ]
  },
  {
   "cell_type": "markdown",
   "metadata": {
    "id": "wj-3weSNZSCo"
   },
   "source": [
    "**<h4>KNN Imputer:</h4>** \n",
    "\n",
    "- This is an **effective approach** where data **imputation** is **done** using **prediction** by a model. \n",
    "\n",
    "- A **model** is **created** for **each feature** that has **missing values**, taking as input values of all other input features.\n",
    "\n",
    "- A **new sample** is **imputed** by **finding** the **samples** in the training set **“closest”** to it and **averages** these **nearby points** to **fill in the value**.\n",
    "\n",
    "|Sample Example|Complete Working|\n",
    "|:-------------------------:|:-------------------------:|\n",
    "![img](https://www.mathworks.com/matlabcentral/mlc-downloads/downloads/submissions/60128/versions/2/screenshot.jpg)  |  ![img](https://miro.medium.com/max/1280/1*b9BXv0uAkbSAn8MJIa4-_Q.gif)"
   ]
  },
  {
   "cell_type": "markdown",
   "metadata": {
    "id": "qPoX05n-0AR5"
   },
   "source": [
    "**Performing Operations**"
   ]
  },
  {
   "cell_type": "code",
   "execution_count": null,
   "metadata": {
    "id": "AFdQw4xD0AEi"
   },
   "outputs": [],
   "source": [
    "knn_imputer = KNNImputer()\n",
    "raw_num = knn_imputer.fit_transform(data[['TotalMorMin', 'TotalEveMin', 'TotalNightMin']])\n",
    "raw_frame = pd.DataFrame(data = raw_num, columns = ['TotalMorMin', 'TotalEveMin', 'TotalNightMin'])\n",
    "\n",
    "data['TotalMorMin'] = raw_frame['TotalMorMin']\n",
    "data['TotalEveMin'] = raw_frame['TotalEveMin']\n",
    "data['TotalNightMin'] = raw_frame['TotalNightMin']"
   ]
  },
  {
   "cell_type": "markdown",
   "metadata": {
    "id": "ok0b_hFXdN8U"
   },
   "source": [
    "<a name = Section52></a>\n",
    "### **5.2 Identification & Handling of Redundant Data**\n",
    "\n",
    "- In this section **we will identify redundant rows and columns** in our data if present.\n",
    "\n",
    "- For **handling duplicate features** we have **created a custom function**.\n",
    "\n",
    "- This **custom function** will help us to **identify duplicacy in features** with **different name but similar values**:"
   ]
  },
  {
   "cell_type": "code",
   "execution_count": null,
   "metadata": {
    "id": "fZMrYKIm1uTQ"
   },
   "outputs": [],
   "source": [
    "def duplicate_cols(dataframe):\n",
    "  ls1 = []\n",
    "  ls2 = []\n",
    "\n",
    "  columns = dataframe.columns.values\n",
    "  for i in range(0, len(columns)):\n",
    "    for j in range(i+1, len(columns)):\n",
    "      if (np.where(dataframe[columns[i]] == dataframe[columns[j]], True, False).all() == True):\n",
    "        ls1.append(columns[i])\n",
    "        ls2.append(columns[j])\n",
    "\n",
    "  if ((len(ls1) == 0) & (len(ls2) == 0)):\n",
    "    return None\n",
    "  else:\n",
    "    duplicate_frame = pd.DataFrame()\n",
    "    duplicate_frame['Feature 1'] = ls1\n",
    "    duplicate_frame['Feature 2'] = ls2\n",
    "    return duplicate_frame"
   ]
  },
  {
   "cell_type": "code",
   "execution_count": null,
   "metadata": {
    "colab": {
     "base_uri": "https://localhost:8080/",
     "height": 85
    },
    "executionInfo": {
     "elapsed": 1418,
     "status": "ok",
     "timestamp": 1595909324228,
     "user": {
      "displayName": "Mukesh Kumar",
      "photoUrl": "https://lh3.googleusercontent.com/a-/AOh14GjlcDlZf8Lr8SWM0ugfq17HC9TF79sbME_lLaRW=s64",
      "userId": "12802686450045644565"
     },
     "user_tz": -330
    },
    "id": "yx-TzmLt0hjc",
    "outputId": "fad6452f-82e9-4d60-e7f7-854b1cab25ef"
   },
   "outputs": [
    {
     "name": "stdout",
     "output_type": "stream",
     "text": [
      "Contains Redundant Records?: True\n",
      "Duplicate Count: 500\n",
      "-----------------------------------------------------------------------\n",
      "Contains Redundant Features?: None\n"
     ]
    }
   ],
   "source": [
    "print('Contains Redundant Records?:', data.duplicated().any())\n",
    "print('Duplicate Count:', data.duplicated().sum())\n",
    "print('-----------------------------------------------------------------------')\n",
    "print('Contains Redundant Features?:', duplicate_cols(data))"
   ]
  },
  {
   "cell_type": "markdown",
   "metadata": {
    "id": "jaSlQN970mt3"
   },
   "source": [
    "**Performing Operations**"
   ]
  },
  {
   "cell_type": "code",
   "execution_count": null,
   "metadata": {
    "colab": {
     "base_uri": "https://localhost:8080/",
     "height": 68
    },
    "executionInfo": {
     "elapsed": 1111,
     "status": "ok",
     "timestamp": 1595909327971,
     "user": {
      "displayName": "Mukesh Kumar",
      "photoUrl": "https://lh3.googleusercontent.com/a-/AOh14GjlcDlZf8Lr8SWM0ugfq17HC9TF79sbME_lLaRW=s64",
      "userId": "12802686450045644565"
     },
     "user_tz": -330
    },
    "id": "DJkfwTfs0nXc",
    "outputId": "56fd9e9c-3bbc-4e9b-9f07-4c6fb15b8d54"
   },
   "outputs": [
    {
     "name": "stdout",
     "output_type": "stream",
     "text": [
      "Data Shape [Before]: (3833, 21)\n",
      "Data Shape [After]: (3333, 21)\n",
      "Drop Ratio: 13.0 %\n"
     ]
    }
   ],
   "source": [
    "before_shape = data.shape\n",
    "print('Data Shape [Before]:', before_shape)\n",
    "\n",
    "data.drop_duplicates(inplace = True)\n",
    "\n",
    "after_shape = data.shape\n",
    "print('Data Shape [After]:', after_shape)\n",
    "\n",
    "drop_nums = before_shape[0] - after_shape[0]\n",
    "drop_percent = np.round(drop_nums / before_shape[0], decimals = 3) * 100\n",
    "\n",
    "print('Drop Ratio:', drop_percent, '%')"
   ]
  },
  {
   "cell_type": "markdown",
   "metadata": {
    "id": "jYlhcxt90uHE"
   },
   "source": [
    "**After Handling Duplicate Data**"
   ]
  },
  {
   "cell_type": "code",
   "execution_count": null,
   "metadata": {
    "colab": {
     "base_uri": "https://localhost:8080/",
     "height": 85
    },
    "executionInfo": {
     "elapsed": 1183,
     "status": "ok",
     "timestamp": 1595909333645,
     "user": {
      "displayName": "Mukesh Kumar",
      "photoUrl": "https://lh3.googleusercontent.com/a-/AOh14GjlcDlZf8Lr8SWM0ugfq17HC9TF79sbME_lLaRW=s64",
      "userId": "12802686450045644565"
     },
     "user_tz": -330
    },
    "id": "XEQFdMZ60rZa",
    "outputId": "ccfb3382-c1ae-4312-eb74-48312b32f742"
   },
   "outputs": [
    {
     "name": "stdout",
     "output_type": "stream",
     "text": [
      "Contains Redundant Records?: False\n",
      "Duplicate Count: 0\n",
      "-----------------------------------------------------------------------\n",
      "Contains Redundant Features?: None\n"
     ]
    }
   ],
   "source": [
    "print('Contains Redundant Records?:', data.duplicated().any())\n",
    "print('Duplicate Count:', data.duplicated().sum())\n",
    "print('-----------------------------------------------------------------------')\n",
    "print('Contains Redundant Features?:', duplicate_cols(data))"
   ]
  },
  {
   "cell_type": "markdown",
   "metadata": {
    "id": "cHvk4ZFT03Wa"
   },
   "source": [
    "<a name = Section54></a>\n",
    "### **5.3 Post Data Profiling**"
   ]
  },
  {
   "cell_type": "code",
   "execution_count": null,
   "metadata": {
    "colab": {
     "base_uri": "https://localhost:8080/",
     "height": 230,
     "referenced_widgets": [
      "34ec12818f494c03b57acb354f9d47c7",
      "b55b1cc8e4a14f0a8bbef31e7ca5ddd1",
      "7b29db64b91243848e9a75199531816b",
      "031db7b1d516402d8bf25bfd4adb958e",
      "b7d384038a1544bd8542fb0de27b4f2a",
      "ccb173b44c084d0cbffeb386ae20fe41",
      "a98f29cca86a4f5897bd2943f951a3a9",
      "c32ef60b2bb34374b3b191f82acb1cd8",
      "aa9f21581c9540c3a4966690c0173459",
      "bd12291f0cd842c690f3c6e821587d33",
      "ac71f3cafd6a44cfbc667b22890525a9",
      "0f765f9bfa504c0b834de9de6675156a",
      "93ed34d1f4834425ac6ff8182939f154",
      "c16401d611fc42c98d2a53b5903cce94",
      "093457a08c3946be99bbd8b0dedf6e2d",
      "4112acb9e577411f81777cf92900658b",
      "e0e1fc06684e4926a668448a3d14ec72",
      "44d3d5c71ee74c57b191e0d15320c228",
      "00aacb40bae94001a961dee0e991421c",
      "3b94d0e0489649a3a32b48d8a7b9b2be",
      "0f54874a19ec458389b32928acdb1ea9",
      "1e699eb6925643d89c70537f1ecc4285",
      "5cc9077194bf4678b4f30fe8e3e355ca",
      "080821a1716f44f4ae2764386e4ec453",
      "d186fb80b55f44b4851203ffc211c587",
      "a9b1af092b2a4a2bb70c04455fca643d",
      "e6823d24a7214c2ba6e82491e27bcd9c",
      "108752d8b1e94611bf0cc2d3fa6b4de6",
      "286f29c5e75f4f4ba4d8daa7ca51d65e",
      "0fd454070c17440da07ecf1ffdd9cddf",
      "42abc4382f594f0caa2bccab87421694",
      "f37f49437df74747bf534d0e03569c2c"
     ]
    },
    "executionInfo": {
     "elapsed": 62146,
     "status": "ok",
     "timestamp": 1595855686944,
     "user": {
      "displayName": "Mukesh Kumar",
      "photoUrl": "https://lh3.googleusercontent.com/a-/AOh14GjlcDlZf8Lr8SWM0ugfq17HC9TF79sbME_lLaRW=s64",
      "userId": "12802686450045644565"
     },
     "user_tz": -330
    },
    "id": "GD3qbG__04o8",
    "outputId": "83dcc434-efee-4778-8464-5ae0fbd8c5f3"
   },
   "outputs": [
    {
     "data": {
      "application/vnd.jupyter.widget-view+json": {
       "model_id": "34ec12818f494c03b57acb354f9d47c7",
       "version_major": 2,
       "version_minor": 0
      },
      "text/plain": [
       "HBox(children=(FloatProgress(value=0.0, description='Summarize dataset', max=35.0, style=ProgressStyle(descrip…"
      ]
     },
     "metadata": {
      "tags": []
     },
     "output_type": "display_data"
    },
    {
     "name": "stdout",
     "output_type": "stream",
     "text": [
      "\n"
     ]
    },
    {
     "data": {
      "application/vnd.jupyter.widget-view+json": {
       "model_id": "aa9f21581c9540c3a4966690c0173459",
       "version_major": 2,
       "version_minor": 0
      },
      "text/plain": [
       "HBox(children=(FloatProgress(value=0.0, description='Generate report structure', max=1.0, style=ProgressStyle(…"
      ]
     },
     "metadata": {
      "tags": []
     },
     "output_type": "display_data"
    },
    {
     "name": "stdout",
     "output_type": "stream",
     "text": [
      "\n"
     ]
    },
    {
     "data": {
      "application/vnd.jupyter.widget-view+json": {
       "model_id": "e0e1fc06684e4926a668448a3d14ec72",
       "version_major": 2,
       "version_minor": 0
      },
      "text/plain": [
       "HBox(children=(FloatProgress(value=0.0, description='Render HTML', max=1.0, style=ProgressStyle(description_wi…"
      ]
     },
     "metadata": {
      "tags": []
     },
     "output_type": "display_data"
    },
    {
     "name": "stdout",
     "output_type": "stream",
     "text": [
      "\n"
     ]
    },
    {
     "data": {
      "application/vnd.jupyter.widget-view+json": {
       "model_id": "d186fb80b55f44b4851203ffc211c587",
       "version_major": 2,
       "version_minor": 0
      },
      "text/plain": [
       "HBox(children=(FloatProgress(value=0.0, description='Export report to file', max=1.0, style=ProgressStyle(desc…"
      ]
     },
     "metadata": {
      "tags": []
     },
     "output_type": "display_data"
    },
    {
     "name": "stdout",
     "output_type": "stream",
     "text": [
      "\n",
      "Accomplished!\n"
     ]
    }
   ],
   "source": [
    "profile = ProfileReport(df = data)\n",
    "profile.to_file(output_file = 'Post Profiling Report.html')\n",
    "print('Accomplished!')"
   ]
  },
  {
   "cell_type": "code",
   "execution_count": null,
   "metadata": {
    "id": "mP-JYpTN06uZ"
   },
   "outputs": [],
   "source": [
    "from google.colab import files                   # Use only if you are using Google Colab, otherwise remove it\n",
    "files.download('Pre Profiling Report.html')      # Use only if you are using Google Colab, otherwise remove it"
   ]
  },
  {
   "cell_type": "markdown",
   "metadata": {
    "id": "zahz01-Raf-_"
   },
   "source": [
    "**Observation:**\n",
    "\n",
    "- Report shows that there's **no major change** **apart** from the **removal** of **missing information** and **redundant data**."
   ]
  },
  {
   "cell_type": "markdown",
   "metadata": {
    "id": "ta-Oz1uLdZJS"
   },
   "source": [
    "<a name = Section6></a>\n",
    "\n",
    "---\n",
    "# **6. Exploratory Data Analysis**\n",
    "---"
   ]
  },
  {
   "cell_type": "markdown",
   "metadata": {
    "id": "GeVPNLzXhKg6"
   },
   "source": [
    "**<h4>Question 1: What is the frequency and proportion of customer churn?</h4>**"
   ]
  },
  {
   "cell_type": "code",
   "execution_count": null,
   "metadata": {
    "colab": {
     "base_uri": "https://localhost:8080/",
     "height": 588
    },
    "executionInfo": {
     "elapsed": 1654,
     "status": "ok",
     "timestamp": 1595912906635,
     "user": {
      "displayName": "Mukesh Kumar",
      "photoUrl": "https://lh3.googleusercontent.com/a-/AOh14GjlcDlZf8Lr8SWM0ugfq17HC9TF79sbME_lLaRW=s64",
      "userId": "12802686450045644565"
     },
     "user_tz": -330
    },
    "id": "dcU5m48So7RW",
    "outputId": "cd1925f4-4094-4a66-a9ef-9f603d81bf0e"
   },
   "outputs": [
    {
     "data": {
      "image/png": "[encoded data removed]",
      "text/plain": [
       "<Figure size 1080x576 with 2 Axes>"
      ]
     },
     "metadata": {
      "needs_background": "light",
      "tags": []
     },
     "output_type": "display_data"
    }
   ],
   "source": [
    "fig = plt.figure(figsize = [15, 8])\n",
    "plt.subplot(1, 2, 1)\n",
    "ax = sns.countplot(x = 'Churn?', data = data, palette = ['#9FBA81', '#0272A2'])\n",
    "for p in ax.patches:\n",
    "  percentage = '{}'.format(p.get_height())\n",
    "  x = p.get_x() + p.get_width() / 2.5\n",
    "  y = p.get_y() + p.get_height() + 2\n",
    "  ax.annotate(percentage, (x, y))\n",
    "plt.xlabel(xlabel = 'Churn?', size = 14)\n",
    "plt.ylabel(ylabel = 'Frequency', size = 14)\n",
    "plt.title(label = 'Frequency Distribution', size = 14)\n",
    "\n",
    "plt.subplot(1, 2, 2)\n",
    "space = np.ones(2)/10\n",
    "data['Churn?'].value_counts().plot(kind = 'pie', explode = space, fontsize = 14, autopct = '%3.1f%%', wedgeprops = dict(width=0.15), \n",
    "                                       shadow = True, startangle = 160, figsize = [15, 8], legend = True)\n",
    "plt.ylabel(ylabel = 'Churn?', size = 14)\n",
    "plt.title(label = 'Proportion Distribution', size = 14)\n",
    "plt.tight_layout(pad = 3.0)\n",
    "plt.suptitle(t = 'Frequency & Proportion of Churned Customers', y = 1.02, size = 16)\n",
    "plt.show()"
   ]
  },
  {
   "cell_type": "markdown",
   "metadata": {
    "id": "ZcRYCEtlYNvs"
   },
   "source": [
    "**Observations:**\n",
    "\n",
    "- The **churn percentage** is **14.5%**.\n",
    "\n",
    "- Approximately **483 people churned** out of **3333 people**.\n",
    "\n",
    "- One thing is clear that the **performance evalution metric** is **not accuracy** because we can **observe** **class imbalance**."
   ]
  },
  {
   "cell_type": "markdown",
   "metadata": {
    "id": "kZedbtG7yddn"
   },
   "source": [
    "**<h4>Question 2: What is the frequency and proportion of InternationalPlan?</h4>**"
   ]
  },
  {
   "cell_type": "code",
   "execution_count": null,
   "metadata": {
    "colab": {
     "base_uri": "https://localhost:8080/",
     "height": 588
    },
    "executionInfo": {
     "elapsed": 1346,
     "status": "ok",
     "timestamp": 1595912879480,
     "user": {
      "displayName": "Mukesh Kumar",
      "photoUrl": "https://lh3.googleusercontent.com/a-/AOh14GjlcDlZf8Lr8SWM0ugfq17HC9TF79sbME_lLaRW=s64",
      "userId": "12802686450045644565"
     },
     "user_tz": -330
    },
    "id": "LAt3tbmbyiJj",
    "outputId": "421e4e17-11d4-4994-8a52-a8f8c13095ac"
   },
   "outputs": [
    {
     "data": {
      "image/png": "[encoded data removed]",
      "text/plain": [
       "<Figure size 1080x576 with 2 Axes>"
      ]
     },
     "metadata": {
      "needs_background": "light",
      "tags": []
     },
     "output_type": "display_data"
    }
   ],
   "source": [
    "fig = plt.figure(figsize = [15, 8])\n",
    "plt.subplot(1, 2, 1)\n",
    "ax = sns.countplot(x = 'InternationalPlan?', data = data, palette = ['#8AEA8D', '#50DDAC'])\n",
    "for p in ax.patches:\n",
    "  percentage = '{}'.format(p.get_height())\n",
    "  x = p.get_x() + p.get_width() / 2.5\n",
    "  y = p.get_y() + p.get_height() + 2\n",
    "  ax.annotate(percentage, (x, y))\n",
    "plt.xlabel(xlabel = 'InternationalPlan?', size = 14)\n",
    "plt.ylabel(ylabel = 'Frequency', size = 14)\n",
    "plt.title(label = 'Frequency Distribution', size = 14)\n",
    "\n",
    "plt.subplot(1, 2, 2)\n",
    "space = np.ones(2)/10\n",
    "data['InternationalPlan?'].value_counts().plot(kind = 'pie', explode = space, fontsize = 14, autopct = '%3.1f%%', wedgeprops = dict(width=0.15), \n",
    "                                       shadow = True, startangle = 160, figsize = [15, 8], legend = True, colors = ['#8AEA8D', '#50DDAC'])\n",
    "plt.ylabel(ylabel = 'InternationalPlan?', size = 14)\n",
    "plt.title(label = 'Proportion Distribution', size = 14)\n",
    "plt.tight_layout(pad = 3.0)\n",
    "plt.suptitle(t = 'Frequency & Proportion of InternationalPlan?', y = 1.02, size = 16)\n",
    "plt.show()"
   ]
  },
  {
   "cell_type": "markdown",
   "metadata": {
    "id": "MjHzOr_lz1kB"
   },
   "source": [
    "**Observation:**\n",
    "\n",
    "- **3010 (around 90%)** of **customers** are **not using international plan** while only **323 (around 10%)** are **using international plan**."
   ]
  },
  {
   "cell_type": "markdown",
   "metadata": {
    "id": "36atAfb85FTI"
   },
   "source": [
    "**<h4>Question 3: What is the frequency distribution of InternationalPlan? with respect to Churn?</h4>**"
   ]
  },
  {
   "cell_type": "code",
   "execution_count": null,
   "metadata": {
    "colab": {
     "base_uri": "https://localhost:8080/",
     "height": 519
    },
    "executionInfo": {
     "elapsed": 1673,
     "status": "ok",
     "timestamp": 1595929445544,
     "user": {
      "displayName": "Mukesh Kumar",
      "photoUrl": "https://lh3.googleusercontent.com/a-/AOh14GjlcDlZf8Lr8SWM0ugfq17HC9TF79sbME_lLaRW=s64",
      "userId": "12802686450045644565"
     },
     "user_tz": -330
    },
    "id": "VMG5nXeB5E3i",
    "outputId": "9a2b0ed4-3c32-4e82-dc23-97a0725cf60c"
   },
   "outputs": [
    {
     "data": {
      "image/png": "[encoded data removed]",
      "text/plain": [
       "<Figure size 1080x576 with 1 Axes>"
      ]
     },
     "metadata": {
      "needs_background": "light",
      "tags": []
     },
     "output_type": "display_data"
    }
   ],
   "source": [
    "figure = plt.figure(figsize = [15, 8])\n",
    "ax = sns.countplot(x = 'InternationalPlan?', hue = 'Churn?', data = data, palette = ['#566FDB', '#56DB7F'])\n",
    "\n",
    "total = data.shape[0]\n",
    "for p in ax.patches:\n",
    "  percentage = '{}'.format(p.get_height()) + ' (' +'{:.2f}%'.format(100*p.get_height()/total) + ')'\n",
    "  x = p.get_x() + p.get_width() / 3\n",
    "  y = p.get_y() + p.get_height() + 2\n",
    "  ax.annotate(percentage, (x, y))\n",
    "\n",
    "plt.xlabel(xlabel = 'InternationalPlan?', size = 14)\n",
    "plt.ylabel(ylabel = 'Frequency', size = 14)\n",
    "plt.title(label = 'Frequency Distribution of InternationalPlan? with respect to Churn?', size = 16)\n",
    "plt.legend(loc = 'upper right')\n",
    "plt.grid(b = True)\n",
    "plt.show()"
   ]
  },
  {
   "cell_type": "markdown",
   "metadata": {
    "id": "L3hpKLMIAg7p"
   },
   "source": [
    "**Observation:**\n",
    "\n",
    "- **Customers** who **don't have international plan**:\n",
    "  -  **Un-churned customers** are **approx 7.5X** than **churned customers**.\n",
    "\n",
    "- **Customers** who **have international plan**:\n",
    "  - **Un-churned customers** are **approx 1.4% more** than **churned customers**."
   ]
  },
  {
   "cell_type": "markdown",
   "metadata": {
    "id": "FI5IhC44y9nb"
   },
   "source": [
    "**<h4>Question 4: What is the frequency and proportion of VoiceMailPlan?</h4>**"
   ]
  },
  {
   "cell_type": "code",
   "execution_count": null,
   "metadata": {
    "colab": {
     "base_uri": "https://localhost:8080/",
     "height": 588
    },
    "executionInfo": {
     "elapsed": 1663,
     "status": "ok",
     "timestamp": 1595912982683,
     "user": {
      "displayName": "Mukesh Kumar",
      "photoUrl": "https://lh3.googleusercontent.com/a-/AOh14GjlcDlZf8Lr8SWM0ugfq17HC9TF79sbME_lLaRW=s64",
      "userId": "12802686450045644565"
     },
     "user_tz": -330
    },
    "id": "oB4dyV2VzJDK",
    "outputId": "2e4ffa26-430b-4c0e-8b58-13092840e093"
   },
   "outputs": [
    {
     "data": {
      "image/png": "[encoded data removed]",
      "text/plain": [
       "<Figure size 1080x576 with 2 Axes>"
      ]
     },
     "metadata": {
      "needs_background": "light",
      "tags": []
     },
     "output_type": "display_data"
    }
   ],
   "source": [
    "fig = plt.figure(figsize = [15, 8])\n",
    "plt.subplot(1, 2, 1)\n",
    "ax = sns.countplot(x = 'VoiceMailPlan?', data = data, palette = ['#A056DB', '#F461DD'])\n",
    "for p in ax.patches:\n",
    "  percentage = '{}'.format(p.get_height())\n",
    "  x = p.get_x() + p.get_width() / 2.5\n",
    "  y = p.get_y() + p.get_height() + 2\n",
    "  ax.annotate(percentage, (x, y))\n",
    "plt.xlabel(xlabel = 'VoiceMailPlan?', size = 14)\n",
    "plt.ylabel(ylabel = 'Frequency', size = 14)\n",
    "plt.title(label = 'Frequency Distribution', size = 14)\n",
    "\n",
    "plt.subplot(1, 2, 2)\n",
    "space = np.ones(2)/10\n",
    "data['VoiceMailPlan?'].value_counts().plot(kind = 'pie', explode = space, fontsize = 14, autopct = '%3.1f%%', wedgeprops = dict(width = 0.15), \n",
    "                                       shadow = True, startangle = 160, figsize = [15, 8], legend = True, colors = ['#F461DD', '#A056DB'])\n",
    "plt.ylabel(ylabel = 'VoiceMailPlan?', size = 14)\n",
    "plt.title(label = 'Proportion Distribution', size = 14)\n",
    "plt.tight_layout(pad = 3.0)\n",
    "plt.suptitle(t = 'Frequency & Proportion of VoiceMailPlan?', y = 1.02, size = 16)\n",
    "plt.show()"
   ]
  },
  {
   "cell_type": "markdown",
   "metadata": {
    "id": "MpAbYrCv1nBJ"
   },
   "source": [
    "**Observation:**\n",
    "\n",
    "- **2411 (around 72%)** of **customers** are **not using voice mail plan** while only **922 (around 28%)** are **using voice mail plan**."
   ]
  },
  {
   "cell_type": "markdown",
   "metadata": {
    "id": "Yey5Q69Fy89s"
   },
   "source": [
    "**<h4>Question 5: What is the frequency distribution of VoiceMailPlan? with respect to Churn?</h4>**"
   ]
  },
  {
   "cell_type": "code",
   "execution_count": null,
   "metadata": {
    "colab": {
     "base_uri": "https://localhost:8080/",
     "height": 519
    },
    "executionInfo": {
     "elapsed": 1260,
     "status": "ok",
     "timestamp": 1595929434719,
     "user": {
      "displayName": "Mukesh Kumar",
      "photoUrl": "https://lh3.googleusercontent.com/a-/AOh14GjlcDlZf8Lr8SWM0ugfq17HC9TF79sbME_lLaRW=s64",
      "userId": "12802686450045644565"
     },
     "user_tz": -330
    },
    "id": "AOfsyYPAzD9N",
    "outputId": "2e730c6b-41d3-44e1-9072-d498bcdf0866"
   },
   "outputs": [
    {
     "data": {
      "image/png": "[encoded data removed]",
      "text/plain": [
       "<Figure size 1080x576 with 1 Axes>"
      ]
     },
     "metadata": {
      "needs_background": "light",
      "tags": []
     },
     "output_type": "display_data"
    }
   ],
   "source": [
    "figure = plt.figure(figsize = [15, 8])\n",
    "ax = sns.countplot(x = 'VoiceMailPlan?', hue = 'Churn?', data = data, palette = ['#F67088', '#A38CF4'])\n",
    "\n",
    "total = data.shape[0]\n",
    "for p in ax.patches:\n",
    "  percentage = '{}'.format(p.get_height()) + ' (' +'{:.2f}%'.format(100*p.get_height()/total) + ')'\n",
    "  x = p.get_x() + p.get_width() / 3\n",
    "  y = p.get_y() + p.get_height() + 2\n",
    "  ax.annotate(percentage, (x, y))\n",
    "\n",
    "plt.xlabel(xlabel = 'VoiceMailPlan?', size = 14)\n",
    "plt.ylabel(ylabel = 'Frequency', size = 14)\n",
    "plt.title(label = 'Frequency Distribution of VoiceMailPlan? with respect to Churn?', size = 16)\n",
    "plt.legend(loc = 'upper right')\n",
    "plt.grid(b = True)\n",
    "plt.show()"
   ]
  },
  {
   "cell_type": "markdown",
   "metadata": {
    "id": "Sf4_QU7Ha5jw"
   },
   "source": [
    "**Observation:**\n",
    "\n",
    "- **Customers** who **have voicemail plan**:\n",
    "  -  **Un-churned customers** are **approx 10.5X** than **churned customers**.\n",
    "\n",
    "- **Customers** who **don't have voicemail plan**:\n",
    "  - **Un-churned customers** are **approx 5X more** than **churned customers**."
   ]
  },
  {
   "cell_type": "markdown",
   "metadata": {
    "id": "e_bldWQp0CH3"
   },
   "source": [
    "**<h4>Question 6: What is the frequency and proportion of AreaCode?</h4>**"
   ]
  },
  {
   "cell_type": "code",
   "execution_count": null,
   "metadata": {
    "colab": {
     "base_uri": "https://localhost:8080/",
     "height": 588
    },
    "executionInfo": {
     "elapsed": 1863,
     "status": "ok",
     "timestamp": 1595929809572,
     "user": {
      "displayName": "Mukesh Kumar",
      "photoUrl": "https://lh3.googleusercontent.com/a-/AOh14GjlcDlZf8Lr8SWM0ugfq17HC9TF79sbME_lLaRW=s64",
      "userId": "12802686450045644565"
     },
     "user_tz": -330
    },
    "id": "P-ws-kMJ0HJt",
    "outputId": "f91bd013-79d3-4109-f43f-0326fe326dee"
   },
   "outputs": [
    {
     "data": {
      "image/png": "[encoded data removed]",
      "text/plain": [
       "<Figure size 1080x576 with 2 Axes>"
      ]
     },
     "metadata": {
      "needs_background": "light",
      "tags": []
     },
     "output_type": "display_data"
    }
   ],
   "source": [
    "fig = plt.figure(figsize = [15, 8])\n",
    "plt.subplot(1, 2, 1)\n",
    "ax = sns.countplot(x = 'AreaCode', data = data, palette = ['#66C2A5', '#FC8D62', '#8DA0CB'])\n",
    "for p in ax.patches:\n",
    "  percentage = '{}'.format(p.get_height())\n",
    "  x = p.get_x() + p.get_width() / 2.5\n",
    "  y = p.get_y() + p.get_height() + 2\n",
    "  ax.annotate(percentage, (x, y))\n",
    "plt.xlabel(xlabel = 'AreaCode', size = 14)\n",
    "plt.ylabel(ylabel = 'Frequency', size = 14)\n",
    "plt.title(label = 'Frequency Distribution', size = 14)\n",
    "\n",
    "plt.subplot(1, 2, 2)\n",
    "space = np.ones(3)/10\n",
    "data['AreaCode'].value_counts().plot(kind = 'pie', explode = space, fontsize = 14, autopct = '%3.1f%%', wedgeprops = dict(width = 0.15), \n",
    "                                       shadow = True, startangle = 160, figsize = [15, 8], legend = True, colors = ['#FC8D62', '#8DA0CB', '#66C2A5'])\n",
    "plt.ylabel(ylabel = 'AreaCode', size = 14)\n",
    "plt.title(label = 'Proportion Distribution', size = 14)\n",
    "plt.tight_layout(pad = 3.0)\n",
    "plt.suptitle(t = 'Frequency & Proportion of AreaCode', y = 1.02, size = 16)\n",
    "plt.show()"
   ]
  },
  {
   "cell_type": "markdown",
   "metadata": {
    "id": "I4BjqrRCdPN3"
   },
   "source": [
    "**Observation:**\n",
    "\n",
    "- **838 (25.1%)** of **customers** **belong** to **area code 408** (**San Jose**).\n",
    "\n",
    "- **1655 (49.7%)** of **customers** **belongs** to **area code 415** (**San Francisco Bay area**).\n",
    "\n",
    "- **840 (25.2%)** of **customers** **belongs** to **area code 510** (**Oakland**).\n",
    "\n",
    "- **On observing** **above** three **points**, we can say that **majority** of **customers** **belongs** to **San Francisco Bay area**."
   ]
  },
  {
   "cell_type": "markdown",
   "metadata": {
    "id": "z-7bk3Qv3Nhi"
   },
   "source": [
    "**<h4>Question 7: What is the frequency distribution of AreaCode with respect to Churn?</h4>**"
   ]
  },
  {
   "cell_type": "code",
   "execution_count": null,
   "metadata": {
    "colab": {
     "base_uri": "https://localhost:8080/",
     "height": 519
    },
    "executionInfo": {
     "elapsed": 1574,
     "status": "ok",
     "timestamp": 1595930539874,
     "user": {
      "displayName": "Mukesh Kumar",
      "photoUrl": "https://lh3.googleusercontent.com/a-/AOh14GjlcDlZf8Lr8SWM0ugfq17HC9TF79sbME_lLaRW=s64",
      "userId": "12802686450045644565"
     },
     "user_tz": -330
    },
    "id": "dpHNJBea3bVd",
    "outputId": "dd2ebbd5-b16b-4ef5-a662-e671fa734897"
   },
   "outputs": [
    {
     "data": {
      "image/png": "[encoded data removed]",
      "text/plain": [
       "<Figure size 1080x576 with 1 Axes>"
      ]
     },
     "metadata": {
      "needs_background": "light",
      "tags": []
     },
     "output_type": "display_data"
    }
   ],
   "source": [
    "figure = plt.figure(figsize = [15, 8])\n",
    "ax = sns.countplot(x = 'AreaCode', hue = 'Churn?', data = data, palette = ['#CAB2D6', '#FDBF6F'])\n",
    "\n",
    "total = data.shape[0]\n",
    "for p in ax.patches:\n",
    "  percentage = '{}'.format(p.get_height()) + ' (' +'{:.2f}%'.format(100*p.get_height()/total) + ')'\n",
    "  x = p.get_x() + p.get_width() / 3.5\n",
    "  y = p.get_y() + p.get_height() + 2\n",
    "  ax.annotate(percentage, (x, y))\n",
    "\n",
    "plt.xlabel(xlabel = 'AreaCode', size = 14)\n",
    "plt.ylabel(ylabel = 'Frequency', size = 14)\n",
    "plt.title(label = 'Frequency Distribution of AreaCode with respect to Churn?', size = 16)\n",
    "plt.legend(loc = 'upper right')\n",
    "plt.grid(b = True)\n",
    "plt.show()"
   ]
  },
  {
   "cell_type": "markdown",
   "metadata": {
    "id": "9edItKkdek3z"
   },
   "source": [
    "**Observation:**\n",
    "\n",
    "- **Customers** who **belongs** to **area code 408**:\n",
    "  -  **Un-churned customers** are **approx 6X** than **churned customers**.\n",
    "\n",
    "- **Customers** who **belongs** to **area code 415**:\n",
    "  - **Un-churned customers** are **approx 6X more** than **churned customers**.\n",
    "\n",
    "- **Customers** who **belongs** to **area code 510**:\n",
    "  - **Un-churned customers** are **approx 5.5X more** than **churned customers**."
   ]
  },
  {
   "cell_type": "markdown",
   "metadata": {
    "id": "c8_mmm2c38lB"
   },
   "source": [
    "**<h4>Question 8: What is the frequency distribution of State with respect to Churn?</h4>**"
   ]
  },
  {
   "cell_type": "code",
   "execution_count": null,
   "metadata": {
    "colab": {
     "base_uri": "https://localhost:8080/",
     "height": 519
    },
    "executionInfo": {
     "elapsed": 3168,
     "status": "ok",
     "timestamp": 1595930770041,
     "user": {
      "displayName": "Mukesh Kumar",
      "photoUrl": "https://lh3.googleusercontent.com/a-/AOh14GjlcDlZf8Lr8SWM0ugfq17HC9TF79sbME_lLaRW=s64",
      "userId": "12802686450045644565"
     },
     "user_tz": -330
    },
    "id": "vmLWUhg84ImD",
    "outputId": "e42882d1-a16f-425e-dcd0-bb82aa816a27"
   },
   "outputs": [
    {
     "data": {
      "image/png": "[encoded data removed]",
      "text/plain": [
       "<Figure size 1440x576 with 1 Axes>"
      ]
     },
     "metadata": {
      "needs_background": "light",
      "tags": []
     },
     "output_type": "display_data"
    }
   ],
   "source": [
    "figure = plt.figure(figsize = [20, 8])\n",
    "ax = sns.countplot(x = 'State', hue = 'Churn?', data = data, palette = ['#1F77B4', '#FF7F0E'])\n",
    "\n",
    "total = data.shape[0]\n",
    "for p in ax.patches:\n",
    "  percentage = '{}'.format(p.get_height()) \n",
    "  x = p.get_x() + p.get_width() / 51\n",
    "  y = p.get_y() + p.get_height() + 2\n",
    "  ax.annotate(percentage, (x, y))\n",
    "\n",
    "plt.xlabel(xlabel = 'State', size = 14)\n",
    "plt.ylabel(ylabel = 'Frequency', size = 14)\n",
    "plt.title(label = 'Frequency Distribution of State with respect to Churn?', size = 16)\n",
    "plt.legend(loc = 'upper right')\n",
    "plt.grid(b = True)\n",
    "plt.show()"
   ]
  },
  {
   "cell_type": "markdown",
   "metadata": {
    "id": "XVxbj30WfZpQ"
   },
   "source": [
    "**Observation:**\n",
    "\n",
    "- "
   ]
  },
  {
   "cell_type": "markdown",
   "metadata": {
    "id": "0qQ73pIz5wNc"
   },
   "source": [
    "**<h4>Question 9: What is the frequency distribution of CustomerServiceCalls with respect to Churn?</h4>**"
   ]
  },
  {
   "cell_type": "code",
   "execution_count": null,
   "metadata": {
    "colab": {
     "base_uri": "https://localhost:8080/",
     "height": 519
    },
    "executionInfo": {
     "elapsed": 1500,
     "status": "ok",
     "timestamp": 1595931280559,
     "user": {
      "displayName": "Mukesh Kumar",
      "photoUrl": "https://lh3.googleusercontent.com/a-/AOh14GjlcDlZf8Lr8SWM0ugfq17HC9TF79sbME_lLaRW=s64",
      "userId": "12802686450045644565"
     },
     "user_tz": -330
    },
    "id": "OAbtNn4i5-c4",
    "outputId": "a23fe1e7-4cf1-464b-b477-369a66092349"
   },
   "outputs": [
    {
     "data": {
      "image/png": "[encoded data removed]",
      "text/plain": [
       "<Figure size 1080x576 with 1 Axes>"
      ]
     },
     "metadata": {
      "needs_background": "light",
      "tags": []
     },
     "output_type": "display_data"
    }
   ],
   "source": [
    "figure = plt.figure(figsize = [15, 8])\n",
    "ax = sns.countplot(x = 'CustomerServiceCalls', hue = 'Churn?', data = data, palette = ['#4BB359', '#D9544D'])\n",
    "\n",
    "total = data.shape[0]\n",
    "for p in ax.patches:\n",
    "  percentage = '{:.2f}%'.format(100*p.get_height()/total)\n",
    "  x = p.get_x() + p.get_width() / 10\n",
    "  y = p.get_y() + p.get_height() + 2\n",
    "  ax.annotate(percentage, (x, y))\n",
    "\n",
    "plt.xlabel(xlabel = 'CustomerServiceCalls', size = 14)\n",
    "plt.ylabel(ylabel = 'Frequency', size = 14)\n",
    "plt.title(label = 'Frequency Distribution of CustomerServiceCalls with respect to Churn?', size = 16)\n",
    "plt.legend(loc = 'upper right')\n",
    "plt.grid(b = True)\n",
    "plt.show()"
   ]
  },
  {
   "cell_type": "markdown",
   "metadata": {
    "id": "PagTUvHlfvjN"
   },
   "source": [
    "**Observation:**\n",
    "\n",
    "- The number of received calls (customer service) has been descirbed in tabular form as below:\n",
    "\n",
    "|No. of Calls|Description|\n",
    "|:--:|:--|\n",
    "|0|**Un-churned customers** are **approx 6.5X** **more** than **churned customers**.|\n",
    "|1|**Un-churned customers** are **approx 9X** **more** than **churned customers**.|\n",
    "|2|**Un-churned customers** are **approx 7.5X** **more** than **churned customers**.|\n",
    "|3|**Un-churned customers** are **approx 9X** **more** than **churned customers**.|\n",
    "|4|**Un-churned customers** are **approx 0.42%** **more** than **churned customers**.|\n",
    "|5|**Un-churned customers** are **approx 1.5X** **less** than **churned customers**.|\n",
    "|6|**Un-churned customers** are **approx 1.75X** **less** than **churned customers**.|\n",
    "|7|**Un-churned customers** are **approx 0.03%** **less** than **churned customers**.|\n",
    "|8|**Un-churned customers** are **equal** to the **churned customers**.|\n",
    "|9|**Un-churned customers** are **approx 0.06%** **less** than **churned customers**.|\n"
   ]
  },
  {
   "cell_type": "markdown",
   "metadata": {
    "id": "5Bj-KPqQ9JFE"
   },
   "source": [
    "**Note:** These are few question, from here if you would like to explore further, you are most welcome."
   ]
  },
  {
   "cell_type": "markdown",
   "metadata": {
    "id": "8R8iY5yq8Dki"
   },
   "source": [
    "<a name = Section7></a>\n",
    "\n",
    "---\n",
    "# **7. Post Data Processing & Feature Selection**\n",
    "---\n",
    "- In this part we will **perform encoding over categorical features** and **feed it** to the **Random Forest** because machines can't understand human language.\n",
    "\n",
    "- **Random Forest** will then **identify important features** for our model **using threshold** over the information gain over reduction in impurity.\n",
    "\n",
    "- And **finally** we will **split** our **data** for the **model development**."
   ]
  },
  {
   "cell_type": "markdown",
   "metadata": {
    "id": "7DG7q87ebv65"
   },
   "source": [
    "<a name = Section71></a>\n",
    "### **7.1 Encoding Categorical Features**\n",
    "\n",
    "- Before encoding the features we must identify the cardinality of the features.\n",
    "- Then decide which type of encoding we should perform (Target, Dummy etc.)."
   ]
  },
  {
   "cell_type": "code",
   "execution_count": null,
   "metadata": {
    "colab": {
     "base_uri": "https://localhost:8080/",
     "height": 97
    },
    "executionInfo": {
     "elapsed": 1157,
     "status": "ok",
     "timestamp": 1595936037195,
     "user": {
      "displayName": "Mukesh Kumar",
      "photoUrl": "https://lh3.googleusercontent.com/a-/AOh14GjlcDlZf8Lr8SWM0ugfq17HC9TF79sbME_lLaRW=s64",
      "userId": "12802686450045644565"
     },
     "user_tz": -330
    },
    "id": "5yo69v5oMyVO",
    "outputId": "377eb689-57cc-4821-ec0b-24aa58d5dd34"
   },
   "outputs": [
    {
     "name": "stdout",
     "output_type": "stream",
     "text": [
      "Total Categorical Features: 3\n"
     ]
    },
    {
     "data": {
      "text/html": [
       "<div>\n",
       "<style scoped>\n",
       "    .dataframe tbody tr th:only-of-type {\n",
       "        vertical-align: middle;\n",
       "    }\n",
       "\n",
       "    .dataframe tbody tr th {\n",
       "        vertical-align: top;\n",
       "    }\n",
       "\n",
       "    .dataframe thead th {\n",
       "        text-align: right;\n",
       "    }\n",
       "</style>\n",
       "<table border=\"1\" class=\"dataframe\">\n",
       "  <thead>\n",
       "    <tr style=\"text-align: right;\">\n",
       "      <th></th>\n",
       "      <th>State</th>\n",
       "      <th>InternationalPlan?</th>\n",
       "      <th>VoiceMailPlan?</th>\n",
       "    </tr>\n",
       "  </thead>\n",
       "  <tbody>\n",
       "    <tr>\n",
       "      <th>Length</th>\n",
       "      <td>51</td>\n",
       "      <td>2</td>\n",
       "      <td>2</td>\n",
       "    </tr>\n",
       "  </tbody>\n",
       "</table>\n",
       "</div>"
      ],
      "text/plain": [
       "        State  InternationalPlan?  VoiceMailPlan?\n",
       "Length     51                   2               2"
      ]
     },
     "execution_count": 75,
     "metadata": {
      "tags": []
     },
     "output_type": "execute_result"
    }
   ],
   "source": [
    "cat_features = []\n",
    "label_len = []\n",
    "\n",
    "# Identify Categorical Features\n",
    "for i in data.columns:\n",
    "  if (data[i].dtype == object):\n",
    "    cat_features.append(i)\n",
    "\n",
    "# Identify Labels Length per Feature\n",
    "for i in cat_features:\n",
    "  label_len.append(len(data[i].unique()))\n",
    "\n",
    "print('Total Categorical Features:', len(cat_features))\n",
    "\n",
    "# Categorical Feature Frame Representation\n",
    "cat_frame = pd.DataFrame(data = {'Length': label_len}, index = cat_features)\n",
    "cat_frame.transpose()"
   ]
  },
  {
   "cell_type": "markdown",
   "metadata": {
    "id": "8IBY4vOttcH2"
   },
   "source": [
    "**Observation:**\n",
    "\n",
    "- We can **observe** that **State** has **high cardinality labels**. We will **perform K Fold Target Encoding** over this feature.\n",
    "\n",
    "- For **rest** of the **features** we will **perform dummy encoding**.\n",
    "\n",
    "- For **KFold Target Encoding** we have **created a class** as follows:"
   ]
  },
  {
   "cell_type": "markdown",
   "metadata": {
    "id": "ernfQnokNqr4"
   },
   "source": [
    "**<h4>K Fold Target Encoding:</h4>**\n",
    "\n",
    "- **Target encoding** is **one of the most powerful** **techniques** in feature engineering.\n",
    "\n",
    "- It has been **widely applied** and **developed** in **different forms**.\n",
    "\n",
    "- The **limitation** of **Target Encoding** is the **overfitting** of the **data**.\n",
    "\n",
    "- The **goal** of **K Fold Target Encoding** is to **reduce** the **overfitting** by **adding regularization** to the mean encoding.\n",
    "\n",
    "- Let's take an example as follows:\n",
    "\n",
    "|Example|Calculation |\n",
    "|:-------------------------:|:-------------------------:|\n",
    "|![img1](https://raw.githubusercontent.com/insaid2018/Domain_Case_Studies/master/Telecom/te1.PNG)  | Here the count of A = 10, B = 10. The Mean(A): 6/10 = 0.6, Mean(B): 3/10 = 0.3|\n",
    "\n",
    "- In the above diagram, we can observer overfitting over label A. To handle this overfitting we will perform 5 fold target encoding. \n",
    "\n",
    "- Each fold's categories are encoded based on the mean of the rest of the fold's categories.\n",
    "\n",
    "- For first fold, mean values are estimated based on the rest of the folds i.e. Fold 2, Fold 3, Fold 4 & Fold 5.\n",
    "\n",
    "|Fold 1 View|Calculation |\n",
    "|:-------------------------:|:-------------------------:|\n",
    "|![img1](https://raw.githubusercontent.com/insaid2018/Domain_Case_Studies/master/Telecom/kte2.PNG)  |The Mean(A): 5/9 = 0.556, Mean(B): 2/7 = 0.285|\n",
    "\n",
    "- For second fold, mean values are estimated based on the rest of the folds i.e. Fold 1, Fold 3, Fold 4 & Fold 5.\n",
    "\n",
    "|Fold 2 View|Calculation |\n",
    "|:-------------------------:|:-------------------------:|\n",
    "|![img1](https://raw.githubusercontent.com/insaid2018/Domain_Case_Studies/master/Telecom/kte3.PNG)  |The Mean(A): 5/8 = 0.625, Mean(B): 2/8 = 0.250|\n",
    "\n",
    "- For third fold, mean values are estimated based on the rest of the folds i.e. Fold 1, Fold 2, Fold 4 & Fold 5.\n",
    "\n",
    "|Fold 3 View|Calculation |\n",
    "|:-------------------------:|:-------------------------:|\n",
    "|![img1](https://raw.githubusercontent.com/insaid2018/Domain_Case_Studies/master/Telecom/kte4.PNG)  |The Mean(A): 5/7 = 0.714, Mean(B): 3/9 = 0.333|\n",
    "\n",
    "- For fourth fold, mean values are estimated based on the rest of the folds i.e. Fold 1, Fold 2, Fold 3 & Fold 5.\n",
    "\n",
    "|Fold 4 View|Calculation |\n",
    "|:-------------------------:|:-------------------------:|\n",
    "|![img1](https://raw.githubusercontent.com/insaid2018/Domain_Case_Studies/master/Telecom/kte5.PNG)  |The Mean(A): 5/8 = 0.625, Mean(B): 2/8 = 0.250|\n",
    "\n",
    "- For fifth fold, mean values are estimated based on the rest of the folds i.e. Fold 1, Fold 2, Fold 3 & Fold 4.\n",
    "\n",
    "|Fold 5 View|Calculation |\n",
    "|:-------------------------:|:-------------------------:|\n",
    "|![img1](https://raw.githubusercontent.com/insaid2018/Domain_Case_Studies/master/Telecom/kte6.PNG)  |The Mean(A): 4/8 = 0.500, Mean(B): 3/8 = 0.375|"
   ]
  },
  {
   "cell_type": "code",
   "execution_count": null,
   "metadata": {
    "id": "q6Jgmvs5Nu9H"
   },
   "outputs": [],
   "source": [
    "class KFoldTargetEncoder(BaseEstimator, TransformerMixin):\n",
    "  def __init__(self ,colnames , targetName, n_fold = 5, verbosity = True, discardOriginal_col = False):\n",
    "    self.colnames = colnames\n",
    "    self.targetName = targetName\n",
    "    self.n_fold = n_fold\n",
    "    self.verbosity = verbosity\n",
    "    self.discardOriginal_col = discardOriginal_col\n",
    "\n",
    "  def fit(self, X, y = None):\n",
    "    return self\n",
    "\n",
    "  def transform(self,X):\n",
    "    assert(type(self.targetName) == str)\n",
    "    assert(type(self.colnames) == str)\n",
    "    assert(self.colnames in X.columns)\n",
    "    assert(self.targetName in X.columns)\n",
    "    mean_of_target = X[self.targetName].mean()\n",
    "    kf = KFold(n_splits = self.n_fold, shuffle = False, random_state = 42)\n",
    "    col_mean_name = self.colnames + '_' + 'Kfold_Target_Enc'\n",
    "    X[col_mean_name] = np.nan\n",
    "    for tr_ind, val_ind in kf.split(X):\n",
    "      X_tr, X_val = X.iloc[tr_ind], X.iloc[val_ind]\n",
    "      X.loc[X.index[val_ind], col_mean_name] = X_val[self.colnames].map(X_tr.groupby(self.colnames)[self.targetName].mean())\n",
    "      X[col_mean_name].fillna(mean_of_target, inplace = True)\n",
    "    if self.verbosity:\n",
    "      encoded_feature = X[col_mean_name].values\n",
    "      print('Correlation between the new feature, {} and, {} is {}.'.format(col_mean_name, self.targetName, np.corrcoef(X[self.targetName].values, encoded_feature)[0][1]))\n",
    "    if self.discardOriginal_col:\n",
    "      X = X.drop(self.colnames, axis=1)\n",
    "    return X"
   ]
  },
  {
   "cell_type": "markdown",
   "metadata": {
    "id": "u60T65pnOFiE"
   },
   "source": [
    "**Performing Operations:**"
   ]
  },
  {
   "cell_type": "code",
   "execution_count": null,
   "metadata": {
    "colab": {
     "base_uri": "https://localhost:8080/",
     "height": 34
    },
    "executionInfo": {
     "elapsed": 1327,
     "status": "ok",
     "timestamp": 1595936465262,
     "user": {
      "displayName": "Mukesh Kumar",
      "photoUrl": "https://lh3.googleusercontent.com/a-/AOh14GjlcDlZf8Lr8SWM0ugfq17HC9TF79sbME_lLaRW=s64",
      "userId": "12802686450045644565"
     },
     "user_tz": -330
    },
    "id": "tI1Z7fpdOBsL",
    "outputId": "30b47ad0-d99a-4ebe-c198-bb4184c31163"
   },
   "outputs": [
    {
     "name": "stdout",
     "output_type": "stream",
     "text": [
      "Correlation between the new feature, State_Kfold_Target_Enc and, Churn? is 0.05096676412400877.\n"
     ]
    }
   ],
   "source": [
    "# Dummy Encoding -> ServiceProvider, DownloadOrUpload, Technology\n",
    "data = pd.get_dummies(data = data, columns = ['InternationalPlan?', 'VoiceMailPlan?'])\n",
    "\n",
    "################################################################################\n",
    "\n",
    "# Performing Target Encoding -> ServiceArea\n",
    "kfold_te = KFoldTargetEncoder(colnames = 'State', targetName = 'Churn?', discardOriginal_col = True)\n",
    "data = kfold_te.fit_transform(X = data)"
   ]
  },
  {
   "cell_type": "markdown",
   "metadata": {
    "id": "gmClbMQnOmrZ"
   },
   "source": [
    "<a name = Section72></a>\n",
    "### **7.2 Feature Selection using Random Forest**\n"
   ]
  },
  {
   "cell_type": "code",
   "execution_count": null,
   "metadata": {
    "id": "1EQQ3mYoOjaa"
   },
   "outputs": [],
   "source": [
    "X = data.drop('Churn?', axis = 1)\n",
    "y = data['Churn?']"
   ]
  },
  {
   "cell_type": "code",
   "execution_count": null,
   "metadata": {
    "colab": {
     "base_uri": "https://localhost:8080/",
     "height": 68
    },
    "executionInfo": {
     "elapsed": 2078,
     "status": "ok",
     "timestamp": 1595936546839,
     "user": {
      "displayName": "Mukesh Kumar",
      "photoUrl": "https://lh3.googleusercontent.com/a-/AOh14GjlcDlZf8Lr8SWM0ugfq17HC9TF79sbME_lLaRW=s64",
      "userId": "12802686450045644565"
     },
     "user_tz": -330
    },
    "id": "WA8Wn41vOvy3",
    "outputId": "ef3aed2b-f33b-45e7-8934-885c19a1b5af"
   },
   "outputs": [
    {
     "name": "stdout",
     "output_type": "stream",
     "text": [
      "Total Features Selected are 6\n",
      "Threshold set by Model: 0.05\n",
      "Features: ['TotalMorMin', 'TotalMorCharge', 'TotalEveMin', 'TotalEveCharge', 'TotalIntCalls', 'CustomerServiceCalls']\n"
     ]
    }
   ],
   "source": [
    "# Have some patience, may take some time :)\n",
    "selector = SelectFromModel(RandomForestClassifier(n_estimators = 100, random_state = 42, n_jobs = -1))\n",
    "selector.fit(X, y)\n",
    "\n",
    "# Extracting list of important features\n",
    "selected_feat = X.columns[(selector.get_support())].tolist()\n",
    "\n",
    "print('Total Features Selected are', len(selected_feat))\n",
    "\n",
    "# Estimated by taking mean(default) of feature importance\n",
    "print('Threshold set by Model:', np.round(selector.threshold_, decimals = 2))\n",
    "print('Features:', selected_feat)"
   ]
  },
  {
   "cell_type": "markdown",
   "metadata": {
    "id": "DJN7d_p4O0WP"
   },
   "source": [
    "**Observation:**\n",
    "\n",
    "- The important features marked by Random Forest are:\n",
    "\n",
    "|TotalMorMin|TotalMorCharge|TotalEveMin|TotalEveCharge|TotalIntCalls|CustomerServiceCalls|\n",
    "|:--|:--|:--|:--|:--|:--|"
   ]
  },
  {
   "cell_type": "markdown",
   "metadata": {
    "id": "RFj4zG1TO_B1"
   },
   "source": [
    "**Potential Feature Estimation:** Below features are plotted against their relative importance (in %age),  of each feature."
   ]
  },
  {
   "cell_type": "code",
   "execution_count": null,
   "metadata": {
    "colab": {
     "base_uri": "https://localhost:8080/",
     "height": 519
    },
    "executionInfo": {
     "elapsed": 3200,
     "status": "ok",
     "timestamp": 1595936610386,
     "user": {
      "displayName": "Mukesh Kumar",
      "photoUrl": "https://lh3.googleusercontent.com/a-/AOh14GjlcDlZf8Lr8SWM0ugfq17HC9TF79sbME_lLaRW=s64",
      "userId": "12802686450045644565"
     },
     "user_tz": -330
    },
    "id": "btR8hVtQO9v3",
    "outputId": "620a0dee-9bf4-4bb7-eecd-57162c83686f"
   },
   "outputs": [
    {
     "data": {
      "image/png": "[encoded data removed]",
      "text/plain": [
       "<Figure size 1080x576 with 1 Axes>"
      ]
     },
     "metadata": {
      "needs_background": "light",
      "tags": []
     },
     "output_type": "display_data"
    }
   ],
   "source": [
    "# Have some patience, may take some time :)\n",
    "figure = plt.figure(figsize = [15, 8])\n",
    "\n",
    "# If you don't want relative importance, use relative = False in below method\n",
    "viz = FeatureImportances(selector.estimator, relative = False)\n",
    "viz.fit(X, y)\n",
    "\n",
    "plt.xlabel('Relative Importance', size = 14)\n",
    "plt.ylabel('Features', size = 14)\n",
    "plt.title(label = 'Feature Importances', size = 16)\n",
    "plt.show()"
   ]
  },
  {
   "cell_type": "markdown",
   "metadata": {
    "id": "fcIuonOVXVGr"
   },
   "source": [
    "<a name = Section73></a>\n",
    "### **7.3 Data Preparation**\n",
    "\n",
    "- Now we will **split** our **data** in **training** and **testing** part for further development."
   ]
  },
  {
   "cell_type": "code",
   "execution_count": null,
   "metadata": {
    "id": "uQKI-mAYXWFv"
   },
   "outputs": [],
   "source": [
    "X = data[selected_feat]\n",
    "y = data['Churn?']"
   ]
  },
  {
   "cell_type": "code",
   "execution_count": null,
   "metadata": {
    "colab": {
     "base_uri": "https://localhost:8080/",
     "height": 51
    },
    "executionInfo": {
     "elapsed": 1416,
     "status": "ok",
     "timestamp": 1595938818417,
     "user": {
      "displayName": "Mukesh Kumar",
      "photoUrl": "https://lh3.googleusercontent.com/a-/AOh14GjlcDlZf8Lr8SWM0ugfq17HC9TF79sbME_lLaRW=s64",
      "userId": "12802686450045644565"
     },
     "user_tz": -330
    },
    "id": "IKYKrn9WXZFu",
    "outputId": "5b5af42b-c62a-42dc-aa79-82a54a508b11"
   },
   "outputs": [
    {
     "name": "stdout",
     "output_type": "stream",
     "text": [
      "Training Data Shape: (2999, 6) (2999,)\n",
      "Testing Data Shape: (334, 6) (334,)\n"
     ]
    }
   ],
   "source": [
    "X_train, X_test, y_train, y_test = train_test_split(X, y, test_size = 0.1, random_state = 42, stratify = y)\n",
    "\n",
    "print('Training Data Shape:', X_train.shape, y_train.shape)\n",
    "print('Testing Data Shape:', X_test.shape, y_test.shape)"
   ]
  },
  {
   "cell_type": "markdown",
   "metadata": {
    "id": "nuHBv3eHXe_6"
   },
   "source": [
    "**Observation:**\n",
    "\n",
    "- Now that we have split out our data, we are **good to go with model development**."
   ]
  },
  {
   "cell_type": "markdown",
   "metadata": {
    "id": "hIGOqzVDWLuF"
   },
   "source": [
    "<a name = Section8></a>\n",
    "\n",
    "---\n",
    "# **8. Model Development & Evaluation**\n",
    "---\n",
    "\n",
    "- In this section we will **develop different models using only important feature** and **tune** our **model if required**.\n",
    "\n",
    "- Then we will **compare the results** obtained from them and **make our observation**.\n",
    "\n",
    "- For **evaluation purpose** we will **focus** on **recall value** for **both** the **classes**.\n",
    "\n",
    "- **Remember** that **we want generalize results** i.e. same results or error on testing data as that of training data.\n",
    "\n",
    "- We will **observer** **whether** the **SMOTE** is **required** or not **because** we want to **focus** on **recall** values of **both** the **classes**."
   ]
  },
  {
   "cell_type": "markdown",
   "metadata": {
    "id": "1mTTUnbNWhzC"
   },
   "source": [
    "<a name = Section81></a>\n",
    "\n",
    "## **8.1 Baseline Models**"
   ]
  },
  {
   "cell_type": "markdown",
   "metadata": {
    "id": "vfeRLycCdSmd"
   },
   "source": [
    "### **8.1.1 Logistic Regression**"
   ]
  },
  {
   "cell_type": "code",
   "execution_count": null,
   "metadata": {
    "colab": {
     "base_uri": "https://localhost:8080/",
     "height": 462
    },
    "executionInfo": {
     "elapsed": 2711,
     "status": "ok",
     "timestamp": 1595938874664,
     "user": {
      "displayName": "Mukesh Kumar",
      "photoUrl": "https://lh3.googleusercontent.com/a-/AOh14GjlcDlZf8Lr8SWM0ugfq17HC9TF79sbME_lLaRW=s64",
      "userId": "12802686450045644565"
     },
     "user_tz": -330
    },
    "id": "OO9QgwEbXKwA",
    "outputId": "2da532b5-24c9-4da7-f991-0e59cd65cbf0"
   },
   "outputs": [
    {
     "data": {
      "image/png": "[encoded data removed]",
      "text/plain": [
       "<Figure size 1080x504 with 4 Axes>"
      ]
     },
     "metadata": {
      "needs_background": "light",
      "tags": []
     },
     "output_type": "display_data"
    }
   ],
   "source": [
    "log  = LogisticRegression(random_state = 42, class_weight = 'balanced')\n",
    "log.fit(X_train, y_train)\n",
    "\n",
    "y_train_pred_count = log.predict(X_train)\n",
    "y_test_pred_count = log.predict(X_test)\n",
    "\n",
    "fig, (ax1, ax2) = plt.subplots(nrows = 1, ncols = 2, sharex = False, figsize=(15, 7))\n",
    "plot_confusion_matrix(estimator = log, X = X_train, y_true = y_train, values_format = '.7g', cmap = 'YlGnBu', ax = ax1)\n",
    "plot_confusion_matrix(estimator = log, X = X_test, y_true = y_test, values_format = '.7g', cmap = 'YlGnBu', ax = ax2)\n",
    "ax1.set_title(label = 'Train Data', size = 14)\n",
    "ax2.set_title(label = 'Test Data', size = 14)\n",
    "ax1.grid(b = False)\n",
    "ax2.grid(b = False)\n",
    "plt.suptitle(t = 'Confusion Matrix', size = 16)\n",
    "plt.show()"
   ]
  },
  {
   "cell_type": "markdown",
   "metadata": {
    "id": "KF0_0BpTbWvr"
   },
   "source": [
    "**Observation:**\n",
    "\n",
    "- **Train Data:**\n",
    "  - Model predicted **1815 instances correctly** for **negative class** while **302 instances** were predicted **correctly** for **positive class**.\n",
    "  - Model **identified 133 instances negative but in actual** they **were positive**.\n",
    "  - Model **identified 749 instances positive but in actual** they **were negative**.\n",
    "\n",
    "- **Test Data:**\n",
    "  - Model predicted **193 instances correctly** for **negative class** while **32 instances** were predicted **correctly** for **positive class**.\n",
    "  - Model **identified 16 instance negative but in actual** they **were positive**.\n",
    "  - Model **identified 93 instances positive but in actual** they **were negative**."
   ]
  },
  {
   "cell_type": "code",
   "execution_count": null,
   "metadata": {
    "colab": {
     "base_uri": "https://localhost:8080/",
     "height": 357
    },
    "executionInfo": {
     "elapsed": 1108,
     "status": "ok",
     "timestamp": 1595938888403,
     "user": {
      "displayName": "Mukesh Kumar",
      "photoUrl": "https://lh3.googleusercontent.com/a-/AOh14GjlcDlZf8Lr8SWM0ugfq17HC9TF79sbME_lLaRW=s64",
      "userId": "12802686450045644565"
     },
     "user_tz": -330
    },
    "id": "h8iQJ5b6S-vS",
    "outputId": "a1346e0d-528c-4a5a-a288-9bcf190d21ff"
   },
   "outputs": [
    {
     "name": "stdout",
     "output_type": "stream",
     "text": [
      "                    Training Report          \n",
      "              precision    recall  f1-score   support\n",
      "\n",
      "       False       0.93      0.71      0.80      2564\n",
      "        True       0.29      0.69      0.41       435\n",
      "\n",
      "    accuracy                           0.71      2999\n",
      "   macro avg       0.61      0.70      0.61      2999\n",
      "weighted avg       0.84      0.71      0.75      2999\n",
      "\n",
      "                    Testing Report           \n",
      "              precision    recall  f1-score   support\n",
      "\n",
      "       False       0.92      0.67      0.78       286\n",
      "        True       0.26      0.67      0.37        48\n",
      "\n",
      "    accuracy                           0.67       334\n",
      "   macro avg       0.59      0.67      0.57       334\n",
      "weighted avg       0.83      0.67      0.72       334\n",
      "\n"
     ]
    }
   ],
   "source": [
    "logistic_report_train = classification_report(y_train, y_train_pred_count)\n",
    "logistic_report_test = classification_report(y_test, y_test_pred_count)\n",
    "print('                    Training Report          ')\n",
    "print(logistic_report_train)\n",
    "print('                    Testing Report           ')\n",
    "print(logistic_report_test)"
   ]
  },
  {
   "cell_type": "markdown",
   "metadata": {
    "id": "y51x6WqM1mpu"
   },
   "source": [
    "**Observation:**\n",
    "\n",
    "- We can **observe** that the **recall values** of **both** the **classes** are **trying** to **generalize** well.\n",
    "\n",
    "- But we **need** **better** **results** and in order to that we **will try more complex models** in upcoming part."
   ]
  },
  {
   "cell_type": "markdown",
   "metadata": {
    "id": "7lw2kTNnYviJ"
   },
   "source": [
    "### **8.1.2 Random Forest Classifier**"
   ]
  },
  {
   "cell_type": "code",
   "execution_count": null,
   "metadata": {
    "colab": {
     "base_uri": "https://localhost:8080/",
     "height": 495
    },
    "executionInfo": {
     "elapsed": 2872,
     "status": "ok",
     "timestamp": 1595939249276,
     "user": {
      "displayName": "Mukesh Kumar",
      "photoUrl": "https://lh3.googleusercontent.com/a-/AOh14GjlcDlZf8Lr8SWM0ugfq17HC9TF79sbME_lLaRW=s64",
      "userId": "12802686450045644565"
     },
     "user_tz": -330
    },
    "id": "bUIJ4VQPY-qI",
    "outputId": "51907090-3a44-45ab-811d-86ad7a03ac95"
   },
   "outputs": [
    {
     "data": {
      "image/png": "[encoded data removed]",
      "text/plain": [
       "<Figure size 1080x504 with 4 Axes>"
      ]
     },
     "metadata": {
      "needs_background": "light",
      "tags": []
     },
     "output_type": "display_data"
    }
   ],
   "source": [
    "rfc = RandomForestClassifier(n_jobs = -1, class_weight = 'balanced', random_state = 42)\n",
    "rfc.fit(X_train, y_train)\n",
    "\n",
    "y_train_pred_count = rfc.predict(X_train)\n",
    "y_test_pred_count = rfc.predict(X_test)\n",
    "\n",
    "fig, (ax1, ax2) = plt.subplots(nrows = 1, ncols = 2, sharex = False, figsize=(15, 7))\n",
    "plot_confusion_matrix(estimator = rfc, X = X_train, y_true = y_train, values_format = '.7g', cmap = 'YlGnBu', ax = ax1)\n",
    "plot_confusion_matrix(estimator = rfc, X = X_test, y_true = y_test, values_format = '.7g', cmap = 'YlGnBu', ax = ax2)\n",
    "ax1.set_title(label = 'Train Data', size = 14)\n",
    "ax2.set_title(label = 'Test Data', size = 14)\n",
    "ax1.grid(b = False)\n",
    "ax2.grid(b = False)\n",
    "plt.suptitle(t = 'Confusion Matrix', size = 16)\n",
    "plt.tight_layout(pad = 3.0)\n",
    "plt.show()"
   ]
  },
  {
   "cell_type": "markdown",
   "metadata": {
    "id": "m1csn7MtbZTD"
   },
   "source": [
    "**Observation:**\n",
    "\n",
    "- **Train Data:**\n",
    "  - Model predicted **2564 instances correctly** for **negative class** while **435 instances** were predicted **correctly** for **positive class**.\n",
    "  - Model **identified 0 instances negative but in actual** they **were positive**.\n",
    "  - Model **identified 0 instances positive but in actual** they **were negative**.\n",
    "\n",
    "- **Test Data:**\n",
    "  - Model predicted **276 instances correctly** for **negative class** while **22 instances** were predicted **correctly** for **positive class**.\n",
    "  - Model **identified 26 instance negative but in actual** they **were positive**.\n",
    "  - Model **identified 10 instances positive but in actual** they **were negative**."
   ]
  },
  {
   "cell_type": "code",
   "execution_count": null,
   "metadata": {
    "colab": {
     "base_uri": "https://localhost:8080/",
     "height": 357
    },
    "executionInfo": {
     "elapsed": 1176,
     "status": "ok",
     "timestamp": 1595939269983,
     "user": {
      "displayName": "Mukesh Kumar",
      "photoUrl": "https://lh3.googleusercontent.com/a-/AOh14GjlcDlZf8Lr8SWM0ugfq17HC9TF79sbME_lLaRW=s64",
      "userId": "12802686450045644565"
     },
     "user_tz": -330
    },
    "id": "5rwxQkefZHoc",
    "outputId": "8c07811a-fece-48ef-9a45-7f2e05e94d9f"
   },
   "outputs": [
    {
     "name": "stdout",
     "output_type": "stream",
     "text": [
      "                    Training Report          \n",
      "              precision    recall  f1-score   support\n",
      "\n",
      "       False       1.00      1.00      1.00      2564\n",
      "        True       1.00      1.00      1.00       435\n",
      "\n",
      "    accuracy                           1.00      2999\n",
      "   macro avg       1.00      1.00      1.00      2999\n",
      "weighted avg       1.00      1.00      1.00      2999\n",
      "\n",
      "                    Testing Report           \n",
      "              precision    recall  f1-score   support\n",
      "\n",
      "       False       0.91      0.97      0.94       286\n",
      "        True       0.69      0.46      0.55        48\n",
      "\n",
      "    accuracy                           0.89       334\n",
      "   macro avg       0.80      0.71      0.74       334\n",
      "weighted avg       0.88      0.89      0.88       334\n",
      "\n"
     ]
    }
   ],
   "source": [
    "rfc_report_train = classification_report(y_train, y_train_pred_count)\n",
    "rfc_report_test = classification_report(y_test, y_test_pred_count)\n",
    "print('                    Training Report          ')\n",
    "print(rfc_report_train)\n",
    "print('                    Testing Report           ')\n",
    "print(rfc_report_test)"
   ]
  },
  {
   "cell_type": "markdown",
   "metadata": {
    "id": "Z6AJQfdx2s6n"
   },
   "source": [
    "**Observation:**\n",
    "\n",
    "- Here we can **observe** some **good results** over the **splitted data sets (Train & Test)**.\n",
    "\n",
    "- But **recall scores** on **test set** are **not good** for **positive class(True)**.\n",
    "\n",
    "- This is **due to** the **class imbalance**, but **before oversampling** our data we will **try one more model**."
   ]
  },
  {
   "cell_type": "markdown",
   "metadata": {
    "id": "SQEEk8ETZQz2"
   },
   "source": [
    "### **8.1.3 Extreme Gradient Boosting Classifier**"
   ]
  },
  {
   "cell_type": "code",
   "execution_count": null,
   "metadata": {
    "colab": {
     "base_uri": "https://localhost:8080/",
     "height": 495
    },
    "executionInfo": {
     "elapsed": 1993,
     "status": "ok",
     "timestamp": 1595939359410,
     "user": {
      "displayName": "Mukesh Kumar",
      "photoUrl": "https://lh3.googleusercontent.com/a-/AOh14GjlcDlZf8Lr8SWM0ugfq17HC9TF79sbME_lLaRW=s64",
      "userId": "12802686450045644565"
     },
     "user_tz": -330
    },
    "id": "aahurInBZQe8",
    "outputId": "ec2fac09-649a-40ab-9262-45f4e88e2372"
   },
   "outputs": [
    {
     "data": {
      "image/png": "[encoded data removed]",
      "text/plain": [
       "<Figure size 1080x504 with 4 Axes>"
      ]
     },
     "metadata": {
      "needs_background": "light",
      "tags": []
     },
     "output_type": "display_data"
    }
   ],
   "source": [
    "xgb = XGBClassifier(random_state = 42, n_jobs = -1)\n",
    "xgb.fit(X_train, y_train)\n",
    "\n",
    "y_train_pred_count = xgb.predict(X_train)\n",
    "y_test_pred_count = xgb.predict(X_test)\n",
    "\n",
    "fig, (ax1, ax2) = plt.subplots(nrows = 1, ncols = 2, sharex = False, figsize=(15, 7))\n",
    "plot_confusion_matrix(estimator = xgb, X = X_train, y_true = y_train, values_format = '.7g', cmap = 'YlGnBu', ax = ax1)\n",
    "plot_confusion_matrix(estimator = xgb, X = X_test, y_true = y_test, values_format = '.7g', cmap = 'YlGnBu', ax = ax2)\n",
    "ax1.set_title(label = 'Train Data', size = 14)\n",
    "ax2.set_title(label = 'Test Data', size = 14)\n",
    "ax1.grid(b = False)\n",
    "ax2.grid(b = False)\n",
    "plt.suptitle(t = 'Confusion Matrix', size = 16)\n",
    "plt.tight_layout(pad = 3.0)\n",
    "plt.show()"
   ]
  },
  {
   "cell_type": "markdown",
   "metadata": {
    "id": "fqRyhJuTy2cW"
   },
   "source": [
    "**Observation:**\n",
    "\n",
    "- **Train Data:**\n",
    "  - Model predicted **2532 instances correctly** for **negative class** while **240 instances** were predicted **correctly** for **positive class**.\n",
    "  - Model **identified 195 instances negative but in actual** they **were positive**.\n",
    "  - Model **identified 32 instances positive but in actual** they **were negative**.\n",
    "\n",
    "- **Test Data:**\n",
    "  - Model predicted **275 instances correctly** for **negative class** while **23 instances** were predicted **correctly** for **positive class**.\n",
    "  - Model **identified 25 instance negative but in actual** they **were positive**.\n",
    "  - Model **identified 11 instances positive but in actual** they **were negative**."
   ]
  },
  {
   "cell_type": "code",
   "execution_count": null,
   "metadata": {
    "colab": {
     "base_uri": "https://localhost:8080/",
     "height": 357
    },
    "executionInfo": {
     "elapsed": 1097,
     "status": "ok",
     "timestamp": 1595939386273,
     "user": {
      "displayName": "Mukesh Kumar",
      "photoUrl": "https://lh3.googleusercontent.com/a-/AOh14GjlcDlZf8Lr8SWM0ugfq17HC9TF79sbME_lLaRW=s64",
      "userId": "12802686450045644565"
     },
     "user_tz": -330
    },
    "id": "JtFW60NfZhpX",
    "outputId": "0633d092-bc57-4992-8d42-75dc5169e558"
   },
   "outputs": [
    {
     "name": "stdout",
     "output_type": "stream",
     "text": [
      "                    Training Report          \n",
      "              precision    recall  f1-score   support\n",
      "\n",
      "       False       0.93      0.99      0.96      2564\n",
      "        True       0.88      0.55      0.68       435\n",
      "\n",
      "    accuracy                           0.92      2999\n",
      "   macro avg       0.91      0.77      0.82      2999\n",
      "weighted avg       0.92      0.92      0.92      2999\n",
      "\n",
      "                    Testing Report           \n",
      "              precision    recall  f1-score   support\n",
      "\n",
      "       False       0.92      0.96      0.94       286\n",
      "        True       0.68      0.48      0.56        48\n",
      "\n",
      "    accuracy                           0.89       334\n",
      "   macro avg       0.80      0.72      0.75       334\n",
      "weighted avg       0.88      0.89      0.88       334\n",
      "\n"
     ]
    }
   ],
   "source": [
    "xgb_report_train = classification_report(y_train, y_train_pred_count)\n",
    "xgb_report_test = classification_report(y_test, y_test_pred_count)\n",
    "print('                    Training Report          ')\n",
    "print(xgb_report_train)\n",
    "print('                    Testing Report           ')\n",
    "print(xgb_report_test)"
   ]
  },
  {
   "cell_type": "markdown",
   "metadata": {
    "id": "Sx_5MsPi43Vn"
   },
   "source": [
    "**Observation:**\n",
    "\n",
    "- The **recall scores** for **train data** has **dropped significantly** with respect to **previous models**.\n",
    "\n",
    "- Regarding **test data** there's only **1% drop** in **recall** for **negative class** while for **positive class** it has **increased** to **2%** only."
   ]
  },
  {
   "cell_type": "markdown",
   "metadata": {
    "id": "pALBEBGUZuRW"
   },
   "source": [
    "<a name = Section82></a>\n",
    "\n",
    "## **8.2 Oversampling Models: Using Essential Features**"
   ]
  },
  {
   "cell_type": "markdown",
   "metadata": {
    "id": "xf5DWhXdZxAw"
   },
   "source": [
    "#### **SMOTE Technique & its Implementation**\n",
    "\n",
    "- **SMOTE refers to Synthetic Minority Oversampling Technique**.\n",
    "\n",
    "- It **aims** to **balance class distribution** by **randomly** **increasing minority class** examples **by replicating** them. \n",
    "\n",
    "- It **synthesises** **new minority instances** **between** **existing** minority **instances**. \n",
    "\n",
    "- **It generates the virtual training records by linear interpolation for the minority class.** \n",
    "\n",
    "- These **synthetic training records are generated by randomly selecting** one or more of the k-nearest neighbors for each **example in the minority class**. \n",
    "\n",
    "- **After** the **oversampling process**, the **data is reconstructed** and several classification models can be applied for the processed data."
   ]
  },
  {
   "cell_type": "markdown",
   "metadata": {
    "id": "TCHTokMIZzeA"
   },
   "source": [
    "**Before Implimenting SMOTE**"
   ]
  },
  {
   "cell_type": "code",
   "execution_count": null,
   "metadata": {
    "colab": {
     "base_uri": "https://localhost:8080/",
     "height": 51
    },
    "executionInfo": {
     "elapsed": 1440,
     "status": "ok",
     "timestamp": 1595939448100,
     "user": {
      "displayName": "Mukesh Kumar",
      "photoUrl": "https://lh3.googleusercontent.com/a-/AOh14GjlcDlZf8Lr8SWM0ugfq17HC9TF79sbME_lLaRW=s64",
      "userId": "12802686450045644565"
     },
     "user_tz": -330
    },
    "id": "kDYWfVW0ZvEE",
    "outputId": "d885088d-fcb9-4df4-d573-5b639991e933"
   },
   "outputs": [
    {
     "name": "stdout",
     "output_type": "stream",
     "text": [
      "Training Data Shape: (2999, 6) (2999,)\n",
      "Testing Data Shape: (334, 6) (334,)\n"
     ]
    }
   ],
   "source": [
    "print('Training Data Shape:', X_train.shape, y_train.shape)\n",
    "print('Testing Data Shape:', X_test.shape, y_test.shape)"
   ]
  },
  {
   "cell_type": "markdown",
   "metadata": {
    "id": "vBvKDUctZ47P"
   },
   "source": [
    "**Performing SMOTE Operation**"
   ]
  },
  {
   "cell_type": "code",
   "execution_count": null,
   "metadata": {
    "id": "ISrH-dlAZ3Nh"
   },
   "outputs": [],
   "source": [
    "# Have some patience, may take some time\n",
    "\n",
    "sm = SMOTE(random_state = 42, ratio = 1)\n",
    "X1, y1 = sm.fit_sample(X, y)\n",
    "\n",
    "X_new = pd.DataFrame(data = X1, columns = X.columns)\n",
    "\n",
    "X_train, X_test, y_train, y_test = train_test_split(X_new, y1, test_size = 0.2, random_state = 42, stratify = y1)"
   ]
  },
  {
   "cell_type": "code",
   "execution_count": null,
   "metadata": {
    "colab": {
     "base_uri": "https://localhost:8080/",
     "height": 51
    },
    "executionInfo": {
     "elapsed": 1084,
     "status": "ok",
     "timestamp": 1595939517944,
     "user": {
      "displayName": "Mukesh Kumar",
      "photoUrl": "https://lh3.googleusercontent.com/a-/AOh14GjlcDlZf8Lr8SWM0ugfq17HC9TF79sbME_lLaRW=s64",
      "userId": "12802686450045644565"
     },
     "user_tz": -330
    },
    "id": "CM_Njqa1Z8yV",
    "outputId": "a64efb02-7de2-4c25-b9a6-a6a05cb0f9f0"
   },
   "outputs": [
    {
     "name": "stdout",
     "output_type": "stream",
     "text": [
      "Training Data Shape: (4560, 6) (4560,)\n",
      "Testing Data Shape: (1140, 6) (1140,)\n"
     ]
    }
   ],
   "source": [
    "print('Training Data Shape:', X_train.shape, y_train.shape)\n",
    "print('Testing Data Shape:', X_test.shape, y_test.shape)"
   ]
  },
  {
   "cell_type": "markdown",
   "metadata": {
    "id": "Xz1iXua4aPF1"
   },
   "source": [
    "### **8.2.1 Logistic Regression**"
   ]
  },
  {
   "cell_type": "code",
   "execution_count": null,
   "metadata": {
    "colab": {
     "base_uri": "https://localhost:8080/",
     "height": 462
    },
    "executionInfo": {
     "elapsed": 2601,
     "status": "ok",
     "timestamp": 1595939564521,
     "user": {
      "displayName": "Mukesh Kumar",
      "photoUrl": "https://lh3.googleusercontent.com/a-/AOh14GjlcDlZf8Lr8SWM0ugfq17HC9TF79sbME_lLaRW=s64",
      "userId": "12802686450045644565"
     },
     "user_tz": -330
    },
    "id": "QtiHhF5GaQmm",
    "outputId": "ab2db404-600f-46c4-d62f-d763ab1e4f75"
   },
   "outputs": [
    {
     "data": {
      "image/png": "[encoded data removed]",
      "text/plain": [
       "<Figure size 1080x504 with 4 Axes>"
      ]
     },
     "metadata": {
      "needs_background": "light",
      "tags": []
     },
     "output_type": "display_data"
    }
   ],
   "source": [
    "log  = LogisticRegression(random_state = 42, class_weight = 'balanced')\n",
    "log.fit(X_train, y_train)\n",
    "\n",
    "y_train_pred_count = log.predict(X_train)\n",
    "y_test_pred_count = log.predict(X_test)\n",
    "\n",
    "fig, (ax1, ax2) = plt.subplots(nrows = 1, ncols = 2, sharex = False, figsize=(15, 7))\n",
    "plot_confusion_matrix(estimator = log, X = X_train, y_true = y_train, values_format = '.7g', cmap = 'YlGnBu', ax = ax1)\n",
    "plot_confusion_matrix(estimator = log, X = X_test, y_true = y_test, values_format = '.7g', cmap = 'YlGnBu', ax = ax2)\n",
    "ax1.set_title(label = 'Train Data', size = 14)\n",
    "ax2.set_title(label = 'Test Data', size = 14)\n",
    "ax1.grid(b = False)\n",
    "ax2.grid(b = False)\n",
    "plt.suptitle(t = 'Confusion Matrix', size = 16)\n",
    "plt.show()"
   ]
  },
  {
   "cell_type": "markdown",
   "metadata": {
    "id": "77FXKSyPzDpL"
   },
   "source": [
    "**Observation:**\n",
    "\n",
    "- **Train Data:**\n",
    "  - Model predicted **1631 instances correctly** for **negative class** while **1654 instances** were predicted **correctly** for **positive class**.\n",
    "  - Model **identified 626 instances negative but in actual** they **were positive**.\n",
    "  - Model **identified 649 instances positive but in actual** they **were negative**.\n",
    "\n",
    "- **Test Data:**\n",
    "  - Model predicted **386 instances correctly** for **negative class** while **408 instances** were predicted **correctly** for **positive class**.\n",
    "  - Model **identified 162 instance negative but in actual** they **were positive**.\n",
    "  - Model **identified 184 instances positive but in actual** they **were negative**."
   ]
  },
  {
   "cell_type": "code",
   "execution_count": null,
   "metadata": {
    "colab": {
     "base_uri": "https://localhost:8080/",
     "height": 357
    },
    "executionInfo": {
     "elapsed": 1287,
     "status": "ok",
     "timestamp": 1595939577386,
     "user": {
      "displayName": "Mukesh Kumar",
      "photoUrl": "https://lh3.googleusercontent.com/a-/AOh14GjlcDlZf8Lr8SWM0ugfq17HC9TF79sbME_lLaRW=s64",
      "userId": "12802686450045644565"
     },
     "user_tz": -330
    },
    "id": "A4J7NjXaaTpH",
    "outputId": "e4d64df1-0ccf-41a9-8504-cdb4b8850b59"
   },
   "outputs": [
    {
     "name": "stdout",
     "output_type": "stream",
     "text": [
      "                    Training Report          \n",
      "              precision    recall  f1-score   support\n",
      "\n",
      "       False       0.72      0.72      0.72      2280\n",
      "        True       0.72      0.73      0.72      2280\n",
      "\n",
      "    accuracy                           0.72      4560\n",
      "   macro avg       0.72      0.72      0.72      4560\n",
      "weighted avg       0.72      0.72      0.72      4560\n",
      "\n",
      "                    Testing Report           \n",
      "              precision    recall  f1-score   support\n",
      "\n",
      "       False       0.70      0.68      0.69       570\n",
      "        True       0.69      0.72      0.70       570\n",
      "\n",
      "    accuracy                           0.70      1140\n",
      "   macro avg       0.70      0.70      0.70      1140\n",
      "weighted avg       0.70      0.70      0.70      1140\n",
      "\n"
     ]
    }
   ],
   "source": [
    "logistic_report_train = classification_report(y_train, y_train_pred_count)\n",
    "logistic_report_test = classification_report(y_test, y_test_pred_count)\n",
    "print('                    Training Report          ')\n",
    "print(logistic_report_train)\n",
    "print('                    Testing Report           ')\n",
    "print(logistic_report_test)"
   ]
  },
  {
   "cell_type": "markdown",
   "metadata": {
    "id": "m8fTqnMwAqre"
   },
   "source": [
    "**Observation:**\n",
    "\n",
    "- We can **observe** **better** **results** over **than** the **logisitic baseline model**.\n",
    "\n",
    "- **Earlier** **recall scores** were **low** but **now** they have **improved** **a little bit**.\n",
    "\n",
    "- **Let's try more complex models.**"
   ]
  },
  {
   "cell_type": "markdown",
   "metadata": {
    "id": "5WVS7J--aeZP"
   },
   "source": [
    "### **8.2.2 Random Forest Classifier**"
   ]
  },
  {
   "cell_type": "code",
   "execution_count": null,
   "metadata": {
    "colab": {
     "base_uri": "https://localhost:8080/",
     "height": 495
    },
    "executionInfo": {
     "elapsed": 3142,
     "status": "ok",
     "timestamp": 1595939624013,
     "user": {
      "displayName": "Mukesh Kumar",
      "photoUrl": "https://lh3.googleusercontent.com/a-/AOh14GjlcDlZf8Lr8SWM0ugfq17HC9TF79sbME_lLaRW=s64",
      "userId": "12802686450045644565"
     },
     "user_tz": -330
    },
    "id": "8i-bjD24abAO",
    "outputId": "9cf92190-720f-492f-bb8f-575fd8583fab"
   },
   "outputs": [
    {
     "data": {
      "image/png": "[encoded data removed]",
      "text/plain": [
       "<Figure size 1080x504 with 4 Axes>"
      ]
     },
     "metadata": {
      "needs_background": "light",
      "tags": []
     },
     "output_type": "display_data"
    }
   ],
   "source": [
    "rfc = RandomForestClassifier(n_estimators = 100, n_jobs = -1, class_weight = 'balanced', random_state = 42)\n",
    "rfc.fit(X_train, y_train)\n",
    "\n",
    "y_train_pred_count = rfc.predict(X_train)\n",
    "y_test_pred_count = rfc.predict(X_test)\n",
    "\n",
    "fig, (ax1, ax2) = plt.subplots(nrows = 1, ncols = 2, sharex = False, figsize=(15, 7))\n",
    "plot_confusion_matrix(estimator = rfc, X = X_train, y_true = y_train, values_format = '.7g', cmap = 'YlGnBu', ax = ax1)\n",
    "plot_confusion_matrix(estimator = rfc, X = X_test, y_true = y_test, values_format = '.7g', cmap = 'YlGnBu', ax = ax2)\n",
    "ax1.set_title(label = 'Train Data', size = 14)\n",
    "ax2.set_title(label = 'Test Data', size = 14)\n",
    "ax1.grid(b = False)\n",
    "ax2.grid(b = False)\n",
    "plt.suptitle(t = 'Confusion Matrix', size = 16)\n",
    "plt.tight_layout(pad = 3.0)\n",
    "plt.show()"
   ]
  },
  {
   "cell_type": "markdown",
   "metadata": {
    "id": "JXld5-MJzesr"
   },
   "source": [
    "**Observation:**\n",
    "\n",
    "- **Train Data:**\n",
    "  - Model predicted **2280 instances correctly** for **negative class** while **2280 instances** were predicted **correctly** for **positive class**.\n",
    "  - Model **identified 0 instances negative but in actual** they **were positive**.\n",
    "  - Model **identified 0 instances positive but in actual** they **were negative**.\n",
    "\n",
    "- **Test Data:**\n",
    "  - Model predicted **530 instances correctly** for **negative class** while **538 instances** were predicted **correctly** for **positive class**.\n",
    "  - Model **identified 32 instance negative but in actual** they **were positive**.\n",
    "  - Model **identified 40 instances positive but in actual** they **were negative**."
   ]
  },
  {
   "cell_type": "code",
   "execution_count": null,
   "metadata": {
    "colab": {
     "base_uri": "https://localhost:8080/",
     "height": 357
    },
    "executionInfo": {
     "elapsed": 1412,
     "status": "ok",
     "timestamp": 1595939637084,
     "user": {
      "displayName": "Mukesh Kumar",
      "photoUrl": "https://lh3.googleusercontent.com/a-/AOh14GjlcDlZf8Lr8SWM0ugfq17HC9TF79sbME_lLaRW=s64",
      "userId": "12802686450045644565"
     },
     "user_tz": -330
    },
    "id": "sh-ODFKOah6F",
    "outputId": "ed965c88-c658-476d-8215-e29079b13a95"
   },
   "outputs": [
    {
     "name": "stdout",
     "output_type": "stream",
     "text": [
      "                    Training Report          \n",
      "              precision    recall  f1-score   support\n",
      "\n",
      "       False       1.00      1.00      1.00      2280\n",
      "        True       1.00      1.00      1.00      2280\n",
      "\n",
      "    accuracy                           1.00      4560\n",
      "   macro avg       1.00      1.00      1.00      4560\n",
      "weighted avg       1.00      1.00      1.00      4560\n",
      "\n",
      "                    Testing Report           \n",
      "              precision    recall  f1-score   support\n",
      "\n",
      "       False       0.94      0.93      0.94       570\n",
      "        True       0.93      0.94      0.94       570\n",
      "\n",
      "    accuracy                           0.94      1140\n",
      "   macro avg       0.94      0.94      0.94      1140\n",
      "weighted avg       0.94      0.94      0.94      1140\n",
      "\n"
     ]
    }
   ],
   "source": [
    "rfc_report_train = classification_report(y_train, y_train_pred_count)\n",
    "rfc_report_test = classification_report(y_test, y_test_pred_count)\n",
    "print('                    Training Report          ')\n",
    "print(rfc_report_train)\n",
    "print('                    Testing Report           ')\n",
    "print(rfc_report_test)"
   ]
  },
  {
   "cell_type": "markdown",
   "metadata": {
    "id": "wcbEZvLQCq0s"
   },
   "source": [
    "**Observation:**\n",
    "\n",
    "- In **baseline Random Forest**, we **observed low recall (46%)** over **positive class (True)**.\n",
    "\n",
    "- **But now**, it has **improved to 94%**. **Recall** for **negative** has **dropped a little** but it's okay.\n",
    "\n",
    "- But we can **observe overfitting over train data** as all metrics are showing 100% results.\n",
    "\n",
    "- To **handle this overfitting** we will **use** the **Extreme Gradient Boosting over oversampling data**."
   ]
  },
  {
   "cell_type": "markdown",
   "metadata": {
    "id": "ye4qLS-eas-N"
   },
   "source": [
    "### **8.2.3 Extreme Gradient Boosting Classifier**"
   ]
  },
  {
   "cell_type": "code",
   "execution_count": null,
   "metadata": {
    "colab": {
     "base_uri": "https://localhost:8080/",
     "height": 495
    },
    "executionInfo": {
     "elapsed": 2338,
     "status": "ok",
     "timestamp": 1595939683547,
     "user": {
      "displayName": "Mukesh Kumar",
      "photoUrl": "https://lh3.googleusercontent.com/a-/AOh14GjlcDlZf8Lr8SWM0ugfq17HC9TF79sbME_lLaRW=s64",
      "userId": "12802686450045644565"
     },
     "user_tz": -330
    },
    "id": "v29P9JcQaqXo",
    "outputId": "372083d0-b295-4d31-bcd3-d1bd41cd40f2"
   },
   "outputs": [
    {
     "data": {
      "image/png": "[encoded data removed]",
      "text/plain": [
       "<Figure size 1080x504 with 4 Axes>"
      ]
     },
     "metadata": {
      "needs_background": "light",
      "tags": []
     },
     "output_type": "display_data"
    }
   ],
   "source": [
    "xgb = XGBClassifier(random_state = 42, n_jobs = -1)\n",
    "xgb.fit(X_train, y_train)\n",
    "\n",
    "y_train_pred_count = xgb.predict(X_train)\n",
    "y_test_pred_count = xgb.predict(X_test)\n",
    "\n",
    "fig, (ax1, ax2) = plt.subplots(nrows = 1, ncols = 2, sharex = False, figsize=(15, 7))\n",
    "plot_confusion_matrix(estimator = xgb, X = X_train, y_true = y_train, values_format = '.7g', cmap = 'YlGnBu', ax = ax1)\n",
    "plot_confusion_matrix(estimator = xgb, X = X_test, y_true = y_test, values_format = '.7g', cmap = 'YlGnBu', ax = ax2)\n",
    "ax1.set_title(label = 'Train Data', size = 14)\n",
    "ax2.set_title(label = 'Test Data', size = 14)\n",
    "ax1.grid(b = False)\n",
    "ax2.grid(b = False)\n",
    "plt.suptitle(t = 'Confusion Matrix', size = 16)\n",
    "plt.tight_layout(pad = 3.0)\n",
    "plt.show()"
   ]
  },
  {
   "cell_type": "markdown",
   "metadata": {
    "id": "OBhGL0Jozrnn"
   },
   "source": [
    "**Observation:**\n",
    "\n",
    "- **Train Data:**\n",
    "  - Model predicted **2202 instances correctly** for **negative class** while **2048 instances** were predicted **correctly** for **positive class**.\n",
    "  - Model **identified 232 instances negative but in actual** they **were positive**.\n",
    "  - Model **identified 78 instances positive but in actual** they **were negative**.\n",
    "\n",
    "- **Test Data:**\n",
    "  - Model predicted **526 instances correctly** for **negative class** while **513 instances** were predicted **correctly** for **positive class**.\n",
    "  - Model **identified 57 instance negative but in actual** they **were positive**.\n",
    "  - Model **identified 44 instances positive but in actual** they **were negative**."
   ]
  },
  {
   "cell_type": "code",
   "execution_count": null,
   "metadata": {
    "colab": {
     "base_uri": "https://localhost:8080/",
     "height": 357
    },
    "executionInfo": {
     "elapsed": 1541,
     "status": "ok",
     "timestamp": 1595939698075,
     "user": {
      "displayName": "Mukesh Kumar",
      "photoUrl": "https://lh3.googleusercontent.com/a-/AOh14GjlcDlZf8Lr8SWM0ugfq17HC9TF79sbME_lLaRW=s64",
      "userId": "12802686450045644565"
     },
     "user_tz": -330
    },
    "id": "yyi2kO4dawuF",
    "outputId": "69332e88-2124-46eb-87fb-2d16c7ede866"
   },
   "outputs": [
    {
     "name": "stdout",
     "output_type": "stream",
     "text": [
      "                    Training Report          \n",
      "              precision    recall  f1-score   support\n",
      "\n",
      "       False       0.90      0.97      0.93      2280\n",
      "        True       0.96      0.90      0.93      2280\n",
      "\n",
      "    accuracy                           0.93      4560\n",
      "   macro avg       0.93      0.93      0.93      4560\n",
      "weighted avg       0.93      0.93      0.93      4560\n",
      "\n",
      "                    Testing Report           \n",
      "              precision    recall  f1-score   support\n",
      "\n",
      "       False       0.90      0.92      0.91       570\n",
      "        True       0.92      0.90      0.91       570\n",
      "\n",
      "    accuracy                           0.91      1140\n",
      "   macro avg       0.91      0.91      0.91      1140\n",
      "weighted avg       0.91      0.91      0.91      1140\n",
      "\n"
     ]
    }
   ],
   "source": [
    "xgb_report_train = classification_report(y_train, y_train_pred_count)\n",
    "xgb_report_test = classification_report(y_test, y_test_pred_count)\n",
    "print('                    Training Report          ')\n",
    "print(xgb_report_train)\n",
    "print('                    Testing Report           ')\n",
    "print(xgb_report_test)"
   ]
  },
  {
   "cell_type": "markdown",
   "metadata": {
    "id": "52WtecGRD7EL"
   },
   "source": [
    "**Observation:**\n",
    "\n",
    "- We can **observe** that the **overfitting** has been **compensated** by **XGB Classifier**.\n",
    "\n",
    "- The **recall scores** are **generalizing pretty well** over **both sets** (Train & Test).\n",
    "\n",
    "- We can **finalized this model** as we have **obtained pretty good results** over the data."
   ]
  },
  {
   "cell_type": "markdown",
   "metadata": {
    "id": "437Ngv-Qa71P"
   },
   "source": [
    "<a name = Section83></a>\n",
    "\n",
    "## **8.3 Performance Chart**"
   ]
  },
  {
   "cell_type": "markdown",
   "metadata": {
    "id": "LsJOc-pba-iN"
   },
   "source": [
    "|Id|Baseline Model|#|Train Precision (0)|Train Precision (1)|Train Recall (0)|Train Recall (1)|Train Accuracy|#|Test Precision (0)|Test Precision (0)|Test Recall (0)|Test Recall (1)|Test Accuracy|\n",
    "|:--|:--|:--|:--|:--|:--|:--|:--|:--|:--|:--|:--|:--|:--|\n",
    "|01|Logistic Regression|#|0.93|0.29|0.71|0.69|0.71|#|0.92|0.26|0.67|0.67|0.67|\n",
    "|02|Random Forest Classifier|#|1|1|1|1|1|#|0.91|0.69|0.97|0.46|0.89|\n",
    "|03|XGBoost Classifier|#|0.93|0.88|0.99|0.55|0.92|#|0.92|0.68|0.96|0.48|0.89|\n",
    "\n",
    "|Id|Oversampling Model|#|Train Precision (0)|Train Precision (1)|Train Recall (0)|Train Recall (1)|Train Accuracy|#|Test Precision (0)|Test Precision (0)|Test Recall (0)|Test Recall (1)|Test Accuracy|\n",
    "|:--|:--|:--|:--|:--|:--|:--|:--|:--|:--|:--|:--|:--|:--|\n",
    "|01|Logistic Regression|#|0.72|0.72|0.72|0.73|0.72|#|0.70|0.69|0.68|0.72|0.70|\n",
    "|02|Random Forest Classifier|#|1|1|1|1|1|#|0.94|0.93|0.93|0.94|0.94|\n",
    "|03|XGBoost Classifier|#|0.90|0.96|0.97|0.90|0.93|#|0.90|0.92|0.92|0.90|0.91|\n"
   ]
  },
  {
   "cell_type": "markdown",
   "metadata": {
    "id": "7rSPcaYUm2yY"
   },
   "source": [
    "<a name = Section9></a>\n",
    "\n",
    "---\n",
    "# **9. Conclusion**\n",
    "---\n",
    "\n",
    "- We **studied in depth about the data**, its **characteristics** and its **distribution**.\n",
    "\n",
    "- We **explored** various **questions related** to whether a **customer churn**.\n",
    "\n",
    "- We **investigated in depth about the features** which to **retain** and which to **discard**. The list of retained features is as follows:\n",
    "\n",
    "|TotalMorMin|TotalMorCharge|TotalEveMin|TotalEveCharge|TotalIntCalls|CustomerServiceCalls|\n",
    "|:--|:--|:--|:--|:--|:--|\n",
    "  \n",
    "- We **performed model development** with **variety** of **algorithms** such as:\n",
    "\n",
    "  - Logistic Regression,\n",
    "  - Random Forest Classifier,\n",
    "  - Extreme Gradient Boosting Classifier\n",
    "\n",
    "- We **developed models with and without oversampling technique** known as SMOTE.\n",
    "\n",
    "- We **observed low recall scores** with **baseline models** but **great results with oversampled data models**.\n",
    "\n",
    "- We **observed** that **random forest** (**oversampling**) was **overfitting** over **train data** & in order **to prevent overfitting** we **used XGB classifier**.\n",
    "\n",
    "- This in turns, **XGB provided generalized & satisfying results** and **becomes** our **final model** for **future solution**.\n",
    "\n",
    "- This **final model** now can **help us** in **identifying** which customers are likely to leave our business. This will in turn help us in **retaining** the **valuable customers**.\n",
    "\n",
    "- Now this **model** will **help** us in **saving** not only **a lot of resources** (money, human resources etc.) but **also help** us in **identify** the **likeliness** of the **customer churning** from **using** the **services of the company**."
   ]
  }
 ],
 "metadata": {
  "colab": {
   "provenance": []
  },
  "kernelspec": {
   "display_name": "Python 3 (ipykernel)",
   "language": "python",
   "name": "python3"
  },
  "language_info": {
   "codemirror_mode": {
    "name": "ipython",
    "version": 3
   },
   "file_extension": ".py",
   "mimetype": "text/x-python",
   "name": "python",
   "nbconvert_exporter": "python",
   "pygments_lexer": "ipython3",
   "version": "3.10.9"
  },
  "widgets": {
   "application/vnd.jupyter.widget-state+json": {
    "00aacb40bae94001a961dee0e991421c": {
     "model_module": "@jupyter-widgets/controls",
     "model_module_version": "1.5.0",
     "model_name": "FloatProgressModel",
     "state": {
      "_dom_classes": [],
      "_model_module": "@jupyter-widgets/controls",
      "_model_module_version": "1.5.0",
      "_model_name": "FloatProgressModel",
      "_view_count": null,
      "_view_module": "@jupyter-widgets/controls",
      "_view_module_version": "1.5.0",
      "_view_name": "ProgressView",
      "bar_style": "success",
      "description": "Render HTML: 100%",
      "description_tooltip": null,
      "layout": "IPY_MODEL_1e699eb6925643d89c70537f1ecc4285",
      "max": 1,
      "min": 0,
      "orientation": "horizontal",
      "style": "IPY_MODEL_0f54874a19ec458389b32928acdb1ea9",
      "value": 1
     }
    },
    "031db7b1d516402d8bf25bfd4adb958e": {
     "model_module": "@jupyter-widgets/controls",
     "model_module_version": "1.5.0",
     "model_name": "HTMLModel",
     "state": {
      "_dom_classes": [],
      "_model_module": "@jupyter-widgets/controls",
      "_model_module_version": "1.5.0",
      "_model_name": "HTMLModel",
      "_view_count": null,
      "_view_module": "@jupyter-widgets/controls",
      "_view_module_version": "1.5.0",
      "_view_name": "HTMLView",
      "description": "",
      "description_tooltip": null,
      "layout": "IPY_MODEL_c32ef60b2bb34374b3b191f82acb1cd8",
      "placeholder": "​",
      "style": "IPY_MODEL_a98f29cca86a4f5897bd2943f951a3a9",
      "value": " 35/35 [00:45&lt;00:00,  1.30s/it, Completed]"
     }
    },
    "080821a1716f44f4ae2764386e4ec453": {
     "model_module": "@jupyter-widgets/base",
     "model_module_version": "1.2.0",
     "model_name": "LayoutModel",
     "state": {
      "_model_module": "@jupyter-widgets/base",
      "_model_module_version": "1.2.0",
      "_model_name": "LayoutModel",
      "_view_count": null,
      "_view_module": "@jupyter-widgets/base",
      "_view_module_version": "1.2.0",
      "_view_name": "LayoutView",
      "align_content": null,
      "align_items": null,
      "align_self": null,
      "border": null,
      "bottom": null,
      "display": null,
      "flex": null,
      "flex_flow": null,
      "grid_area": null,
      "grid_auto_columns": null,
      "grid_auto_flow": null,
      "grid_auto_rows": null,
      "grid_column": null,
      "grid_gap": null,
      "grid_row": null,
      "grid_template_areas": null,
      "grid_template_columns": null,
      "grid_template_rows": null,
      "height": null,
      "justify_content": null,
      "justify_items": null,
      "left": null,
      "margin": null,
      "max_height": null,
      "max_width": null,
      "min_height": null,
      "min_width": null,
      "object_fit": null,
      "object_position": null,
      "order": null,
      "overflow": null,
      "overflow_x": null,
      "overflow_y": null,
      "padding": null,
      "right": null,
      "top": null,
      "visibility": null,
      "width": null
     }
    },
    "093457a08c3946be99bbd8b0dedf6e2d": {
     "model_module": "@jupyter-widgets/controls",
     "model_module_version": "1.5.0",
     "model_name": "DescriptionStyleModel",
     "state": {
      "_model_module": "@jupyter-widgets/controls",
      "_model_module_version": "1.5.0",
      "_model_name": "DescriptionStyleModel",
      "_view_count": null,
      "_view_module": "@jupyter-widgets/base",
      "_view_module_version": "1.2.0",
      "_view_name": "StyleView",
      "description_width": ""
     }
    },
    "09cf8bd78d714d8b84ba1e1c1b2abfa1": {
     "model_module": "@jupyter-widgets/controls",
     "model_module_version": "1.5.0",
     "model_name": "HBoxModel",
     "state": {
      "_dom_classes": [],
      "_model_module": "@jupyter-widgets/controls",
      "_model_module_version": "1.5.0",
      "_model_name": "HBoxModel",
      "_view_count": null,
      "_view_module": "@jupyter-widgets/controls",
      "_view_module_version": "1.5.0",
      "_view_name": "HBoxView",
      "box_style": "",
      "children": [
       "IPY_MODEL_675f51a2fea647be8da8ba32473bbd27",
       "IPY_MODEL_cc601ff7516d4429a7b47df045d4dc0b",
       "IPY_MODEL_94e44a2236354239b53f253cf716c619"
      ],
      "layout": "IPY_MODEL_0f656dc5ef8541a78e5c0cd139e8d630"
     }
    },
    "0f54874a19ec458389b32928acdb1ea9": {
     "model_module": "@jupyter-widgets/controls",
     "model_module_version": "1.5.0",
     "model_name": "ProgressStyleModel",
     "state": {
      "_model_module": "@jupyter-widgets/controls",
      "_model_module_version": "1.5.0",
      "_model_name": "ProgressStyleModel",
      "_view_count": null,
      "_view_module": "@jupyter-widgets/base",
      "_view_module_version": "1.2.0",
      "_view_name": "StyleView",
      "bar_color": null,
      "description_width": "initial"
     }
    },
    "0f656dc5ef8541a78e5c0cd139e8d630": {
     "model_module": "@jupyter-widgets/base",
     "model_module_version": "1.2.0",
     "model_name": "LayoutModel",
     "state": {
      "_model_module": "@jupyter-widgets/base",
      "_model_module_version": "1.2.0",
      "_model_name": "LayoutModel",
      "_view_count": null,
      "_view_module": "@jupyter-widgets/base",
      "_view_module_version": "1.2.0",
      "_view_name": "LayoutView",
      "align_content": null,
      "align_items": null,
      "align_self": null,
      "border": null,
      "bottom": null,
      "display": null,
      "flex": null,
      "flex_flow": null,
      "grid_area": null,
      "grid_auto_columns": null,
      "grid_auto_flow": null,
      "grid_auto_rows": null,
      "grid_column": null,
      "grid_gap": null,
      "grid_row": null,
      "grid_template_areas": null,
      "grid_template_columns": null,
      "grid_template_rows": null,
      "height": null,
      "justify_content": null,
      "justify_items": null,
      "left": null,
      "margin": null,
      "max_height": null,
      "max_width": null,
      "min_height": null,
      "min_width": null,
      "object_fit": null,
      "object_position": null,
      "order": null,
      "overflow": null,
      "overflow_x": null,
      "overflow_y": null,
      "padding": null,
      "right": null,
      "top": null,
      "visibility": null,
      "width": null
     }
    },
    "0f765f9bfa504c0b834de9de6675156a": {
     "model_module": "@jupyter-widgets/controls",
     "model_module_version": "1.5.0",
     "model_name": "HTMLModel",
     "state": {
      "_dom_classes": [],
      "_model_module": "@jupyter-widgets/controls",
      "_model_module_version": "1.5.0",
      "_model_name": "HTMLModel",
      "_view_count": null,
      "_view_module": "@jupyter-widgets/controls",
      "_view_module_version": "1.5.0",
      "_view_name": "HTMLView",
      "description": "",
      "description_tooltip": null,
      "layout": "IPY_MODEL_4112acb9e577411f81777cf92900658b",
      "placeholder": "​",
      "style": "IPY_MODEL_093457a08c3946be99bbd8b0dedf6e2d",
      "value": " 1/1 [00:07&lt;00:00,  7.39s/it]"
     }
    },
    "0fd454070c17440da07ecf1ffdd9cddf": {
     "model_module": "@jupyter-widgets/base",
     "model_module_version": "1.2.0",
     "model_name": "LayoutModel",
     "state": {
      "_model_module": "@jupyter-widgets/base",
      "_model_module_version": "1.2.0",
      "_model_name": "LayoutModel",
      "_view_count": null,
      "_view_module": "@jupyter-widgets/base",
      "_view_module_version": "1.2.0",
      "_view_name": "LayoutView",
      "align_content": null,
      "align_items": null,
      "align_self": null,
      "border": null,
      "bottom": null,
      "display": null,
      "flex": null,
      "flex_flow": null,
      "grid_area": null,
      "grid_auto_columns": null,
      "grid_auto_flow": null,
      "grid_auto_rows": null,
      "grid_column": null,
      "grid_gap": null,
      "grid_row": null,
      "grid_template_areas": null,
      "grid_template_columns": null,
      "grid_template_rows": null,
      "height": null,
      "justify_content": null,
      "justify_items": null,
      "left": null,
      "margin": null,
      "max_height": null,
      "max_width": null,
      "min_height": null,
      "min_width": null,
      "object_fit": null,
      "object_position": null,
      "order": null,
      "overflow": null,
      "overflow_x": null,
      "overflow_y": null,
      "padding": null,
      "right": null,
      "top": null,
      "visibility": null,
      "width": null
     }
    },
    "108752d8b1e94611bf0cc2d3fa6b4de6": {
     "model_module": "@jupyter-widgets/controls",
     "model_module_version": "1.5.0",
     "model_name": "HTMLModel",
     "state": {
      "_dom_classes": [],
      "_model_module": "@jupyter-widgets/controls",
      "_model_module_version": "1.5.0",
      "_model_name": "HTMLModel",
      "_view_count": null,
      "_view_module": "@jupyter-widgets/controls",
      "_view_module_version": "1.5.0",
      "_view_name": "HTMLView",
      "description": "",
      "description_tooltip": null,
      "layout": "IPY_MODEL_f37f49437df74747bf534d0e03569c2c",
      "placeholder": "​",
      "style": "IPY_MODEL_42abc4382f594f0caa2bccab87421694",
      "value": " 1/1 [00:00&lt;00:00, 12.71it/s]"
     }
    },
    "14885a0718b946fa88a1238ee3eeba63": {
     "model_module": "@jupyter-widgets/controls",
     "model_module_version": "1.5.0",
     "model_name": "HTMLModel",
     "state": {
      "_dom_classes": [],
      "_model_module": "@jupyter-widgets/controls",
      "_model_module_version": "1.5.0",
      "_model_name": "HTMLModel",
      "_view_count": null,
      "_view_module": "@jupyter-widgets/controls",
      "_view_module_version": "1.5.0",
      "_view_name": "HTMLView",
      "description": "",
      "description_tooltip": null,
      "layout": "IPY_MODEL_75b627b302e14fa8bd7a8d2ee5439ce5",
      "placeholder": "​",
      "style": "IPY_MODEL_4c2a72f232dc4c0880275fb8782036f0",
      "value": "Render HTML: 100%"
     }
    },
    "1e699eb6925643d89c70537f1ecc4285": {
     "model_module": "@jupyter-widgets/base",
     "model_module_version": "1.2.0",
     "model_name": "LayoutModel",
     "state": {
      "_model_module": "@jupyter-widgets/base",
      "_model_module_version": "1.2.0",
      "_model_name": "LayoutModel",
      "_view_count": null,
      "_view_module": "@jupyter-widgets/base",
      "_view_module_version": "1.2.0",
      "_view_name": "LayoutView",
      "align_content": null,
      "align_items": null,
      "align_self": null,
      "border": null,
      "bottom": null,
      "display": null,
      "flex": null,
      "flex_flow": null,
      "grid_area": null,
      "grid_auto_columns": null,
      "grid_auto_flow": null,
      "grid_auto_rows": null,
      "grid_column": null,
      "grid_gap": null,
      "grid_row": null,
      "grid_template_areas": null,
      "grid_template_columns": null,
      "grid_template_rows": null,
      "height": null,
      "justify_content": null,
      "justify_items": null,
      "left": null,
      "margin": null,
      "max_height": null,
      "max_width": null,
      "min_height": null,
      "min_width": null,
      "object_fit": null,
      "object_position": null,
      "order": null,
      "overflow": null,
      "overflow_x": null,
      "overflow_y": null,
      "padding": null,
      "right": null,
      "top": null,
      "visibility": null,
      "width": null
     }
    },
    "2171c567e6d24ddb94155bbb96c6ac4f": {
     "model_module": "@jupyter-widgets/base",
     "model_module_version": "1.2.0",
     "model_name": "LayoutModel",
     "state": {
      "_model_module": "@jupyter-widgets/base",
      "_model_module_version": "1.2.0",
      "_model_name": "LayoutModel",
      "_view_count": null,
      "_view_module": "@jupyter-widgets/base",
      "_view_module_version": "1.2.0",
      "_view_name": "LayoutView",
      "align_content": null,
      "align_items": null,
      "align_self": null,
      "border": null,
      "bottom": null,
      "display": null,
      "flex": null,
      "flex_flow": null,
      "grid_area": null,
      "grid_auto_columns": null,
      "grid_auto_flow": null,
      "grid_auto_rows": null,
      "grid_column": null,
      "grid_gap": null,
      "grid_row": null,
      "grid_template_areas": null,
      "grid_template_columns": null,
      "grid_template_rows": null,
      "height": null,
      "justify_content": null,
      "justify_items": null,
      "left": null,
      "margin": null,
      "max_height": null,
      "max_width": null,
      "min_height": null,
      "min_width": null,
      "object_fit": null,
      "object_position": null,
      "order": null,
      "overflow": null,
      "overflow_x": null,
      "overflow_y": null,
      "padding": null,
      "right": null,
      "top": null,
      "visibility": null,
      "width": null
     }
    },
    "21b50295cb8540bc96c5d2893a98b9c9": {
     "model_module": "@jupyter-widgets/base",
     "model_module_version": "1.2.0",
     "model_name": "LayoutModel",
     "state": {
      "_model_module": "@jupyter-widgets/base",
      "_model_module_version": "1.2.0",
      "_model_name": "LayoutModel",
      "_view_count": null,
      "_view_module": "@jupyter-widgets/base",
      "_view_module_version": "1.2.0",
      "_view_name": "LayoutView",
      "align_content": null,
      "align_items": null,
      "align_self": null,
      "border": null,
      "bottom": null,
      "display": null,
      "flex": null,
      "flex_flow": null,
      "grid_area": null,
      "grid_auto_columns": null,
      "grid_auto_flow": null,
      "grid_auto_rows": null,
      "grid_column": null,
      "grid_gap": null,
      "grid_row": null,
      "grid_template_areas": null,
      "grid_template_columns": null,
      "grid_template_rows": null,
      "height": null,
      "justify_content": null,
      "justify_items": null,
      "left": null,
      "margin": null,
      "max_height": null,
      "max_width": null,
      "min_height": null,
      "min_width": null,
      "object_fit": null,
      "object_position": null,
      "order": null,
      "overflow": null,
      "overflow_x": null,
      "overflow_y": null,
      "padding": null,
      "right": null,
      "top": null,
      "visibility": null,
      "width": null
     }
    },
    "273e7bd851dc40ba92fb35cee6a57bd5": {
     "model_module": "@jupyter-widgets/controls",
     "model_module_version": "1.5.0",
     "model_name": "DescriptionStyleModel",
     "state": {
      "_model_module": "@jupyter-widgets/controls",
      "_model_module_version": "1.5.0",
      "_model_name": "DescriptionStyleModel",
      "_view_count": null,
      "_view_module": "@jupyter-widgets/base",
      "_view_module_version": "1.2.0",
      "_view_name": "StyleView",
      "description_width": ""
     }
    },
    "27b196cb68cb402fafbb00be09f2efaa": {
     "model_module": "@jupyter-widgets/controls",
     "model_module_version": "1.5.0",
     "model_name": "DescriptionStyleModel",
     "state": {
      "_model_module": "@jupyter-widgets/controls",
      "_model_module_version": "1.5.0",
      "_model_name": "DescriptionStyleModel",
      "_view_count": null,
      "_view_module": "@jupyter-widgets/base",
      "_view_module_version": "1.2.0",
      "_view_name": "StyleView",
      "description_width": ""
     }
    },
    "286f29c5e75f4f4ba4d8daa7ca51d65e": {
     "model_module": "@jupyter-widgets/controls",
     "model_module_version": "1.5.0",
     "model_name": "ProgressStyleModel",
     "state": {
      "_model_module": "@jupyter-widgets/controls",
      "_model_module_version": "1.5.0",
      "_model_name": "ProgressStyleModel",
      "_view_count": null,
      "_view_module": "@jupyter-widgets/base",
      "_view_module_version": "1.2.0",
      "_view_name": "StyleView",
      "bar_color": null,
      "description_width": "initial"
     }
    },
    "2a106ced99204b5d99d1a2c9e1e60abe": {
     "model_module": "@jupyter-widgets/controls",
     "model_module_version": "1.5.0",
     "model_name": "HTMLModel",
     "state": {
      "_dom_classes": [],
      "_model_module": "@jupyter-widgets/controls",
      "_model_module_version": "1.5.0",
      "_model_name": "HTMLModel",
      "_view_count": null,
      "_view_module": "@jupyter-widgets/controls",
      "_view_module_version": "1.5.0",
      "_view_name": "HTMLView",
      "description": "",
      "description_tooltip": null,
      "layout": "IPY_MODEL_6a78e1d3806242b8a0530eff212a4147",
      "placeholder": "​",
      "style": "IPY_MODEL_27b196cb68cb402fafbb00be09f2efaa",
      "value": " 1/1 [00:10&lt;00:00, 10.00s/it]"
     }
    },
    "330ddbe49c1d4b57960cbf6f1b799243": {
     "model_module": "@jupyter-widgets/base",
     "model_module_version": "1.2.0",
     "model_name": "LayoutModel",
     "state": {
      "_model_module": "@jupyter-widgets/base",
      "_model_module_version": "1.2.0",
      "_model_name": "LayoutModel",
      "_view_count": null,
      "_view_module": "@jupyter-widgets/base",
      "_view_module_version": "1.2.0",
      "_view_name": "LayoutView",
      "align_content": null,
      "align_items": null,
      "align_self": null,
      "border": null,
      "bottom": null,
      "display": null,
      "flex": null,
      "flex_flow": null,
      "grid_area": null,
      "grid_auto_columns": null,
      "grid_auto_flow": null,
      "grid_auto_rows": null,
      "grid_column": null,
      "grid_gap": null,
      "grid_row": null,
      "grid_template_areas": null,
      "grid_template_columns": null,
      "grid_template_rows": null,
      "height": null,
      "justify_content": null,
      "justify_items": null,
      "left": null,
      "margin": null,
      "max_height": null,
      "max_width": null,
      "min_height": null,
      "min_width": null,
      "object_fit": null,
      "object_position": null,
      "order": null,
      "overflow": null,
      "overflow_x": null,
      "overflow_y": null,
      "padding": null,
      "right": null,
      "top": null,
      "visibility": null,
      "width": null
     }
    },
    "3446072a12774e7ca35f96b371cacf3b": {
     "model_module": "@jupyter-widgets/controls",
     "model_module_version": "1.5.0",
     "model_name": "FloatProgressModel",
     "state": {
      "_dom_classes": [],
      "_model_module": "@jupyter-widgets/controls",
      "_model_module_version": "1.5.0",
      "_model_name": "FloatProgressModel",
      "_view_count": null,
      "_view_module": "@jupyter-widgets/controls",
      "_view_module_version": "1.5.0",
      "_view_name": "ProgressView",
      "bar_style": "success",
      "description": "",
      "description_tooltip": null,
      "layout": "IPY_MODEL_8ffcb80152864bd9b11c581385e6e5be",
      "max": 1,
      "min": 0,
      "orientation": "horizontal",
      "style": "IPY_MODEL_4fbd9cabfd77437388dc0356b090ac04",
      "value": 1
     }
    },
    "34ec12818f494c03b57acb354f9d47c7": {
     "model_module": "@jupyter-widgets/controls",
     "model_module_version": "1.5.0",
     "model_name": "HBoxModel",
     "state": {
      "_dom_classes": [],
      "_model_module": "@jupyter-widgets/controls",
      "_model_module_version": "1.5.0",
      "_model_name": "HBoxModel",
      "_view_count": null,
      "_view_module": "@jupyter-widgets/controls",
      "_view_module_version": "1.5.0",
      "_view_name": "HBoxView",
      "box_style": "",
      "children": [
       "IPY_MODEL_7b29db64b91243848e9a75199531816b",
       "IPY_MODEL_031db7b1d516402d8bf25bfd4adb958e"
      ],
      "layout": "IPY_MODEL_b55b1cc8e4a14f0a8bbef31e7ca5ddd1"
     }
    },
    "34f4c813544249dd9bbe63af3bca4a68": {
     "model_module": "@jupyter-widgets/controls",
     "model_module_version": "1.5.0",
     "model_name": "DescriptionStyleModel",
     "state": {
      "_model_module": "@jupyter-widgets/controls",
      "_model_module_version": "1.5.0",
      "_model_name": "DescriptionStyleModel",
      "_view_count": null,
      "_view_module": "@jupyter-widgets/base",
      "_view_module_version": "1.2.0",
      "_view_name": "StyleView",
      "description_width": ""
     }
    },
    "3725910752ca460ebaa6a50990b7ceef": {
     "model_module": "@jupyter-widgets/controls",
     "model_module_version": "1.5.0",
     "model_name": "HTMLModel",
     "state": {
      "_dom_classes": [],
      "_model_module": "@jupyter-widgets/controls",
      "_model_module_version": "1.5.0",
      "_model_name": "HTMLModel",
      "_view_count": null,
      "_view_module": "@jupyter-widgets/controls",
      "_view_module_version": "1.5.0",
      "_view_name": "HTMLView",
      "description": "",
      "description_tooltip": null,
      "layout": "IPY_MODEL_eb9ab2d1d06b4e07bdf41d4e90dad553",
      "placeholder": "​",
      "style": "IPY_MODEL_273e7bd851dc40ba92fb35cee6a57bd5",
      "value": " 287/287 [01:08&lt;00:00,  5.21it/s, Completed]"
     }
    },
    "39c678ee7dfa4103888300ae9de0050e": {
     "model_module": "@jupyter-widgets/base",
     "model_module_version": "1.2.0",
     "model_name": "LayoutModel",
     "state": {
      "_model_module": "@jupyter-widgets/base",
      "_model_module_version": "1.2.0",
      "_model_name": "LayoutModel",
      "_view_count": null,
      "_view_module": "@jupyter-widgets/base",
      "_view_module_version": "1.2.0",
      "_view_name": "LayoutView",
      "align_content": null,
      "align_items": null,
      "align_self": null,
      "border": null,
      "bottom": null,
      "display": null,
      "flex": null,
      "flex_flow": null,
      "grid_area": null,
      "grid_auto_columns": null,
      "grid_auto_flow": null,
      "grid_auto_rows": null,
      "grid_column": null,
      "grid_gap": null,
      "grid_row": null,
      "grid_template_areas": null,
      "grid_template_columns": null,
      "grid_template_rows": null,
      "height": null,
      "justify_content": null,
      "justify_items": null,
      "left": null,
      "margin": null,
      "max_height": null,
      "max_width": null,
      "min_height": null,
      "min_width": null,
      "object_fit": null,
      "object_position": null,
      "order": null,
      "overflow": null,
      "overflow_x": null,
      "overflow_y": null,
      "padding": null,
      "right": null,
      "top": null,
      "visibility": null,
      "width": null
     }
    },
    "3b94d0e0489649a3a32b48d8a7b9b2be": {
     "model_module": "@jupyter-widgets/controls",
     "model_module_version": "1.5.0",
     "model_name": "HTMLModel",
     "state": {
      "_dom_classes": [],
      "_model_module": "@jupyter-widgets/controls",
      "_model_module_version": "1.5.0",
      "_model_name": "HTMLModel",
      "_view_count": null,
      "_view_module": "@jupyter-widgets/controls",
      "_view_module_version": "1.5.0",
      "_view_name": "HTMLView",
      "description": "",
      "description_tooltip": null,
      "layout": "IPY_MODEL_080821a1716f44f4ae2764386e4ec453",
      "placeholder": "​",
      "style": "IPY_MODEL_5cc9077194bf4678b4f30fe8e3e355ca",
      "value": " 1/1 [00:08&lt;00:00,  8.05s/it]"
     }
    },
    "3f23856ef4034be5a8fb0012b755b639": {
     "model_module": "@jupyter-widgets/controls",
     "model_module_version": "1.5.0",
     "model_name": "HTMLModel",
     "state": {
      "_dom_classes": [],
      "_model_module": "@jupyter-widgets/controls",
      "_model_module_version": "1.5.0",
      "_model_name": "HTMLModel",
      "_view_count": null,
      "_view_module": "@jupyter-widgets/controls",
      "_view_module_version": "1.5.0",
      "_view_name": "HTMLView",
      "description": "",
      "description_tooltip": null,
      "layout": "IPY_MODEL_5c708fa9b8464fffaa59c58439c1809f",
      "placeholder": "​",
      "style": "IPY_MODEL_4d6f1b222d4543c89292f3888c7e610c",
      "value": " 1/1 [00:10&lt;00:00, 10.55s/it]"
     }
    },
    "4112acb9e577411f81777cf92900658b": {
     "model_module": "@jupyter-widgets/base",
     "model_module_version": "1.2.0",
     "model_name": "LayoutModel",
     "state": {
      "_model_module": "@jupyter-widgets/base",
      "_model_module_version": "1.2.0",
      "_model_name": "LayoutModel",
      "_view_count": null,
      "_view_module": "@jupyter-widgets/base",
      "_view_module_version": "1.2.0",
      "_view_name": "LayoutView",
      "align_content": null,
      "align_items": null,
      "align_self": null,
      "border": null,
      "bottom": null,
      "display": null,
      "flex": null,
      "flex_flow": null,
      "grid_area": null,
      "grid_auto_columns": null,
      "grid_auto_flow": null,
      "grid_auto_rows": null,
      "grid_column": null,
      "grid_gap": null,
      "grid_row": null,
      "grid_template_areas": null,
      "grid_template_columns": null,
      "grid_template_rows": null,
      "height": null,
      "justify_content": null,
      "justify_items": null,
      "left": null,
      "margin": null,
      "max_height": null,
      "max_width": null,
      "min_height": null,
      "min_width": null,
      "object_fit": null,
      "object_position": null,
      "order": null,
      "overflow": null,
      "overflow_x": null,
      "overflow_y": null,
      "padding": null,
      "right": null,
      "top": null,
      "visibility": null,
      "width": null
     }
    },
    "42abc4382f594f0caa2bccab87421694": {
     "model_module": "@jupyter-widgets/controls",
     "model_module_version": "1.5.0",
     "model_name": "DescriptionStyleModel",
     "state": {
      "_model_module": "@jupyter-widgets/controls",
      "_model_module_version": "1.5.0",
      "_model_name": "DescriptionStyleModel",
      "_view_count": null,
      "_view_module": "@jupyter-widgets/base",
      "_view_module_version": "1.2.0",
      "_view_name": "StyleView",
      "description_width": ""
     }
    },
    "446aa1bedad64579b494d10911df5338": {
     "model_module": "@jupyter-widgets/base",
     "model_module_version": "1.2.0",
     "model_name": "LayoutModel",
     "state": {
      "_model_module": "@jupyter-widgets/base",
      "_model_module_version": "1.2.0",
      "_model_name": "LayoutModel",
      "_view_count": null,
      "_view_module": "@jupyter-widgets/base",
      "_view_module_version": "1.2.0",
      "_view_name": "LayoutView",
      "align_content": null,
      "align_items": null,
      "align_self": null,
      "border": null,
      "bottom": null,
      "display": null,
      "flex": null,
      "flex_flow": null,
      "grid_area": null,
      "grid_auto_columns": null,
      "grid_auto_flow": null,
      "grid_auto_rows": null,
      "grid_column": null,
      "grid_gap": null,
      "grid_row": null,
      "grid_template_areas": null,
      "grid_template_columns": null,
      "grid_template_rows": null,
      "height": null,
      "justify_content": null,
      "justify_items": null,
      "left": null,
      "margin": null,
      "max_height": null,
      "max_width": null,
      "min_height": null,
      "min_width": null,
      "object_fit": null,
      "object_position": null,
      "order": null,
      "overflow": null,
      "overflow_x": null,
      "overflow_y": null,
      "padding": null,
      "right": null,
      "top": null,
      "visibility": null,
      "width": null
     }
    },
    "44d3d5c71ee74c57b191e0d15320c228": {
     "model_module": "@jupyter-widgets/base",
     "model_module_version": "1.2.0",
     "model_name": "LayoutModel",
     "state": {
      "_model_module": "@jupyter-widgets/base",
      "_model_module_version": "1.2.0",
      "_model_name": "LayoutModel",
      "_view_count": null,
      "_view_module": "@jupyter-widgets/base",
      "_view_module_version": "1.2.0",
      "_view_name": "LayoutView",
      "align_content": null,
      "align_items": null,
      "align_self": null,
      "border": null,
      "bottom": null,
      "display": null,
      "flex": null,
      "flex_flow": null,
      "grid_area": null,
      "grid_auto_columns": null,
      "grid_auto_flow": null,
      "grid_auto_rows": null,
      "grid_column": null,
      "grid_gap": null,
      "grid_row": null,
      "grid_template_areas": null,
      "grid_template_columns": null,
      "grid_template_rows": null,
      "height": null,
      "justify_content": null,
      "justify_items": null,
      "left": null,
      "margin": null,
      "max_height": null,
      "max_width": null,
      "min_height": null,
      "min_width": null,
      "object_fit": null,
      "object_position": null,
      "order": null,
      "overflow": null,
      "overflow_x": null,
      "overflow_y": null,
      "padding": null,
      "right": null,
      "top": null,
      "visibility": null,
      "width": null
     }
    },
    "4c2a72f232dc4c0880275fb8782036f0": {
     "model_module": "@jupyter-widgets/controls",
     "model_module_version": "1.5.0",
     "model_name": "DescriptionStyleModel",
     "state": {
      "_model_module": "@jupyter-widgets/controls",
      "_model_module_version": "1.5.0",
      "_model_name": "DescriptionStyleModel",
      "_view_count": null,
      "_view_module": "@jupyter-widgets/base",
      "_view_module_version": "1.2.0",
      "_view_name": "StyleView",
      "description_width": ""
     }
    },
    "4d6f1b222d4543c89292f3888c7e610c": {
     "model_module": "@jupyter-widgets/controls",
     "model_module_version": "1.5.0",
     "model_name": "DescriptionStyleModel",
     "state": {
      "_model_module": "@jupyter-widgets/controls",
      "_model_module_version": "1.5.0",
      "_model_name": "DescriptionStyleModel",
      "_view_count": null,
      "_view_module": "@jupyter-widgets/base",
      "_view_module_version": "1.2.0",
      "_view_name": "StyleView",
      "description_width": ""
     }
    },
    "4fbd9cabfd77437388dc0356b090ac04": {
     "model_module": "@jupyter-widgets/controls",
     "model_module_version": "1.5.0",
     "model_name": "ProgressStyleModel",
     "state": {
      "_model_module": "@jupyter-widgets/controls",
      "_model_module_version": "1.5.0",
      "_model_name": "ProgressStyleModel",
      "_view_count": null,
      "_view_module": "@jupyter-widgets/base",
      "_view_module_version": "1.2.0",
      "_view_name": "StyleView",
      "bar_color": null,
      "description_width": ""
     }
    },
    "50946a5fb65f4a87948037bf1383f707": {
     "model_module": "@jupyter-widgets/controls",
     "model_module_version": "1.5.0",
     "model_name": "DescriptionStyleModel",
     "state": {
      "_model_module": "@jupyter-widgets/controls",
      "_model_module_version": "1.5.0",
      "_model_name": "DescriptionStyleModel",
      "_view_count": null,
      "_view_module": "@jupyter-widgets/base",
      "_view_module_version": "1.2.0",
      "_view_name": "StyleView",
      "description_width": ""
     }
    },
    "53d00e16158242098be3d88245e7428e": {
     "model_module": "@jupyter-widgets/controls",
     "model_module_version": "1.5.0",
     "model_name": "HBoxModel",
     "state": {
      "_dom_classes": [],
      "_model_module": "@jupyter-widgets/controls",
      "_model_module_version": "1.5.0",
      "_model_name": "HBoxModel",
      "_view_count": null,
      "_view_module": "@jupyter-widgets/controls",
      "_view_module_version": "1.5.0",
      "_view_name": "HBoxView",
      "box_style": "",
      "children": [
       "IPY_MODEL_14885a0718b946fa88a1238ee3eeba63",
       "IPY_MODEL_3446072a12774e7ca35f96b371cacf3b",
       "IPY_MODEL_3f23856ef4034be5a8fb0012b755b639"
      ],
      "layout": "IPY_MODEL_2171c567e6d24ddb94155bbb96c6ac4f"
     }
    },
    "594172996eba4c6284347aeb9cf59a36": {
     "model_module": "@jupyter-widgets/base",
     "model_module_version": "1.2.0",
     "model_name": "LayoutModel",
     "state": {
      "_model_module": "@jupyter-widgets/base",
      "_model_module_version": "1.2.0",
      "_model_name": "LayoutModel",
      "_view_count": null,
      "_view_module": "@jupyter-widgets/base",
      "_view_module_version": "1.2.0",
      "_view_name": "LayoutView",
      "align_content": null,
      "align_items": null,
      "align_self": null,
      "border": null,
      "bottom": null,
      "display": null,
      "flex": null,
      "flex_flow": null,
      "grid_area": null,
      "grid_auto_columns": null,
      "grid_auto_flow": null,
      "grid_auto_rows": null,
      "grid_column": null,
      "grid_gap": null,
      "grid_row": null,
      "grid_template_areas": null,
      "grid_template_columns": null,
      "grid_template_rows": null,
      "height": null,
      "justify_content": null,
      "justify_items": null,
      "left": null,
      "margin": null,
      "max_height": null,
      "max_width": null,
      "min_height": null,
      "min_width": null,
      "object_fit": null,
      "object_position": null,
      "order": null,
      "overflow": null,
      "overflow_x": null,
      "overflow_y": null,
      "padding": null,
      "right": null,
      "top": null,
      "visibility": null,
      "width": null
     }
    },
    "5c708fa9b8464fffaa59c58439c1809f": {
     "model_module": "@jupyter-widgets/base",
     "model_module_version": "1.2.0",
     "model_name": "LayoutModel",
     "state": {
      "_model_module": "@jupyter-widgets/base",
      "_model_module_version": "1.2.0",
      "_model_name": "LayoutModel",
      "_view_count": null,
      "_view_module": "@jupyter-widgets/base",
      "_view_module_version": "1.2.0",
      "_view_name": "LayoutView",
      "align_content": null,
      "align_items": null,
      "align_self": null,
      "border": null,
      "bottom": null,
      "display": null,
      "flex": null,
      "flex_flow": null,
      "grid_area": null,
      "grid_auto_columns": null,
      "grid_auto_flow": null,
      "grid_auto_rows": null,
      "grid_column": null,
      "grid_gap": null,
      "grid_row": null,
      "grid_template_areas": null,
      "grid_template_columns": null,
      "grid_template_rows": null,
      "height": null,
      "justify_content": null,
      "justify_items": null,
      "left": null,
      "margin": null,
      "max_height": null,
      "max_width": null,
      "min_height": null,
      "min_width": null,
      "object_fit": null,
      "object_position": null,
      "order": null,
      "overflow": null,
      "overflow_x": null,
      "overflow_y": null,
      "padding": null,
      "right": null,
      "top": null,
      "visibility": null,
      "width": null
     }
    },
    "5cc9077194bf4678b4f30fe8e3e355ca": {
     "model_module": "@jupyter-widgets/controls",
     "model_module_version": "1.5.0",
     "model_name": "DescriptionStyleModel",
     "state": {
      "_model_module": "@jupyter-widgets/controls",
      "_model_module_version": "1.5.0",
      "_model_name": "DescriptionStyleModel",
      "_view_count": null,
      "_view_module": "@jupyter-widgets/base",
      "_view_module_version": "1.2.0",
      "_view_name": "StyleView",
      "description_width": ""
     }
    },
    "5f82c6ade5fb460c8f81d54ae220350d": {
     "model_module": "@jupyter-widgets/controls",
     "model_module_version": "1.5.0",
     "model_name": "FloatProgressModel",
     "state": {
      "_dom_classes": [],
      "_model_module": "@jupyter-widgets/controls",
      "_model_module_version": "1.5.0",
      "_model_name": "FloatProgressModel",
      "_view_count": null,
      "_view_module": "@jupyter-widgets/controls",
      "_view_module_version": "1.5.0",
      "_view_name": "ProgressView",
      "bar_style": "success",
      "description": "",
      "description_tooltip": null,
      "layout": "IPY_MODEL_6ba34240d21b4abe9a1196f222246d62",
      "max": 1,
      "min": 0,
      "orientation": "horizontal",
      "style": "IPY_MODEL_d1807998acfc4d62aeb112dbd362e42e",
      "value": 1
     }
    },
    "6158b4d4d2824d2a96d79519f8ecddc5": {
     "model_module": "@jupyter-widgets/controls",
     "model_module_version": "1.5.0",
     "model_name": "HBoxModel",
     "state": {
      "_dom_classes": [],
      "_model_module": "@jupyter-widgets/controls",
      "_model_module_version": "1.5.0",
      "_model_name": "HBoxModel",
      "_view_count": null,
      "_view_module": "@jupyter-widgets/controls",
      "_view_module_version": "1.5.0",
      "_view_name": "HBoxView",
      "box_style": "",
      "children": [
       "IPY_MODEL_dfe415ebb788407ebdc618d833daa704",
       "IPY_MODEL_f506b9be3ffa4b449f0b998fff18ed2c",
       "IPY_MODEL_3725910752ca460ebaa6a50990b7ceef"
      ],
      "layout": "IPY_MODEL_330ddbe49c1d4b57960cbf6f1b799243"
     }
    },
    "675f51a2fea647be8da8ba32473bbd27": {
     "model_module": "@jupyter-widgets/controls",
     "model_module_version": "1.5.0",
     "model_name": "HTMLModel",
     "state": {
      "_dom_classes": [],
      "_model_module": "@jupyter-widgets/controls",
      "_model_module_version": "1.5.0",
      "_model_name": "HTMLModel",
      "_view_count": null,
      "_view_module": "@jupyter-widgets/controls",
      "_view_module_version": "1.5.0",
      "_view_name": "HTMLView",
      "description": "",
      "description_tooltip": null,
      "layout": "IPY_MODEL_594172996eba4c6284347aeb9cf59a36",
      "placeholder": "​",
      "style": "IPY_MODEL_9ca125a451524f8aa4f41daf37595a48",
      "value": "Export report to file: 100%"
     }
    },
    "6a78e1d3806242b8a0530eff212a4147": {
     "model_module": "@jupyter-widgets/base",
     "model_module_version": "1.2.0",
     "model_name": "LayoutModel",
     "state": {
      "_model_module": "@jupyter-widgets/base",
      "_model_module_version": "1.2.0",
      "_model_name": "LayoutModel",
      "_view_count": null,
      "_view_module": "@jupyter-widgets/base",
      "_view_module_version": "1.2.0",
      "_view_name": "LayoutView",
      "align_content": null,
      "align_items": null,
      "align_self": null,
      "border": null,
      "bottom": null,
      "display": null,
      "flex": null,
      "flex_flow": null,
      "grid_area": null,
      "grid_auto_columns": null,
      "grid_auto_flow": null,
      "grid_auto_rows": null,
      "grid_column": null,
      "grid_gap": null,
      "grid_row": null,
      "grid_template_areas": null,
      "grid_template_columns": null,
      "grid_template_rows": null,
      "height": null,
      "justify_content": null,
      "justify_items": null,
      "left": null,
      "margin": null,
      "max_height": null,
      "max_width": null,
      "min_height": null,
      "min_width": null,
      "object_fit": null,
      "object_position": null,
      "order": null,
      "overflow": null,
      "overflow_x": null,
      "overflow_y": null,
      "padding": null,
      "right": null,
      "top": null,
      "visibility": null,
      "width": null
     }
    },
    "6ba34240d21b4abe9a1196f222246d62": {
     "model_module": "@jupyter-widgets/base",
     "model_module_version": "1.2.0",
     "model_name": "LayoutModel",
     "state": {
      "_model_module": "@jupyter-widgets/base",
      "_model_module_version": "1.2.0",
      "_model_name": "LayoutModel",
      "_view_count": null,
      "_view_module": "@jupyter-widgets/base",
      "_view_module_version": "1.2.0",
      "_view_name": "LayoutView",
      "align_content": null,
      "align_items": null,
      "align_self": null,
      "border": null,
      "bottom": null,
      "display": null,
      "flex": null,
      "flex_flow": null,
      "grid_area": null,
      "grid_auto_columns": null,
      "grid_auto_flow": null,
      "grid_auto_rows": null,
      "grid_column": null,
      "grid_gap": null,
      "grid_row": null,
      "grid_template_areas": null,
      "grid_template_columns": null,
      "grid_template_rows": null,
      "height": null,
      "justify_content": null,
      "justify_items": null,
      "left": null,
      "margin": null,
      "max_height": null,
      "max_width": null,
      "min_height": null,
      "min_width": null,
      "object_fit": null,
      "object_position": null,
      "order": null,
      "overflow": null,
      "overflow_x": null,
      "overflow_y": null,
      "padding": null,
      "right": null,
      "top": null,
      "visibility": null,
      "width": null
     }
    },
    "75b627b302e14fa8bd7a8d2ee5439ce5": {
     "model_module": "@jupyter-widgets/base",
     "model_module_version": "1.2.0",
     "model_name": "LayoutModel",
     "state": {
      "_model_module": "@jupyter-widgets/base",
      "_model_module_version": "1.2.0",
      "_model_name": "LayoutModel",
      "_view_count": null,
      "_view_module": "@jupyter-widgets/base",
      "_view_module_version": "1.2.0",
      "_view_name": "LayoutView",
      "align_content": null,
      "align_items": null,
      "align_self": null,
      "border": null,
      "bottom": null,
      "display": null,
      "flex": null,
      "flex_flow": null,
      "grid_area": null,
      "grid_auto_columns": null,
      "grid_auto_flow": null,
      "grid_auto_rows": null,
      "grid_column": null,
      "grid_gap": null,
      "grid_row": null,
      "grid_template_areas": null,
      "grid_template_columns": null,
      "grid_template_rows": null,
      "height": null,
      "justify_content": null,
      "justify_items": null,
      "left": null,
      "margin": null,
      "max_height": null,
      "max_width": null,
      "min_height": null,
      "min_width": null,
      "object_fit": null,
      "object_position": null,
      "order": null,
      "overflow": null,
      "overflow_x": null,
      "overflow_y": null,
      "padding": null,
      "right": null,
      "top": null,
      "visibility": null,
      "width": null
     }
    },
    "760845445c334511b9f78ee2cbaed818": {
     "model_module": "@jupyter-widgets/base",
     "model_module_version": "1.2.0",
     "model_name": "LayoutModel",
     "state": {
      "_model_module": "@jupyter-widgets/base",
      "_model_module_version": "1.2.0",
      "_model_name": "LayoutModel",
      "_view_count": null,
      "_view_module": "@jupyter-widgets/base",
      "_view_module_version": "1.2.0",
      "_view_name": "LayoutView",
      "align_content": null,
      "align_items": null,
      "align_self": null,
      "border": null,
      "bottom": null,
      "display": null,
      "flex": null,
      "flex_flow": null,
      "grid_area": null,
      "grid_auto_columns": null,
      "grid_auto_flow": null,
      "grid_auto_rows": null,
      "grid_column": null,
      "grid_gap": null,
      "grid_row": null,
      "grid_template_areas": null,
      "grid_template_columns": null,
      "grid_template_rows": null,
      "height": null,
      "justify_content": null,
      "justify_items": null,
      "left": null,
      "margin": null,
      "max_height": null,
      "max_width": null,
      "min_height": null,
      "min_width": null,
      "object_fit": null,
      "object_position": null,
      "order": null,
      "overflow": null,
      "overflow_x": null,
      "overflow_y": null,
      "padding": null,
      "right": null,
      "top": null,
      "visibility": null,
      "width": null
     }
    },
    "7b29db64b91243848e9a75199531816b": {
     "model_module": "@jupyter-widgets/controls",
     "model_module_version": "1.5.0",
     "model_name": "FloatProgressModel",
     "state": {
      "_dom_classes": [],
      "_model_module": "@jupyter-widgets/controls",
      "_model_module_version": "1.5.0",
      "_model_name": "FloatProgressModel",
      "_view_count": null,
      "_view_module": "@jupyter-widgets/controls",
      "_view_module_version": "1.5.0",
      "_view_name": "ProgressView",
      "bar_style": "success",
      "description": "Summarize dataset: 100%",
      "description_tooltip": null,
      "layout": "IPY_MODEL_ccb173b44c084d0cbffeb386ae20fe41",
      "max": 35,
      "min": 0,
      "orientation": "horizontal",
      "style": "IPY_MODEL_b7d384038a1544bd8542fb0de27b4f2a",
      "value": 35
     }
    },
    "7c5718c0490c49639691192bce2c5e08": {
     "model_module": "@jupyter-widgets/base",
     "model_module_version": "1.2.0",
     "model_name": "LayoutModel",
     "state": {
      "_model_module": "@jupyter-widgets/base",
      "_model_module_version": "1.2.0",
      "_model_name": "LayoutModel",
      "_view_count": null,
      "_view_module": "@jupyter-widgets/base",
      "_view_module_version": "1.2.0",
      "_view_name": "LayoutView",
      "align_content": null,
      "align_items": null,
      "align_self": null,
      "border": null,
      "bottom": null,
      "display": null,
      "flex": null,
      "flex_flow": null,
      "grid_area": null,
      "grid_auto_columns": null,
      "grid_auto_flow": null,
      "grid_auto_rows": null,
      "grid_column": null,
      "grid_gap": null,
      "grid_row": null,
      "grid_template_areas": null,
      "grid_template_columns": null,
      "grid_template_rows": null,
      "height": null,
      "justify_content": null,
      "justify_items": null,
      "left": null,
      "margin": null,
      "max_height": null,
      "max_width": null,
      "min_height": null,
      "min_width": null,
      "object_fit": null,
      "object_position": null,
      "order": null,
      "overflow": null,
      "overflow_x": null,
      "overflow_y": null,
      "padding": null,
      "right": null,
      "top": null,
      "visibility": null,
      "width": null
     }
    },
    "8ffcb80152864bd9b11c581385e6e5be": {
     "model_module": "@jupyter-widgets/base",
     "model_module_version": "1.2.0",
     "model_name": "LayoutModel",
     "state": {
      "_model_module": "@jupyter-widgets/base",
      "_model_module_version": "1.2.0",
      "_model_name": "LayoutModel",
      "_view_count": null,
      "_view_module": "@jupyter-widgets/base",
      "_view_module_version": "1.2.0",
      "_view_name": "LayoutView",
      "align_content": null,
      "align_items": null,
      "align_self": null,
      "border": null,
      "bottom": null,
      "display": null,
      "flex": null,
      "flex_flow": null,
      "grid_area": null,
      "grid_auto_columns": null,
      "grid_auto_flow": null,
      "grid_auto_rows": null,
      "grid_column": null,
      "grid_gap": null,
      "grid_row": null,
      "grid_template_areas": null,
      "grid_template_columns": null,
      "grid_template_rows": null,
      "height": null,
      "justify_content": null,
      "justify_items": null,
      "left": null,
      "margin": null,
      "max_height": null,
      "max_width": null,
      "min_height": null,
      "min_width": null,
      "object_fit": null,
      "object_position": null,
      "order": null,
      "overflow": null,
      "overflow_x": null,
      "overflow_y": null,
      "padding": null,
      "right": null,
      "top": null,
      "visibility": null,
      "width": null
     }
    },
    "93ed34d1f4834425ac6ff8182939f154": {
     "model_module": "@jupyter-widgets/controls",
     "model_module_version": "1.5.0",
     "model_name": "ProgressStyleModel",
     "state": {
      "_model_module": "@jupyter-widgets/controls",
      "_model_module_version": "1.5.0",
      "_model_name": "ProgressStyleModel",
      "_view_count": null,
      "_view_module": "@jupyter-widgets/base",
      "_view_module_version": "1.2.0",
      "_view_name": "StyleView",
      "bar_color": null,
      "description_width": "initial"
     }
    },
    "94e44a2236354239b53f253cf716c619": {
     "model_module": "@jupyter-widgets/controls",
     "model_module_version": "1.5.0",
     "model_name": "HTMLModel",
     "state": {
      "_dom_classes": [],
      "_model_module": "@jupyter-widgets/controls",
      "_model_module_version": "1.5.0",
      "_model_name": "HTMLModel",
      "_view_count": null,
      "_view_module": "@jupyter-widgets/controls",
      "_view_module_version": "1.5.0",
      "_view_name": "HTMLView",
      "description": "",
      "description_tooltip": null,
      "layout": "IPY_MODEL_760845445c334511b9f78ee2cbaed818",
      "placeholder": "​",
      "style": "IPY_MODEL_34f4c813544249dd9bbe63af3bca4a68",
      "value": " 1/1 [00:00&lt;00:00, 16.02it/s]"
     }
    },
    "9ca125a451524f8aa4f41daf37595a48": {
     "model_module": "@jupyter-widgets/controls",
     "model_module_version": "1.5.0",
     "model_name": "DescriptionStyleModel",
     "state": {
      "_model_module": "@jupyter-widgets/controls",
      "_model_module_version": "1.5.0",
      "_model_name": "DescriptionStyleModel",
      "_view_count": null,
      "_view_module": "@jupyter-widgets/base",
      "_view_module_version": "1.2.0",
      "_view_name": "StyleView",
      "description_width": ""
     }
    },
    "a4c0e9ead08546f0838799ced45a577e": {
     "model_module": "@jupyter-widgets/controls",
     "model_module_version": "1.5.0",
     "model_name": "HTMLModel",
     "state": {
      "_dom_classes": [],
      "_model_module": "@jupyter-widgets/controls",
      "_model_module_version": "1.5.0",
      "_model_name": "HTMLModel",
      "_view_count": null,
      "_view_module": "@jupyter-widgets/controls",
      "_view_module_version": "1.5.0",
      "_view_name": "HTMLView",
      "description": "",
      "description_tooltip": null,
      "layout": "IPY_MODEL_39c678ee7dfa4103888300ae9de0050e",
      "placeholder": "​",
      "style": "IPY_MODEL_50946a5fb65f4a87948037bf1383f707",
      "value": "Generate report structure: 100%"
     }
    },
    "a98f29cca86a4f5897bd2943f951a3a9": {
     "model_module": "@jupyter-widgets/controls",
     "model_module_version": "1.5.0",
     "model_name": "DescriptionStyleModel",
     "state": {
      "_model_module": "@jupyter-widgets/controls",
      "_model_module_version": "1.5.0",
      "_model_name": "DescriptionStyleModel",
      "_view_count": null,
      "_view_module": "@jupyter-widgets/base",
      "_view_module_version": "1.2.0",
      "_view_name": "StyleView",
      "description_width": ""
     }
    },
    "a9b1af092b2a4a2bb70c04455fca643d": {
     "model_module": "@jupyter-widgets/base",
     "model_module_version": "1.2.0",
     "model_name": "LayoutModel",
     "state": {
      "_model_module": "@jupyter-widgets/base",
      "_model_module_version": "1.2.0",
      "_model_name": "LayoutModel",
      "_view_count": null,
      "_view_module": "@jupyter-widgets/base",
      "_view_module_version": "1.2.0",
      "_view_name": "LayoutView",
      "align_content": null,
      "align_items": null,
      "align_self": null,
      "border": null,
      "bottom": null,
      "display": null,
      "flex": null,
      "flex_flow": null,
      "grid_area": null,
      "grid_auto_columns": null,
      "grid_auto_flow": null,
      "grid_auto_rows": null,
      "grid_column": null,
      "grid_gap": null,
      "grid_row": null,
      "grid_template_areas": null,
      "grid_template_columns": null,
      "grid_template_rows": null,
      "height": null,
      "justify_content": null,
      "justify_items": null,
      "left": null,
      "margin": null,
      "max_height": null,
      "max_width": null,
      "min_height": null,
      "min_width": null,
      "object_fit": null,
      "object_position": null,
      "order": null,
      "overflow": null,
      "overflow_x": null,
      "overflow_y": null,
      "padding": null,
      "right": null,
      "top": null,
      "visibility": null,
      "width": null
     }
    },
    "aa9f21581c9540c3a4966690c0173459": {
     "model_module": "@jupyter-widgets/controls",
     "model_module_version": "1.5.0",
     "model_name": "HBoxModel",
     "state": {
      "_dom_classes": [],
      "_model_module": "@jupyter-widgets/controls",
      "_model_module_version": "1.5.0",
      "_model_name": "HBoxModel",
      "_view_count": null,
      "_view_module": "@jupyter-widgets/controls",
      "_view_module_version": "1.5.0",
      "_view_name": "HBoxView",
      "box_style": "",
      "children": [
       "IPY_MODEL_ac71f3cafd6a44cfbc667b22890525a9",
       "IPY_MODEL_0f765f9bfa504c0b834de9de6675156a"
      ],
      "layout": "IPY_MODEL_bd12291f0cd842c690f3c6e821587d33"
     }
    },
    "ac71f3cafd6a44cfbc667b22890525a9": {
     "model_module": "@jupyter-widgets/controls",
     "model_module_version": "1.5.0",
     "model_name": "FloatProgressModel",
     "state": {
      "_dom_classes": [],
      "_model_module": "@jupyter-widgets/controls",
      "_model_module_version": "1.5.0",
      "_model_name": "FloatProgressModel",
      "_view_count": null,
      "_view_module": "@jupyter-widgets/controls",
      "_view_module_version": "1.5.0",
      "_view_name": "ProgressView",
      "bar_style": "success",
      "description": "Generate report structure: 100%",
      "description_tooltip": null,
      "layout": "IPY_MODEL_c16401d611fc42c98d2a53b5903cce94",
      "max": 1,
      "min": 0,
      "orientation": "horizontal",
      "style": "IPY_MODEL_93ed34d1f4834425ac6ff8182939f154",
      "value": 1
     }
    },
    "b55b1cc8e4a14f0a8bbef31e7ca5ddd1": {
     "model_module": "@jupyter-widgets/base",
     "model_module_version": "1.2.0",
     "model_name": "LayoutModel",
     "state": {
      "_model_module": "@jupyter-widgets/base",
      "_model_module_version": "1.2.0",
      "_model_name": "LayoutModel",
      "_view_count": null,
      "_view_module": "@jupyter-widgets/base",
      "_view_module_version": "1.2.0",
      "_view_name": "LayoutView",
      "align_content": null,
      "align_items": null,
      "align_self": null,
      "border": null,
      "bottom": null,
      "display": null,
      "flex": null,
      "flex_flow": null,
      "grid_area": null,
      "grid_auto_columns": null,
      "grid_auto_flow": null,
      "grid_auto_rows": null,
      "grid_column": null,
      "grid_gap": null,
      "grid_row": null,
      "grid_template_areas": null,
      "grid_template_columns": null,
      "grid_template_rows": null,
      "height": null,
      "justify_content": null,
      "justify_items": null,
      "left": null,
      "margin": null,
      "max_height": null,
      "max_width": null,
      "min_height": null,
      "min_width": null,
      "object_fit": null,
      "object_position": null,
      "order": null,
      "overflow": null,
      "overflow_x": null,
      "overflow_y": null,
      "padding": null,
      "right": null,
      "top": null,
      "visibility": null,
      "width": null
     }
    },
    "b7d384038a1544bd8542fb0de27b4f2a": {
     "model_module": "@jupyter-widgets/controls",
     "model_module_version": "1.5.0",
     "model_name": "ProgressStyleModel",
     "state": {
      "_model_module": "@jupyter-widgets/controls",
      "_model_module_version": "1.5.0",
      "_model_name": "ProgressStyleModel",
      "_view_count": null,
      "_view_module": "@jupyter-widgets/base",
      "_view_module_version": "1.2.0",
      "_view_name": "StyleView",
      "bar_color": null,
      "description_width": "initial"
     }
    },
    "bc63790b49b048649dbfa5a335d3ef45": {
     "model_module": "@jupyter-widgets/controls",
     "model_module_version": "1.5.0",
     "model_name": "ProgressStyleModel",
     "state": {
      "_model_module": "@jupyter-widgets/controls",
      "_model_module_version": "1.5.0",
      "_model_name": "ProgressStyleModel",
      "_view_count": null,
      "_view_module": "@jupyter-widgets/base",
      "_view_module_version": "1.2.0",
      "_view_name": "StyleView",
      "bar_color": null,
      "description_width": ""
     }
    },
    "bd12291f0cd842c690f3c6e821587d33": {
     "model_module": "@jupyter-widgets/base",
     "model_module_version": "1.2.0",
     "model_name": "LayoutModel",
     "state": {
      "_model_module": "@jupyter-widgets/base",
      "_model_module_version": "1.2.0",
      "_model_name": "LayoutModel",
      "_view_count": null,
      "_view_module": "@jupyter-widgets/base",
      "_view_module_version": "1.2.0",
      "_view_name": "LayoutView",
      "align_content": null,
      "align_items": null,
      "align_self": null,
      "border": null,
      "bottom": null,
      "display": null,
      "flex": null,
      "flex_flow": null,
      "grid_area": null,
      "grid_auto_columns": null,
      "grid_auto_flow": null,
      "grid_auto_rows": null,
      "grid_column": null,
      "grid_gap": null,
      "grid_row": null,
      "grid_template_areas": null,
      "grid_template_columns": null,
      "grid_template_rows": null,
      "height": null,
      "justify_content": null,
      "justify_items": null,
      "left": null,
      "margin": null,
      "max_height": null,
      "max_width": null,
      "min_height": null,
      "min_width": null,
      "object_fit": null,
      "object_position": null,
      "order": null,
      "overflow": null,
      "overflow_x": null,
      "overflow_y": null,
      "padding": null,
      "right": null,
      "top": null,
      "visibility": null,
      "width": null
     }
    },
    "c16401d611fc42c98d2a53b5903cce94": {
     "model_module": "@jupyter-widgets/base",
     "model_module_version": "1.2.0",
     "model_name": "LayoutModel",
     "state": {
      "_model_module": "@jupyter-widgets/base",
      "_model_module_version": "1.2.0",
      "_model_name": "LayoutModel",
      "_view_count": null,
      "_view_module": "@jupyter-widgets/base",
      "_view_module_version": "1.2.0",
      "_view_name": "LayoutView",
      "align_content": null,
      "align_items": null,
      "align_self": null,
      "border": null,
      "bottom": null,
      "display": null,
      "flex": null,
      "flex_flow": null,
      "grid_area": null,
      "grid_auto_columns": null,
      "grid_auto_flow": null,
      "grid_auto_rows": null,
      "grid_column": null,
      "grid_gap": null,
      "grid_row": null,
      "grid_template_areas": null,
      "grid_template_columns": null,
      "grid_template_rows": null,
      "height": null,
      "justify_content": null,
      "justify_items": null,
      "left": null,
      "margin": null,
      "max_height": null,
      "max_width": null,
      "min_height": null,
      "min_width": null,
      "object_fit": null,
      "object_position": null,
      "order": null,
      "overflow": null,
      "overflow_x": null,
      "overflow_y": null,
      "padding": null,
      "right": null,
      "top": null,
      "visibility": null,
      "width": null
     }
    },
    "c32ef60b2bb34374b3b191f82acb1cd8": {
     "model_module": "@jupyter-widgets/base",
     "model_module_version": "1.2.0",
     "model_name": "LayoutModel",
     "state": {
      "_model_module": "@jupyter-widgets/base",
      "_model_module_version": "1.2.0",
      "_model_name": "LayoutModel",
      "_view_count": null,
      "_view_module": "@jupyter-widgets/base",
      "_view_module_version": "1.2.0",
      "_view_name": "LayoutView",
      "align_content": null,
      "align_items": null,
      "align_self": null,
      "border": null,
      "bottom": null,
      "display": null,
      "flex": null,
      "flex_flow": null,
      "grid_area": null,
      "grid_auto_columns": null,
      "grid_auto_flow": null,
      "grid_auto_rows": null,
      "grid_column": null,
      "grid_gap": null,
      "grid_row": null,
      "grid_template_areas": null,
      "grid_template_columns": null,
      "grid_template_rows": null,
      "height": null,
      "justify_content": null,
      "justify_items": null,
      "left": null,
      "margin": null,
      "max_height": null,
      "max_width": null,
      "min_height": null,
      "min_width": null,
      "object_fit": null,
      "object_position": null,
      "order": null,
      "overflow": null,
      "overflow_x": null,
      "overflow_y": null,
      "padding": null,
      "right": null,
      "top": null,
      "visibility": null,
      "width": null
     }
    },
    "c535f916a7234e22b0d9a718b5585e26": {
     "model_module": "@jupyter-widgets/controls",
     "model_module_version": "1.5.0",
     "model_name": "DescriptionStyleModel",
     "state": {
      "_model_module": "@jupyter-widgets/controls",
      "_model_module_version": "1.5.0",
      "_model_name": "DescriptionStyleModel",
      "_view_count": null,
      "_view_module": "@jupyter-widgets/base",
      "_view_module_version": "1.2.0",
      "_view_name": "StyleView",
      "description_width": ""
     }
    },
    "cc601ff7516d4429a7b47df045d4dc0b": {
     "model_module": "@jupyter-widgets/controls",
     "model_module_version": "1.5.0",
     "model_name": "FloatProgressModel",
     "state": {
      "_dom_classes": [],
      "_model_module": "@jupyter-widgets/controls",
      "_model_module_version": "1.5.0",
      "_model_name": "FloatProgressModel",
      "_view_count": null,
      "_view_module": "@jupyter-widgets/controls",
      "_view_module_version": "1.5.0",
      "_view_name": "ProgressView",
      "bar_style": "success",
      "description": "",
      "description_tooltip": null,
      "layout": "IPY_MODEL_7c5718c0490c49639691192bce2c5e08",
      "max": 1,
      "min": 0,
      "orientation": "horizontal",
      "style": "IPY_MODEL_d8bd7bd387a545dda10e5ae4667a78aa",
      "value": 1
     }
    },
    "ccb173b44c084d0cbffeb386ae20fe41": {
     "model_module": "@jupyter-widgets/base",
     "model_module_version": "1.2.0",
     "model_name": "LayoutModel",
     "state": {
      "_model_module": "@jupyter-widgets/base",
      "_model_module_version": "1.2.0",
      "_model_name": "LayoutModel",
      "_view_count": null,
      "_view_module": "@jupyter-widgets/base",
      "_view_module_version": "1.2.0",
      "_view_name": "LayoutView",
      "align_content": null,
      "align_items": null,
      "align_self": null,
      "border": null,
      "bottom": null,
      "display": null,
      "flex": null,
      "flex_flow": null,
      "grid_area": null,
      "grid_auto_columns": null,
      "grid_auto_flow": null,
      "grid_auto_rows": null,
      "grid_column": null,
      "grid_gap": null,
      "grid_row": null,
      "grid_template_areas": null,
      "grid_template_columns": null,
      "grid_template_rows": null,
      "height": null,
      "justify_content": null,
      "justify_items": null,
      "left": null,
      "margin": null,
      "max_height": null,
      "max_width": null,
      "min_height": null,
      "min_width": null,
      "object_fit": null,
      "object_position": null,
      "order": null,
      "overflow": null,
      "overflow_x": null,
      "overflow_y": null,
      "padding": null,
      "right": null,
      "top": null,
      "visibility": null,
      "width": null
     }
    },
    "ccc8457123c14c549dcdd82ad68d8b2e": {
     "model_module": "@jupyter-widgets/base",
     "model_module_version": "1.2.0",
     "model_name": "LayoutModel",
     "state": {
      "_model_module": "@jupyter-widgets/base",
      "_model_module_version": "1.2.0",
      "_model_name": "LayoutModel",
      "_view_count": null,
      "_view_module": "@jupyter-widgets/base",
      "_view_module_version": "1.2.0",
      "_view_name": "LayoutView",
      "align_content": null,
      "align_items": null,
      "align_self": null,
      "border": null,
      "bottom": null,
      "display": null,
      "flex": null,
      "flex_flow": null,
      "grid_area": null,
      "grid_auto_columns": null,
      "grid_auto_flow": null,
      "grid_auto_rows": null,
      "grid_column": null,
      "grid_gap": null,
      "grid_row": null,
      "grid_template_areas": null,
      "grid_template_columns": null,
      "grid_template_rows": null,
      "height": null,
      "justify_content": null,
      "justify_items": null,
      "left": null,
      "margin": null,
      "max_height": null,
      "max_width": null,
      "min_height": null,
      "min_width": null,
      "object_fit": null,
      "object_position": null,
      "order": null,
      "overflow": null,
      "overflow_x": null,
      "overflow_y": null,
      "padding": null,
      "right": null,
      "top": null,
      "visibility": null,
      "width": null
     }
    },
    "d1807998acfc4d62aeb112dbd362e42e": {
     "model_module": "@jupyter-widgets/controls",
     "model_module_version": "1.5.0",
     "model_name": "ProgressStyleModel",
     "state": {
      "_model_module": "@jupyter-widgets/controls",
      "_model_module_version": "1.5.0",
      "_model_name": "ProgressStyleModel",
      "_view_count": null,
      "_view_module": "@jupyter-widgets/base",
      "_view_module_version": "1.2.0",
      "_view_name": "StyleView",
      "bar_color": null,
      "description_width": ""
     }
    },
    "d186fb80b55f44b4851203ffc211c587": {
     "model_module": "@jupyter-widgets/controls",
     "model_module_version": "1.5.0",
     "model_name": "HBoxModel",
     "state": {
      "_dom_classes": [],
      "_model_module": "@jupyter-widgets/controls",
      "_model_module_version": "1.5.0",
      "_model_name": "HBoxModel",
      "_view_count": null,
      "_view_module": "@jupyter-widgets/controls",
      "_view_module_version": "1.5.0",
      "_view_name": "HBoxView",
      "box_style": "",
      "children": [
       "IPY_MODEL_e6823d24a7214c2ba6e82491e27bcd9c",
       "IPY_MODEL_108752d8b1e94611bf0cc2d3fa6b4de6"
      ],
      "layout": "IPY_MODEL_a9b1af092b2a4a2bb70c04455fca643d"
     }
    },
    "d2985ee5d0f8420eaa87866af2023094": {
     "model_module": "@jupyter-widgets/controls",
     "model_module_version": "1.5.0",
     "model_name": "HBoxModel",
     "state": {
      "_dom_classes": [],
      "_model_module": "@jupyter-widgets/controls",
      "_model_module_version": "1.5.0",
      "_model_name": "HBoxModel",
      "_view_count": null,
      "_view_module": "@jupyter-widgets/controls",
      "_view_module_version": "1.5.0",
      "_view_name": "HBoxView",
      "box_style": "",
      "children": [
       "IPY_MODEL_a4c0e9ead08546f0838799ced45a577e",
       "IPY_MODEL_5f82c6ade5fb460c8f81d54ae220350d",
       "IPY_MODEL_2a106ced99204b5d99d1a2c9e1e60abe"
      ],
      "layout": "IPY_MODEL_446aa1bedad64579b494d10911df5338"
     }
    },
    "d8bd7bd387a545dda10e5ae4667a78aa": {
     "model_module": "@jupyter-widgets/controls",
     "model_module_version": "1.5.0",
     "model_name": "ProgressStyleModel",
     "state": {
      "_model_module": "@jupyter-widgets/controls",
      "_model_module_version": "1.5.0",
      "_model_name": "ProgressStyleModel",
      "_view_count": null,
      "_view_module": "@jupyter-widgets/base",
      "_view_module_version": "1.2.0",
      "_view_name": "StyleView",
      "bar_color": null,
      "description_width": ""
     }
    },
    "dfe415ebb788407ebdc618d833daa704": {
     "model_module": "@jupyter-widgets/controls",
     "model_module_version": "1.5.0",
     "model_name": "HTMLModel",
     "state": {
      "_dom_classes": [],
      "_model_module": "@jupyter-widgets/controls",
      "_model_module_version": "1.5.0",
      "_model_name": "HTMLModel",
      "_view_count": null,
      "_view_module": "@jupyter-widgets/controls",
      "_view_module_version": "1.5.0",
      "_view_name": "HTMLView",
      "description": "",
      "description_tooltip": null,
      "layout": "IPY_MODEL_21b50295cb8540bc96c5d2893a98b9c9",
      "placeholder": "​",
      "style": "IPY_MODEL_c535f916a7234e22b0d9a718b5585e26",
      "value": "Summarize dataset: 100%"
     }
    },
    "e0e1fc06684e4926a668448a3d14ec72": {
     "model_module": "@jupyter-widgets/controls",
     "model_module_version": "1.5.0",
     "model_name": "HBoxModel",
     "state": {
      "_dom_classes": [],
      "_model_module": "@jupyter-widgets/controls",
      "_model_module_version": "1.5.0",
      "_model_name": "HBoxModel",
      "_view_count": null,
      "_view_module": "@jupyter-widgets/controls",
      "_view_module_version": "1.5.0",
      "_view_name": "HBoxView",
      "box_style": "",
      "children": [
       "IPY_MODEL_00aacb40bae94001a961dee0e991421c",
       "IPY_MODEL_3b94d0e0489649a3a32b48d8a7b9b2be"
      ],
      "layout": "IPY_MODEL_44d3d5c71ee74c57b191e0d15320c228"
     }
    },
    "e6823d24a7214c2ba6e82491e27bcd9c": {
     "model_module": "@jupyter-widgets/controls",
     "model_module_version": "1.5.0",
     "model_name": "FloatProgressModel",
     "state": {
      "_dom_classes": [],
      "_model_module": "@jupyter-widgets/controls",
      "_model_module_version": "1.5.0",
      "_model_name": "FloatProgressModel",
      "_view_count": null,
      "_view_module": "@jupyter-widgets/controls",
      "_view_module_version": "1.5.0",
      "_view_name": "ProgressView",
      "bar_style": "success",
      "description": "Export report to file: 100%",
      "description_tooltip": null,
      "layout": "IPY_MODEL_0fd454070c17440da07ecf1ffdd9cddf",
      "max": 1,
      "min": 0,
      "orientation": "horizontal",
      "style": "IPY_MODEL_286f29c5e75f4f4ba4d8daa7ca51d65e",
      "value": 1
     }
    },
    "eb9ab2d1d06b4e07bdf41d4e90dad553": {
     "model_module": "@jupyter-widgets/base",
     "model_module_version": "1.2.0",
     "model_name": "LayoutModel",
     "state": {
      "_model_module": "@jupyter-widgets/base",
      "_model_module_version": "1.2.0",
      "_model_name": "LayoutModel",
      "_view_count": null,
      "_view_module": "@jupyter-widgets/base",
      "_view_module_version": "1.2.0",
      "_view_name": "LayoutView",
      "align_content": null,
      "align_items": null,
      "align_self": null,
      "border": null,
      "bottom": null,
      "display": null,
      "flex": null,
      "flex_flow": null,
      "grid_area": null,
      "grid_auto_columns": null,
      "grid_auto_flow": null,
      "grid_auto_rows": null,
      "grid_column": null,
      "grid_gap": null,
      "grid_row": null,
      "grid_template_areas": null,
      "grid_template_columns": null,
      "grid_template_rows": null,
      "height": null,
      "justify_content": null,
      "justify_items": null,
      "left": null,
      "margin": null,
      "max_height": null,
      "max_width": null,
      "min_height": null,
      "min_width": null,
      "object_fit": null,
      "object_position": null,
      "order": null,
      "overflow": null,
      "overflow_x": null,
      "overflow_y": null,
      "padding": null,
      "right": null,
      "top": null,
      "visibility": null,
      "width": null
     }
    },
    "f37f49437df74747bf534d0e03569c2c": {
     "model_module": "@jupyter-widgets/base",
     "model_module_version": "1.2.0",
     "model_name": "LayoutModel",
     "state": {
      "_model_module": "@jupyter-widgets/base",
      "_model_module_version": "1.2.0",
      "_model_name": "LayoutModel",
      "_view_count": null,
      "_view_module": "@jupyter-widgets/base",
      "_view_module_version": "1.2.0",
      "_view_name": "LayoutView",
      "align_content": null,
      "align_items": null,
      "align_self": null,
      "border": null,
      "bottom": null,
      "display": null,
      "flex": null,
      "flex_flow": null,
      "grid_area": null,
      "grid_auto_columns": null,
      "grid_auto_flow": null,
      "grid_auto_rows": null,
      "grid_column": null,
      "grid_gap": null,
      "grid_row": null,
      "grid_template_areas": null,
      "grid_template_columns": null,
      "grid_template_rows": null,
      "height": null,
      "justify_content": null,
      "justify_items": null,
      "left": null,
      "margin": null,
      "max_height": null,
      "max_width": null,
      "min_height": null,
      "min_width": null,
      "object_fit": null,
      "object_position": null,
      "order": null,
      "overflow": null,
      "overflow_x": null,
      "overflow_y": null,
      "padding": null,
      "right": null,
      "top": null,
      "visibility": null,
      "width": null
     }
    },
    "f506b9be3ffa4b449f0b998fff18ed2c": {
     "model_module": "@jupyter-widgets/controls",
     "model_module_version": "1.5.0",
     "model_name": "FloatProgressModel",
     "state": {
      "_dom_classes": [],
      "_model_module": "@jupyter-widgets/controls",
      "_model_module_version": "1.5.0",
      "_model_name": "FloatProgressModel",
      "_view_count": null,
      "_view_module": "@jupyter-widgets/controls",
      "_view_module_version": "1.5.0",
      "_view_name": "ProgressView",
      "bar_style": "success",
      "description": "",
      "description_tooltip": null,
      "layout": "IPY_MODEL_ccc8457123c14c549dcdd82ad68d8b2e",
      "max": 5,
      "min": 0,
      "orientation": "horizontal",
      "style": "IPY_MODEL_bc63790b49b048649dbfa5a335d3ef45",
      "value": 5
     }
    }
   }
  }
 },
 "nbformat": 4,
 "nbformat_minor": 1
}
